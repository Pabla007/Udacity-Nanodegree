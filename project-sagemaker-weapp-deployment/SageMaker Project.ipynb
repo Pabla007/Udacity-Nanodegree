{
 "cells": [
  {
   "cell_type": "markdown",
   "metadata": {},
   "source": [
    "# Creating a Sentiment Analysis Web App\n",
    "## Using PyTorch and SageMaker\n",
    "\n",
    "_Deep Learning Nanodegree Program | Deployment_\n",
    "\n",
    "---\n",
    "\n",
    "Now that we have a basic understanding of how SageMaker works we will try to use it to construct a complete project from end to end. Our goal will be to have a simple web page which a user can use to enter a movie review. The web page will then send the review off to our deployed model which will predict the sentiment of the entered review.\n",
    "\n",
    "## Instructions\n",
    "\n",
    "Some template code has already been provided for you, and you will need to implement additional functionality to successfully complete this notebook. You will not need to modify the included code beyond what is requested. Sections that begin with '**TODO**' in the header indicate that you need to complete or implement some portion within them. Instructions will be provided for each section and the specifics of the implementation are marked in the code block with a `# TODO: ...` comment. Please be sure to read the instructions carefully!\n",
    "\n",
    "In addition to implementing code, there will be questions for you to answer which relate to the task and your implementation. Each section where you will answer a question is preceded by a '**Question:**' header. Carefully read each question and provide your answer below the '**Answer:**' header by editing the Markdown cell.\n",
    "\n",
    "> **Note**: Code and Markdown cells can be executed using the **Shift+Enter** keyboard shortcut. In addition, a cell can be edited by typically clicking it (double-click for Markdown cells) or by pressing **Enter** while it is highlighted.\n",
    "\n",
    "## General Outline\n",
    "\n",
    "Recall the general outline for SageMaker projects using a notebook instance.\n",
    "\n",
    "1. Download or otherwise retrieve the data.\n",
    "2. Process / Prepare the data.\n",
    "3. Upload the processed data to S3.\n",
    "4. Train a chosen model.\n",
    "5. Test the trained model (typically using a batch transform job).\n",
    "6. Deploy the trained model.\n",
    "7. Use the deployed model.\n",
    "\n",
    "For this project, you will be following the steps in the general outline with some modifications. \n",
    "\n",
    "First, you will not be testing the model in its own step. You will still be testing the model, however, you will do it by deploying your model and then using the deployed model by sending the test data to it. One of the reasons for doing this is so that you can make sure that your deployed model is working correctly before moving forward.\n",
    "\n",
    "In addition, you will deploy and use your trained model a second time. In the second iteration you will customize the way that your trained model is deployed by including some of your own code. In addition, your newly deployed model will be used in the sentiment analysis web app."
   ]
  },
  {
   "cell_type": "markdown",
   "metadata": {},
   "source": [
    "## Step 1: Downloading the data\n",
    "\n",
    "As in the XGBoost in SageMaker notebook, we will be using the [IMDb dataset](http://ai.stanford.edu/~amaas/data/sentiment/)\n",
    "\n",
    "> Maas, Andrew L., et al. [Learning Word Vectors for Sentiment Analysis](http://ai.stanford.edu/~amaas/data/sentiment/). In _Proceedings of the 49th Annual Meeting of the Association for Computational Linguistics: Human Language Technologies_. Association for Computational Linguistics, 2011."
   ]
  },
  {
   "cell_type": "code",
   "execution_count": 1,
   "metadata": {},
   "outputs": [
    {
     "name": "stdout",
     "output_type": "stream",
     "text": [
      "mkdir: cannot create directory ‘../data’: File exists\n",
      "--2020-08-11 02:25:46--  http://ai.stanford.edu/~amaas/data/sentiment/aclImdb_v1.tar.gz\n",
      "Resolving ai.stanford.edu (ai.stanford.edu)... 171.64.68.10\n",
      "Connecting to ai.stanford.edu (ai.stanford.edu)|171.64.68.10|:80... connected.\n",
      "HTTP request sent, awaiting response... 200 OK\n",
      "Length: 84125825 (80M) [application/x-gzip]\n",
      "Saving to: ‘../data/aclImdb_v1.tar.gz’\n",
      "\n",
      "../data/aclImdb_v1. 100%[===================>]  80.23M   447KB/s    in 2m 11s  \n",
      "\n",
      "2020-08-11 02:27:57 (628 KB/s) - ‘../data/aclImdb_v1.tar.gz’ saved [84125825/84125825]\n",
      "\n"
     ]
    }
   ],
   "source": [
    "%mkdir ../data\n",
    "!wget -O ../data/aclImdb_v1.tar.gz http://ai.stanford.edu/~amaas/data/sentiment/aclImdb_v1.tar.gz\n",
    "!tar -zxf ../data/aclImdb_v1.tar.gz -C ../data"
   ]
  },
  {
   "cell_type": "markdown",
   "metadata": {},
   "source": [
    "## Step 2: Preparing and Processing the data\n",
    "\n",
    "Also, as in the XGBoost notebook, we will be doing some initial data processing. The first few steps are the same as in the XGBoost example. To begin with, we will read in each of the reviews and combine them into a single input structure. Then, we will split the dataset into a training set and a testing set."
   ]
  },
  {
   "cell_type": "code",
   "execution_count": 1,
   "metadata": {},
   "outputs": [],
   "source": [
    "import os\n",
    "import glob\n",
    "\n",
    "def read_imdb_data(data_dir='../data/aclImdb'):\n",
    "    data = {}\n",
    "    labels = {}\n",
    "    \n",
    "    for data_type in ['train', 'test']:\n",
    "        data[data_type] = {}\n",
    "        labels[data_type] = {}\n",
    "        \n",
    "        for sentiment in ['pos', 'neg']:\n",
    "            data[data_type][sentiment] = []\n",
    "            labels[data_type][sentiment] = []\n",
    "            \n",
    "            path = os.path.join(data_dir, data_type, sentiment, '*.txt')\n",
    "            files = glob.glob(path)\n",
    "            \n",
    "            for f in files:\n",
    "                with open(f) as review:\n",
    "                    data[data_type][sentiment].append(review.read())\n",
    "                    # Here we represent a positive review by '1' and a negative review by '0'\n",
    "                    labels[data_type][sentiment].append(1 if sentiment == 'pos' else 0)\n",
    "                    \n",
    "            assert len(data[data_type][sentiment]) == len(labels[data_type][sentiment]), \\\n",
    "                    \"{}/{} data size does not match labels size\".format(data_type, sentiment)\n",
    "                \n",
    "    return data, labels"
   ]
  },
  {
   "cell_type": "code",
   "execution_count": 2,
   "metadata": {},
   "outputs": [
    {
     "name": "stdout",
     "output_type": "stream",
     "text": [
      "IMDB reviews: train = 12500 pos / 12500 neg, test = 12500 pos / 12500 neg\n"
     ]
    }
   ],
   "source": [
    "data, labels = read_imdb_data()\n",
    "print(\"IMDB reviews: train = {} pos / {} neg, test = {} pos / {} neg\".format(\n",
    "            len(data['train']['pos']), len(data['train']['neg']),\n",
    "            len(data['test']['pos']), len(data['test']['neg'])))"
   ]
  },
  {
   "cell_type": "markdown",
   "metadata": {},
   "source": [
    "Now that we've read the raw training and testing data from the downloaded dataset, we will combine the positive and negative reviews and shuffle the resulting records."
   ]
  },
  {
   "cell_type": "code",
   "execution_count": 3,
   "metadata": {},
   "outputs": [],
   "source": [
    "from sklearn.utils import shuffle\n",
    "\n",
    "def prepare_imdb_data(data, labels):\n",
    "    \"\"\"Prepare training and test sets from IMDb movie reviews.\"\"\"\n",
    "    \n",
    "    #Combine positive and negative reviews and labels\n",
    "    data_train = data['train']['pos'] + data['train']['neg']\n",
    "    data_test = data['test']['pos'] + data['test']['neg']\n",
    "    labels_train = labels['train']['pos'] + labels['train']['neg']\n",
    "    labels_test = labels['test']['pos'] + labels['test']['neg']\n",
    "    \n",
    "    #Shuffle reviews and corresponding labels within training and test sets\n",
    "    data_train, labels_train = shuffle(data_train, labels_train)\n",
    "    data_test, labels_test = shuffle(data_test, labels_test)\n",
    "    \n",
    "    # Return a unified training data, test data, training labels, test labets\n",
    "    return data_train, data_test, labels_train, labels_test"
   ]
  },
  {
   "cell_type": "code",
   "execution_count": 4,
   "metadata": {},
   "outputs": [
    {
     "name": "stdout",
     "output_type": "stream",
     "text": [
      "IMDb reviews (combined): train = 25000, test = 25000\n"
     ]
    }
   ],
   "source": [
    "train_X, test_X, train_y, test_y = prepare_imdb_data(data, labels)\n",
    "print(\"IMDb reviews (combined): train = {}, test = {}\".format(len(train_X), len(test_X)))"
   ]
  },
  {
   "cell_type": "markdown",
   "metadata": {},
   "source": [
    "Now that we have our training and testing sets unified and prepared, we should do a quick check and see an example of the data our model will be trained on. This is generally a good idea as it allows you to see how each of the further processing steps affects the reviews and it also ensures that the data has been loaded correctly."
   ]
  },
  {
   "cell_type": "code",
   "execution_count": 5,
   "metadata": {},
   "outputs": [
    {
     "name": "stdout",
     "output_type": "stream",
     "text": [
      "This is a great movie, I did the play a while ago. It had an extra zing-- to it. I loved Vanessa Williams as Rosey, and also Jason Alexander has a good voice. It was great. The setting were also very good. Except the fact that it is 2 hours and 50 minutes, makes it pretty long. Overall I give it 8.5 stars. They also added a few parts, but it was still cool.\n"
     ]
    }
   ],
   "source": [
    "print(train_X[100])"
   ]
  },
  {
   "cell_type": "code",
   "execution_count": 6,
   "metadata": {},
   "outputs": [
    {
     "name": "stdout",
     "output_type": "stream",
     "text": [
      "1\n"
     ]
    }
   ],
   "source": [
    "print(train_y[100])"
   ]
  },
  {
   "cell_type": "markdown",
   "metadata": {},
   "source": [
    "The first step in processing the reviews is to make sure that any html tags that appear should be removed. In addition we wish to tokenize our input, that way words such as *entertained* and *entertaining* are considered the same with regard to sentiment analysis."
   ]
  },
  {
   "cell_type": "code",
   "execution_count": 7,
   "metadata": {},
   "outputs": [],
   "source": [
    "import nltk\n",
    "from nltk.corpus import stopwords\n",
    "from nltk.stem.porter import *\n",
    "\n",
    "import re\n",
    "from bs4 import BeautifulSoup\n",
    "\n",
    "def review_to_words(review):\n",
    "    nltk.download(\"stopwords\", quiet=True)\n",
    "    stemmer = PorterStemmer()\n",
    "    \n",
    "    text = BeautifulSoup(review, \"html.parser\").get_text() # Remove HTML tags\n",
    "    text = re.sub(r\"[^a-zA-Z0-9]\", \" \", text.lower()) # Convert to lower case\n",
    "    words = text.split() # Split string into words\n",
    "    words = [w for w in words if w not in stopwords.words(\"english\")] # Remove stopwords\n",
    "    words = [PorterStemmer().stem(w) for w in words] # stem\n",
    "    #length = len(words)\n",
    "    #print(length)\n",
    "    return words"
   ]
  },
  {
   "cell_type": "markdown",
   "metadata": {},
   "source": [
    "The `review_to_words` method defined above uses `BeautifulSoup` to remove any html tags that appear and uses the `nltk` package to tokenize the reviews. As a check to ensure we know how everything is working, try applying `review_to_words` to one of the reviews in the training set."
   ]
  },
  {
   "cell_type": "code",
   "execution_count": 8,
   "metadata": {},
   "outputs": [
    {
     "name": "stdout",
     "output_type": "stream",
     "text": [
      "Length of review before sending it to review_to_Words :  359\n",
      "Length of review After sending it to review_to_Words :  38\n"
     ]
    }
   ],
   "source": [
    "# TODO: Apply review_to_words to a review (train_X[100] or any other review)\n",
    "print(\"Length of review before sending it to review_to_Words : \",len(train_X[100]))\n",
    "words = review_to_words(train_X[100])\n",
    "print(\"Length of review After sending it to review_to_Words : \",len(words))\n",
    "#print(len(words))"
   ]
  },
  {
   "cell_type": "markdown",
   "metadata": {},
   "source": [
    "**Question:** Above we mentioned that `review_to_words` method removes html formatting and allows us to tokenize the words found in a review, for example, converting *entertained* and *entertaining* into *entertain* so that they are treated as though they are the same word. What else, if anything, does this method do to the input?"
   ]
  },
  {
   "cell_type": "markdown",
   "metadata": {},
   "source": [
    "**Answer:**\n",
    "\n",
    "After playing with the code i came to know that it also removes words like ` it , is a , or etc ` and we are left with few words as a result that we are remove the un-necessary words and computation that the network has to go through. And this will make the computation faster."
   ]
  },
  {
   "cell_type": "markdown",
   "metadata": {},
   "source": [
    "The method below applies the `review_to_words` method to each of the reviews in the training and testing datasets. In addition it caches the results. This is because performing this processing step can take a long time. This way if you are unable to complete the notebook in the current session, you can come back without needing to process the data a second time."
   ]
  },
  {
   "cell_type": "code",
   "execution_count": 9,
   "metadata": {},
   "outputs": [],
   "source": [
    "import pickle\n",
    "\n",
    "cache_dir = os.path.join(\"../cache\", \"sentiment_analysis\")  # where to store cache files\n",
    "os.makedirs(cache_dir, exist_ok=True)  # ensure cache directory exists\n",
    "\n",
    "def preprocess_data(data_train, data_test, labels_train, labels_test,\n",
    "                    cache_dir=cache_dir, cache_file=\"preprocessed_data.pkl\"):\n",
    "    \"\"\"Convert each review to words; read from cache if available.\"\"\"\n",
    "\n",
    "    # If cache_file is not None, try to read from it first\n",
    "    cache_data = None\n",
    "    if cache_file is not None:\n",
    "        try:\n",
    "            with open(os.path.join(cache_dir, cache_file), \"rb\") as f:\n",
    "                cache_data = pickle.load(f)\n",
    "            print(\"Read preprocessed data from cache file:\", cache_file)\n",
    "        except:\n",
    "            pass  # unable to read from cache, but that's okay\n",
    "    \n",
    "    # If cache is missing, then do the heavy lifting\n",
    "    if cache_data is None:\n",
    "        # Preprocess training and test data to obtain words for each review\n",
    "        #words_train = list(map(review_to_words, data_train))\n",
    "        #words_test = list(map(review_to_words, data_test))\n",
    "        words_train = [review_to_words(review) for review in data_train]\n",
    "        words_test = [review_to_words(review) for review in data_test]\n",
    "        \n",
    "        # Write to cache file for future runs\n",
    "        if cache_file is not None:\n",
    "            cache_data = dict(words_train=words_train, words_test=words_test,\n",
    "                              labels_train=labels_train, labels_test=labels_test)\n",
    "            with open(os.path.join(cache_dir, cache_file), \"wb\") as f:\n",
    "                pickle.dump(cache_data, f)\n",
    "            print(\"Wrote preprocessed data to cache file:\", cache_file)\n",
    "    else:\n",
    "        # Unpack data loaded from cache file\n",
    "        words_train, words_test, labels_train, labels_test = (cache_data['words_train'],\n",
    "                cache_data['words_test'], cache_data['labels_train'], cache_data['labels_test'])\n",
    "    \n",
    "    return words_train, words_test, labels_train, labels_test"
   ]
  },
  {
   "cell_type": "code",
   "execution_count": 10,
   "metadata": {},
   "outputs": [
    {
     "name": "stdout",
     "output_type": "stream",
     "text": [
      "Read preprocessed data from cache file: preprocessed_data.pkl\n"
     ]
    }
   ],
   "source": [
    "# Preprocess data\n",
    "train_X, test_X, train_y, test_y = preprocess_data(train_X, test_X, train_y, test_y)"
   ]
  },
  {
   "cell_type": "markdown",
   "metadata": {},
   "source": [
    "## Transform the data\n",
    "\n",
    "In the XGBoost notebook we transformed the data from its word representation to a bag-of-words feature representation. For the model we are going to construct in this notebook we will construct a feature representation which is very similar. To start, we will represent each word as an integer. Of course, some of the words that appear in the reviews occur very infrequently and so likely don't contain much information for the purposes of sentiment analysis. The way we will deal with this problem is that we will fix the size of our working vocabulary and we will only include the words that appear most frequently. We will then combine all of the infrequent words into a single category and, in our case, we will label it as `1`.\n",
    "\n",
    "Since we will be using a recurrent neural network, it will be convenient if the length of each review is the same. To do this, we will fix a size for our reviews and then pad short reviews with the category 'no word' (which we will label `0`) and truncate long reviews."
   ]
  },
  {
   "cell_type": "markdown",
   "metadata": {},
   "source": [
    "### (TODO) Create a word dictionary\n",
    "\n",
    "To begin with, we need to construct a way to map words that appear in the reviews to integers. Here we fix the size of our vocabulary (including the 'no word' and 'infrequent' categories) to be `5000` but you may wish to change this to see how it affects the model.\n",
    "\n",
    "> **TODO:** Complete the implementation for the `build_dict()` method below. Note that even though the vocab_size is set to `5000`, we only want to construct a mapping for the most frequently appearing `4998` words. This is because we want to reserve the special labels `0` for 'no word' and `1` for 'infrequent word'."
   ]
  },
  {
   "cell_type": "code",
   "execution_count": 11,
   "metadata": {},
   "outputs": [],
   "source": [
    "import numpy as np\n",
    "from collections import Counter\n",
    "\n",
    "def build_dict(data, vocab_size = 5000):\n",
    "    \"\"\"Construct and return a dictionary mapping each of the most frequently appearing words to a unique integer.\"\"\"\n",
    "    \n",
    "    # TODO: Determine how often each word appears in `data`. Note that `data` is a list of sentences and that a\n",
    "    #       sentence is a list of words.\n",
    "    \n",
    "    word_count = {} # A dict storing the words that appear in the reviews along with how often they occur\n",
    "    \n",
    "    word_count = dict(Counter(word for sentence in data for word in sentence))\n",
    "        #word_count[i] = Counter(i)\n",
    "        \n",
    "    #word_count = (Counter(data))\n",
    "    \n",
    "    # TODO: Sort the words found in `data` so that sorted_words[0] is the most frequently appearing word and\n",
    "    #       sorted_words[-1] is the least frequently appearing word.\n",
    "    sorted_words = sorted(word_count, key=word_count.get , reverse=True)\n",
    "    #print(sorted_words)\n",
    "    word_dict = {} # This is what we are building, a dictionary that translates words into integers\n",
    "    for idx, word in enumerate(sorted_words[:vocab_size - 2]): # The -2 is so that we save room for the 'no word'\n",
    "        word_dict[word] = idx + 2                              # 'infrequent' labels\n",
    "        \n",
    "    return word_dict"
   ]
  },
  {
   "cell_type": "code",
   "execution_count": 12,
   "metadata": {},
   "outputs": [
    {
     "name": "stdout",
     "output_type": "stream",
     "text": [
      "{'movi': 2, 'film': 3, 'one': 4, 'like': 5, 'time': 6, 'good': 7, 'make': 8, 'charact': 9, 'get': 10, 'see': 11, 'watch': 12, 'stori': 13, 'even': 14, 'would': 15, 'realli': 16, 'well': 17, 'scene': 18, 'look': 19, 'show': 20, 'much': 21, 'end': 22, 'peopl': 23, 'bad': 24, 'go': 25, 'great': 26, 'also': 27, 'first': 28, 'love': 29, 'think': 30, 'way': 31, 'act': 32, 'play': 33, 'made': 34, 'thing': 35, 'could': 36, 'know': 37, 'say': 38, 'seem': 39, 'work': 40, 'plot': 41, 'two': 42, 'actor': 43, 'year': 44, 'come': 45, 'mani': 46, 'seen': 47, 'take': 48, 'want': 49, 'life': 50, 'never': 51, 'littl': 52, 'best': 53, 'tri': 54, 'man': 55, 'ever': 56, 'give': 57, 'better': 58, 'still': 59, 'perform': 60, 'find': 61, 'feel': 62, 'part': 63, 'back': 64, 'use': 65, 'someth': 66, 'director': 67, 'actual': 68, 'interest': 69, 'lot': 70, 'real': 71, 'old': 72, 'cast': 73, 'though': 74, 'live': 75, 'star': 76, 'enjoy': 77, 'guy': 78, 'anoth': 79, 'new': 80, 'role': 81, 'noth': 82, '10': 83, 'funni': 84, 'music': 85, 'point': 86, 'start': 87, 'set': 88, 'girl': 89, 'origin': 90, 'day': 91, 'world': 92, 'everi': 93, 'believ': 94, 'turn': 95, 'quit': 96, 'direct': 97, 'us': 98, 'thought': 99, 'fact': 100, 'minut': 101, 'horror': 102, 'kill': 103, 'action': 104, 'comedi': 105, 'pretti': 106, 'young': 107, 'wonder': 108, 'happen': 109, 'around': 110, 'got': 111, 'effect': 112, 'right': 113, 'long': 114, 'howev': 115, 'big': 116, 'line': 117, 'famili': 118, 'enough': 119, 'seri': 120, 'may': 121, 'need': 122, 'fan': 123, 'bit': 124, 'script': 125, 'beauti': 126, 'person': 127, 'becom': 128, 'without': 129, 'must': 130, 'alway': 131, 'friend': 132, 'tell': 133, 'reason': 134, 'saw': 135, 'last': 136, 'final': 137, 'kid': 138, 'almost': 139, 'put': 140, 'least': 141, 'sure': 142, 'done': 143, 'whole': 144, 'place': 145, 'complet': 146, 'kind': 147, 'differ': 148, 'expect': 149, 'shot': 150, 'far': 151, 'mean': 152, 'anyth': 153, 'book': 154, 'laugh': 155, 'might': 156, 'name': 157, 'sinc': 158, 'begin': 159, '2': 160, 'probabl': 161, 'woman': 162, 'help': 163, 'entertain': 164, 'let': 165, 'screen': 166, 'call': 167, 'tv': 168, 'moment': 169, 'away': 170, 'read': 171, 'yet': 172, 'rather': 173, 'worst': 174, 'run': 175, 'fun': 176, 'lead': 177, 'hard': 178, 'audienc': 179, 'idea': 180, 'anyon': 181, 'episod': 182, 'american': 183, 'found': 184, 'appear': 185, 'bore': 186, 'especi': 187, 'although': 188, 'hope': 189, 'cours': 190, 'keep': 191, 'anim': 192, 'job': 193, 'goe': 194, 'move': 195, 'sens': 196, 'dvd': 197, 'version': 198, 'war': 199, 'money': 200, 'someon': 201, 'mind': 202, 'mayb': 203, 'problem': 204, 'true': 205, 'hous': 206, 'everyth': 207, 'nice': 208, 'second': 209, 'rate': 210, 'three': 211, 'night': 212, 'follow': 213, 'face': 214, 'recommend': 215, 'product': 216, 'main': 217, 'worth': 218, 'leav': 219, 'human': 220, 'special': 221, 'excel': 222, 'togeth': 223, 'wast': 224, 'sound': 225, 'everyon': 226, 'john': 227, 'hand': 228, '1': 229, 'father': 230, 'later': 231, 'eye': 232, 'said': 233, 'view': 234, 'instead': 235, 'review': 236, 'boy': 237, 'high': 238, 'hour': 239, 'miss': 240, 'classic': 241, 'talk': 242, 'wife': 243, 'understand': 244, 'left': 245, 'care': 246, 'black': 247, 'death': 248, 'open': 249, 'murder': 250, 'write': 251, 'half': 252, 'head': 253, 'rememb': 254, 'chang': 255, 'viewer': 256, 'fight': 257, 'gener': 258, 'surpris': 259, 'includ': 260, 'short': 261, 'die': 262, 'fall': 263, 'less': 264, 'els': 265, 'entir': 266, 'piec': 267, 'involv': 268, 'pictur': 269, 'simpli': 270, 'power': 271, 'home': 272, 'top': 273, 'total': 274, 'usual': 275, 'budget': 276, 'attempt': 277, 'suppos': 278, 'releas': 279, 'hollywood': 280, 'terribl': 281, 'song': 282, 'men': 283, 'possibl': 284, 'featur': 285, 'portray': 286, 'disappoint': 287, 'poor': 288, '3': 289, 'coupl': 290, 'stupid': 291, 'camera': 292, 'dead': 293, 'wrong': 294, 'produc': 295, 'low': 296, 'video': 297, 'either': 298, 'aw': 299, 'definit': 300, 'except': 301, 'rest': 302, 'given': 303, 'absolut': 304, 'women': 305, 'lack': 306, 'word': 307, 'writer': 308, 'titl': 309, 'talent': 310, 'decid': 311, 'full': 312, 'perfect': 313, 'along': 314, 'style': 315, 'close': 316, 'truli': 317, 'school': 318, 'save': 319, 'emot': 320, 'sex': 321, 'age': 322, 'next': 323, 'bring': 324, 'mr': 325, 'case': 326, 'killer': 327, 'heart': 328, 'comment': 329, 'sort': 330, 'creat': 331, 'perhap': 332, 'came': 333, 'brother': 334, 'sever': 335, 'joke': 336, 'art': 337, 'dialogu': 338, 'game': 339, 'small': 340, 'base': 341, 'flick': 342, 'written': 343, 'sequenc': 344, 'meet': 345, 'earli': 346, 'often': 347, 'other': 348, 'mother': 349, 'develop': 350, 'humor': 351, 'actress': 352, 'consid': 353, 'dark': 354, 'guess': 355, 'amaz': 356, 'unfortun': 357, 'lost': 358, 'light': 359, 'exampl': 360, 'cinema': 361, 'drama': 362, 'white': 363, 'ye': 364, 'experi': 365, 'imagin': 366, 'mention': 367, 'stop': 368, 'natur': 369, 'forc': 370, 'manag': 371, 'felt': 372, 'present': 373, 'cut': 374, 'children': 375, 'fail': 376, 'son': 377, 'support': 378, 'car': 379, 'qualiti': 380, 'ask': 381, 'hit': 382, 'side': 383, 'voic': 384, 'extrem': 385, 'impress': 386, 'wors': 387, 'evil': 388, 'stand': 389, 'went': 390, 'certainli': 391, 'basic': 392, 'oh': 393, 'overal': 394, 'favorit': 395, 'horribl': 396, 'mysteri': 397, 'number': 398, 'type': 399, 'danc': 400, 'wait': 401, 'hero': 402, 'alreadi': 403, '5': 404, 'learn': 405, 'matter': 406, '4': 407, 'michael': 408, 'genr': 409, 'fine': 410, 'despit': 411, 'throughout': 412, 'walk': 413, 'success': 414, 'histori': 415, 'question': 416, 'zombi': 417, 'town': 418, 'relationship': 419, 'realiz': 420, 'child': 421, 'past': 422, 'daughter': 423, 'late': 424, 'b': 425, 'wish': 426, 'credit': 427, 'hate': 428, 'event': 429, 'theme': 430, 'touch': 431, 'citi': 432, 'today': 433, 'sometim': 434, 'behind': 435, 'god': 436, 'twist': 437, 'sit': 438, 'deal': 439, 'stay': 440, 'annoy': 441, 'abl': 442, 'rent': 443, 'pleas': 444, 'edit': 445, 'blood': 446, 'deserv': 447, 'anyway': 448, 'comic': 449, 'appar': 450, 'soon': 451, 'gave': 452, 'etc': 453, 'level': 454, 'slow': 455, 'chanc': 456, 'score': 457, 'bodi': 458, 'brilliant': 459, 'incred': 460, 'figur': 461, 'situat': 462, 'self': 463, 'major': 464, 'stuff': 465, 'decent': 466, 'element': 467, 'dream': 468, 'return': 469, 'obvious': 470, 'order': 471, 'continu': 472, 'pace': 473, 'ridicul': 474, 'happi': 475, 'highli': 476, 'group': 477, 'add': 478, 'thank': 479, 'ladi': 480, 'novel': 481, 'pain': 482, 'speak': 483, 'career': 484, 'shoot': 485, 'strang': 486, 'heard': 487, 'sad': 488, 'polic': 489, 'husband': 490, 'import': 491, 'break': 492, 'took': 493, 'cannot': 494, 'strong': 495, 'predict': 496, 'robert': 497, 'violenc': 498, 'hilari': 499, 'recent': 500, 'countri': 501, 'known': 502, 'particularli': 503, 'pick': 504, 'documentari': 505, 'season': 506, 'critic': 507, 'jame': 508, 'compar': 509, 'alon': 510, 'obviou': 511, 'told': 512, 'state': 513, 'visual': 514, 'rock': 515, 'theater': 516, 'exist': 517, 'offer': 518, 'opinion': 519, 'gore': 520, 'crap': 521, 'hold': 522, 'result': 523, 'realiti': 524, 'room': 525, 'hear': 526, 'effort': 527, 'clich': 528, 'thriller': 529, 'caus': 530, 'serious': 531, 'sequel': 532, 'explain': 533, 'king': 534, 'local': 535, 'ago': 536, 'hell': 537, 'none': 538, 'note': 539, 'allow': 540, 'sister': 541, 'david': 542, 'simpl': 543, 'femal': 544, 'deliv': 545, 'ok': 546, 'class': 547, 'convinc': 548, 'check': 549, 'suspens': 550, 'win': 551, 'buy': 552, 'oscar': 553, 'huge': 554, 'valu': 555, 'sexual': 556, 'cool': 557, 'scari': 558, 'excit': 559, 'similar': 560, 'provid': 561, 'apart': 562, 'exactli': 563, 'shown': 564, 'avoid': 565, 'seriou': 566, 'english': 567, 'whose': 568, 'taken': 569, 'cinematographi': 570, 'shock': 571, 'polit': 572, 'spoiler': 573, 'offic': 574, 'across': 575, 'middl': 576, 'street': 577, 'pass': 578, 'messag': 579, 'somewhat': 580, 'silli': 581, 'charm': 582, 'modern': 583, 'confus': 584, 'filmmak': 585, 'form': 586, 'tale': 587, 'singl': 588, 'jack': 589, 'mostli': 590, 'attent': 591, 'william': 592, 'carri': 593, 'sing': 594, 'five': 595, 'subject': 596, 'richard': 597, 'prove': 598, 'team': 599, 'stage': 600, 'unlik': 601, 'cop': 602, 'georg': 603, 'monster': 604, 'televis': 605, 'earth': 606, 'cover': 607, 'villain': 608, 'pay': 609, 'marri': 610, 'toward': 611, 'build': 612, 'pull': 613, 'parent': 614, 'due': 615, 'respect': 616, 'fill': 617, 'dialog': 618, 'four': 619, 'remind': 620, 'futur': 621, 'weak': 622, 'typic': 623, '7': 624, 'cheap': 625, 'intellig': 626, 'atmospher': 627, 'british': 628, '80': 629, 'clearli': 630, 'non': 631, 'dog': 632, 'paul': 633, '8': 634, 'knew': 635, 'fast': 636, 'artist': 637, 'crime': 638, 'easili': 639, 'escap': 640, 'doubt': 641, 'adult': 642, 'detail': 643, 'date': 644, 'romant': 645, 'member': 646, 'fire': 647, 'drive': 648, 'gun': 649, 'straight': 650, 'fit': 651, 'beyond': 652, 'attack': 653, 'imag': 654, 'upon': 655, 'posit': 656, 'whether': 657, 'fantast': 658, 'peter': 659, 'appreci': 660, 'aspect': 661, 'captur': 662, 'ten': 663, 'plan': 664, 'discov': 665, 'remain': 666, 'period': 667, 'near': 668, 'air': 669, 'realist': 670, 'mark': 671, 'red': 672, 'dull': 673, 'adapt': 674, 'within': 675, 'spend': 676, 'lose': 677, 'color': 678, 'materi': 679, 'chase': 680, 'mari': 681, 'storylin': 682, 'forget': 683, 'bunch': 684, 'clear': 685, 'lee': 686, 'victim': 687, 'nearli': 688, 'box': 689, 'york': 690, 'inspir': 691, 'match': 692, 'mess': 693, 'finish': 694, 'standard': 695, 'easi': 696, 'truth': 697, 'busi': 698, 'suffer': 699, 'space': 700, 'dramat': 701, 'bill': 702, 'western': 703, 'e': 704, 'list': 705, 'battl': 706, 'notic': 707, 'de': 708, 'french': 709, 'ad': 710, '9': 711, 'tom': 712, 'larg': 713, 'among': 714, 'eventu': 715, 'accept': 716, 'train': 717, 'agre': 718, 'spirit': 719, 'soundtrack': 720, 'third': 721, 'teenag': 722, 'soldier': 723, 'adventur': 724, 'suggest': 725, 'drug': 726, 'sorri': 727, 'famou': 728, 'babi': 729, 'cri': 730, 'normal': 731, 'troubl': 732, 'ultim': 733, 'contain': 734, 'certain': 735, 'cultur': 736, 'romanc': 737, 'rare': 738, 'lame': 739, 'somehow': 740, 'disney': 741, 'mix': 742, 'gone': 743, 'cartoon': 744, 'student': 745, 'fear': 746, 'reveal': 747, 'suck': 748, 'kept': 749, 'attract': 750, 'appeal': 751, 'premis': 752, 'secret': 753, 'greatest': 754, 'design': 755, 'shame': 756, 'throw': 757, 'scare': 758, 'copi': 759, 'wit': 760, 'america': 761, 'admit': 762, 'particular': 763, 'brought': 764, 'relat': 765, 'screenplay': 766, 'whatev': 767, 'pure': 768, '70': 769, 'averag': 770, 'harri': 771, 'master': 772, 'describ': 773, 'male': 774, 'treat': 775, '20': 776, 'issu': 777, 'fantasi': 778, 'warn': 779, 'inde': 780, 'forward': 781, 'background': 782, 'free': 783, 'project': 784, 'memor': 785, 'japanes': 786, 'poorli': 787, 'award': 788, 'locat': 789, 'amus': 790, 'potenti': 791, 'struggl': 792, 'magic': 793, 'weird': 794, 'societi': 795, 'okay': 796, 'imdb': 797, 'doctor': 798, 'accent': 799, 'hot': 800, 'water': 801, 'dr': 802, 'express': 803, '30': 804, 'alien': 805, 'odd': 806, 'crazi': 807, 'choic': 808, 'studio': 809, 'fiction': 810, 'becam': 811, 'control': 812, 'masterpiec': 813, 'difficult': 814, 'fli': 815, 'joe': 816, 'scream': 817, 'costum': 818, 'lover': 819, 'refer': 820, 'uniqu': 821, 'remak': 822, 'girlfriend': 823, 'vampir': 824, 'prison': 825, 'execut': 826, 'wear': 827, 'jump': 828, 'unless': 829, 'wood': 830, 'creepi': 831, 'cheesi': 832, 'superb': 833, 'otherwis': 834, 'parti': 835, 'roll': 836, 'ghost': 837, 'public': 838, 'mad': 839, 'depict': 840, 'badli': 841, 'moral': 842, 'week': 843, 'earlier': 844, 'jane': 845, 'dumb': 846, 'fi': 847, 'grow': 848, 'flaw': 849, 'deep': 850, 'sci': 851, 'cat': 852, 'maker': 853, 'older': 854, 'footag': 855, 'connect': 856, 'bother': 857, 'plenti': 858, 'outsid': 859, 'stick': 860, 'gay': 861, 'catch': 862, 'co': 863, 'plu': 864, 'popular': 865, 'equal': 866, 'social': 867, 'quickli': 868, 'disturb': 869, 'perfectli': 870, 'dress': 871, 'era': 872, '90': 873, 'mistak': 874, 'lie': 875, 'ride': 876, 'previou': 877, 'combin': 878, 'concept': 879, 'band': 880, 'rich': 881, 'surviv': 882, 'answer': 883, 'front': 884, 'sweet': 885, 'christma': 886, 'insid': 887, 'concern': 888, 'bare': 889, 'eat': 890, 'beat': 891, 'listen': 892, 'ben': 893, 'c': 894, 'serv': 895, 'term': 896, 'meant': 897, 'german': 898, 'la': 899, 'stereotyp': 900, 'hardli': 901, 'innoc': 902, 'law': 903, 'desper': 904, 'memori': 905, 'promis': 906, 'cute': 907, 'intent': 908, 'inform': 909, 'variou': 910, 'steal': 911, 'brain': 912, 'post': 913, 'tone': 914, 'island': 915, 'amount': 916, 'compani': 917, 'track': 918, 'nuditi': 919, 'store': 920, 'claim': 921, 'flat': 922, '50': 923, 'hair': 924, 'univers': 925, 'land': 926, 'fairli': 927, 'scott': 928, 'kick': 929, 'danger': 930, 'player': 931, 'plain': 932, 'step': 933, 'crew': 934, 'toni': 935, 'share': 936, 'tast': 937, 'centuri': 938, 'achiev': 939, 'engag': 940, 'cold': 941, 'travel': 942, 'rip': 943, 'record': 944, 'suit': 945, 'sadli': 946, 'manner': 947, 'spot': 948, 'tension': 949, 'wrote': 950, 'intens': 951, 'fascin': 952, 'familiar': 953, 'burn': 954, 'remark': 955, 'depth': 956, 'destroy': 957, 'histor': 958, 'sleep': 959, 'purpos': 960, 'languag': 961, 'ruin': 962, 'ignor': 963, 'delight': 964, 'unbeliev': 965, 'italian': 966, 'collect': 967, 'soul': 968, 'abil': 969, 'clever': 970, 'detect': 971, 'violent': 972, 'rape': 973, 'reach': 974, 'door': 975, 'scienc': 976, 'trash': 977, 'liter': 978, 'commun': 979, 'caught': 980, 'reveng': 981, 'creatur': 982, 'approach': 983, 'trip': 984, 'fashion': 985, 'intrigu': 986, 'skill': 987, 'paint': 988, 'introduc': 989, 'complex': 990, 'channel': 991, 'camp': 992, 'christian': 993, 'hole': 994, 'extra': 995, 'limit': 996, 'immedi': 997, 'ann': 998, 'mental': 999, 'mere': 1000, 'comput': 1001, 'slightli': 1002, '6': 1003, 'million': 1004, 'conclus': 1005, 'slasher': 1006, 'suddenli': 1007, 'imposs': 1008, 'neither': 1009, 'crimin': 1010, 'teen': 1011, 'physic': 1012, 'nation': 1013, 'spent': 1014, 'respons': 1015, 'planet': 1016, 'fake': 1017, 'receiv': 1018, 'sick': 1019, 'blue': 1020, 'bizarr': 1021, 'embarrass': 1022, 'indian': 1023, '15': 1024, 'ring': 1025, 'pop': 1026, 'drop': 1027, 'drag': 1028, 'haunt': 1029, 'suspect': 1030, 'pointless': 1031, 'edg': 1032, 'search': 1033, 'handl': 1034, 'common': 1035, 'biggest': 1036, 'hurt': 1037, 'faith': 1038, 'arriv': 1039, 'technic': 1040, 'angel': 1041, 'genuin': 1042, 'dad': 1043, 'awesom': 1044, 'f': 1045, 'solid': 1046, 'focu': 1047, 'former': 1048, 'colleg': 1049, 'van': 1050, 'count': 1051, 'heavi': 1052, 'tear': 1053, 'wall': 1054, 'rais': 1055, 'laughabl': 1056, 'visit': 1057, 'younger': 1058, 'fair': 1059, 'excus': 1060, 'sign': 1061, 'cult': 1062, 'key': 1063, 'tough': 1064, 'motion': 1065, 'desir': 1066, 'super': 1067, 'stun': 1068, 'addit': 1069, 'exploit': 1070, 'cloth': 1071, 'smith': 1072, 'tortur': 1073, 'davi': 1074, 'race': 1075, 'cross': 1076, 'author': 1077, 'jim': 1078, 'focus': 1079, 'consist': 1080, 'minor': 1081, 'compel': 1082, 'commit': 1083, 'chemistri': 1084, 'pathet': 1085, 'park': 1086, 'tradit': 1087, 'frank': 1088, 'obsess': 1089, 'grade': 1090, '60': 1091, 'asid': 1092, 'brutal': 1093, 'somewher': 1094, 'steve': 1095, 'u': 1096, 'explor': 1097, 'opportun': 1098, 'rule': 1099, 'depress': 1100, 'grant': 1101, 'honest': 1102, 'besid': 1103, 'dub': 1104, 'anti': 1105, 'trailer': 1106, 'intend': 1107, 'bar': 1108, 'regard': 1109, 'scientist': 1110, 'longer': 1111, 'west': 1112, 'judg': 1113, 'decad': 1114, 'silent': 1115, 'armi': 1116, 'creativ': 1117, 'wild': 1118, 'g': 1119, 'south': 1120, 'stewart': 1121, 'draw': 1122, 'road': 1123, 'govern': 1124, 'boss': 1125, 'ex': 1126, 'practic': 1127, 'festiv': 1128, 'surprisingli': 1129, 'club': 1130, 'gang': 1131, 'motiv': 1132, 'redeem': 1133, 'london': 1134, 'page': 1135, 'green': 1136, 'militari': 1137, 'aliv': 1138, 'machin': 1139, 'display': 1140, 'idiot': 1141, 'repeat': 1142, 'thrill': 1143, 'yeah': 1144, 'folk': 1145, 'nobodi': 1146, '100': 1147, '40': 1148, 'journey': 1149, 'garbag': 1150, 'ground': 1151, 'smile': 1152, 'tire': 1153, 'bought': 1154, 'mood': 1155, 'stone': 1156, 'cost': 1157, 'sam': 1158, 'mouth': 1159, 'noir': 1160, 'terrif': 1161, 'agent': 1162, 'utterli': 1163, 'requir': 1164, 'area': 1165, 'honestli': 1166, 'sexi': 1167, 'geniu': 1168, 'report': 1169, 'enter': 1170, 'investig': 1171, 'humour': 1172, 'glad': 1173, 'serial': 1174, 'occasion': 1175, 'narr': 1176, 'passion': 1177, 'climax': 1178, 'marriag': 1179, 'studi': 1180, 'industri': 1181, 'nowher': 1182, 'demon': 1183, 'charli': 1184, 'ship': 1185, 'center': 1186, 'loos': 1187, 'bear': 1188, 'hors': 1189, 'hang': 1190, 'wow': 1191, 'graphic': 1192, 'admir': 1193, 'giant': 1194, 'send': 1195, 'damn': 1196, 'loud': 1197, 'subtl': 1198, 'rel': 1199, 'profession': 1200, 'nake': 1201, 'blow': 1202, 'bottom': 1203, 'batman': 1204, 'insult': 1205, 'doubl': 1206, 'kelli': 1207, 'r': 1208, 'boyfriend': 1209, 'initi': 1210, 'frame': 1211, 'gem': 1212, 'opera': 1213, 'church': 1214, 'affect': 1215, 'challeng': 1216, 'cinemat': 1217, 'drawn': 1218, 'evid': 1219, 'seek': 1220, 'nightmar': 1221, 'j': 1222, 'l': 1223, 'fulli': 1224, 'essenti': 1225, 'arm': 1226, 'conflict': 1227, 'grace': 1228, 'wind': 1229, 'henri': 1230, 'christoph': 1231, 'narrat': 1232, 'assum': 1233, 'witch': 1234, 'push': 1235, 'hunt': 1236, 'wise': 1237, 'chri': 1238, 'repres': 1239, 'month': 1240, 'nomin': 1241, 'sceneri': 1242, 'hide': 1243, 'avail': 1244, 'affair': 1245, 'bond': 1246, 'thu': 1247, 'justic': 1248, 'smart': 1249, 'flashback': 1250, 'outstand': 1251, 'interview': 1252, 'presenc': 1253, 'constantli': 1254, 'satisfi': 1255, 'central': 1256, 'bed': 1257, 'content': 1258, 'sell': 1259, 'iron': 1260, 'gag': 1261, 'everybodi': 1262, 'hotel': 1263, 'slowli': 1264, 'hire': 1265, 'system': 1266, 'individu': 1267, 'charl': 1268, 'adam': 1269, 'hey': 1270, 'thrown': 1271, 'jone': 1272, 'mediocr': 1273, 'allen': 1274, 'billi': 1275, 'ray': 1276, 'lesson': 1277, 'photographi': 1278, 'cameo': 1279, 'fellow': 1280, 'pari': 1281, 'strike': 1282, 'independ': 1283, 'rise': 1284, 'absurd': 1285, 'brief': 1286, 'neg': 1287, 'impact': 1288, 'phone': 1289, 'born': 1290, 'ill': 1291, 'model': 1292, 'fresh': 1293, 'angl': 1294, 'spoil': 1295, 'abus': 1296, 'likabl': 1297, 'hill': 1298, 'discuss': 1299, 'sight': 1300, 'ahead': 1301, 'photograph': 1302, 'sent': 1303, 'blame': 1304, 'occur': 1305, 'logic': 1306, 'shine': 1307, 'mainli': 1308, 'bruce': 1309, 'commerci': 1310, 'forev': 1311, 'skip': 1312, 'surround': 1313, 'held': 1314, 'teacher': 1315, 'segment': 1316, 'zero': 1317, 'blond': 1318, 'trap': 1319, 'resembl': 1320, 'satir': 1321, 'summer': 1322, 'six': 1323, 'ball': 1324, 'fool': 1325, 'queen': 1326, 'twice': 1327, 'sub': 1328, 'tragedi': 1329, 'pack': 1330, 'reaction': 1331, 'bomb': 1332, 'protagonist': 1333, 'hospit': 1334, 'will': 1335, 'sport': 1336, 'mile': 1337, 'drink': 1338, 'trust': 1339, 'jerri': 1340, 'vote': 1341, 'mom': 1342, 'encount': 1343, 'plane': 1344, 'station': 1345, 'program': 1346, 'al': 1347, 'current': 1348, 'choos': 1349, 'martin': 1350, 'celebr': 1351, 'join': 1352, 'tragic': 1353, 'lord': 1354, 'favourit': 1355, 'field': 1356, 'round': 1357, 'robot': 1358, 'vision': 1359, 'jean': 1360, 'tie': 1361, 'arthur': 1362, 'random': 1363, 'roger': 1364, 'fortun': 1365, 'psycholog': 1366, 'dread': 1367, 'intern': 1368, 'improv': 1369, 'prefer': 1370, 'nonsens': 1371, 'epic': 1372, 'legend': 1373, 'pleasur': 1374, 'highlight': 1375, 'formula': 1376, 'dollar': 1377, 'tape': 1378, '11': 1379, 'fox': 1380, 'thin': 1381, 'wide': 1382, 'object': 1383, 'gorgeou': 1384, 'porn': 1385, 'ugli': 1386, 'buddi': 1387, 'influenc': 1388, 'ii': 1389, 'nasti': 1390, 'prepar': 1391, 'warm': 1392, 'reflect': 1393, 'supposedli': 1394, 'progress': 1395, 'worthi': 1396, 'youth': 1397, 'unusu': 1398, 'length': 1399, 'latter': 1400, 'crash': 1401, 'seven': 1402, 'childhood': 1403, 'shop': 1404, 'superior': 1405, 'theatr': 1406, 'remot': 1407, 'disgust': 1408, 'paid': 1409, 'funniest': 1410, 'pilot': 1411, 'trick': 1412, 'convers': 1413, 'fell': 1414, 'castl': 1415, 'establish': 1416, 'gangster': 1417, 'rob': 1418, 'disast': 1419, 'ident': 1420, 'mine': 1421, 'disappear': 1422, 'heaven': 1423, 'suicid': 1424, 'mask': 1425, 'heroin': 1426, 'forgotten': 1427, 'tend': 1428, 'decis': 1429, 'singer': 1430, 'partner': 1431, 'brian': 1432, 'desert': 1433, 'alan': 1434, 'recogn': 1435, 'thoroughli': 1436, 'sky': 1437, 'stuck': 1438, 'p': 1439, 'ms': 1440, 'replac': 1441, 'accur': 1442, 'market': 1443, 'commentari': 1444, 'clue': 1445, 'eddi': 1446, 'seemingli': 1447, 'andi': 1448, 'uncl': 1449, 'danni': 1450, 'jackson': 1451, 'devil': 1452, 'that': 1453, 'refus': 1454, 'pair': 1455, 'therefor': 1456, 'fate': 1457, 'accid': 1458, 'ed': 1459, 'unit': 1460, 'river': 1461, 'fault': 1462, 'tune': 1463, 'afraid': 1464, 'hidden': 1465, 'clean': 1466, 'russian': 1467, 'stephen': 1468, 'test': 1469, 'convey': 1470, 'irrit': 1471, 'quick': 1472, 'readi': 1473, 'instanc': 1474, 'captain': 1475, 'european': 1476, 'frustrat': 1477, 'daniel': 1478, 'insan': 1479, '1950': 1480, 'rescu': 1481, 'wed': 1482, 'food': 1483, 'chines': 1484, 'angri': 1485, 'lock': 1486, 'dirti': 1487, 'joy': 1488, 'steven': 1489, 'price': 1490, 'cage': 1491, 'bland': 1492, 'anymor': 1493, 'rang': 1494, 'wooden': 1495, 'n': 1496, 'rush': 1497, 'news': 1498, 'jason': 1499, 'twenti': 1500, 'worri': 1501, 'board': 1502, '12': 1503, 'led': 1504, 'martial': 1505, 'symbol': 1506, 'transform': 1507, 'cgi': 1508, 'hunter': 1509, 'x': 1510, 'onto': 1511, 'piti': 1512, 'sentiment': 1513, 'johnni': 1514, 'invent': 1515, 'attitud': 1516, 'process': 1517, 'explan': 1518, 'awar': 1519, 'owner': 1520, 'aim': 1521, 'energi': 1522, 'favor': 1523, 'target': 1524, 'necessari': 1525, 'floor': 1526, 'opposit': 1527, 'religi': 1528, 'chick': 1529, 'window': 1530, 'insight': 1531, 'blind': 1532, 'movement': 1533, 'comparison': 1534, 'deepli': 1535, 'mountain': 1536, 'possess': 1537, 'research': 1538, 'whatsoev': 1539, 'rain': 1540, 'grand': 1541, 'comed': 1542, 'mid': 1543, 'bank': 1544, 'began': 1545, 'shadow': 1546, 'parodi': 1547, 'princ': 1548, 'friendship': 1549, 'credibl': 1550, 'weapon': 1551, 'taylor': 1552, 'pre': 1553, 'flesh': 1554, 'teach': 1555, 'dougla': 1556, 'terror': 1557, 'protect': 1558, 'hint': 1559, 'bloodi': 1560, 'marvel': 1561, 'drunk': 1562, 'leader': 1563, 'load': 1564, 'watchabl': 1565, 'anybodi': 1566, 'accord': 1567, 'superman': 1568, 'brown': 1569, 'freddi': 1570, 'hitler': 1571, 'appropri': 1572, 'tim': 1573, 'jeff': 1574, 'seat': 1575, 'unknown': 1576, 'knock': 1577, 'charg': 1578, 'keaton': 1579, 'villag': 1580, 'unnecessari': 1581, 'media': 1582, 'empti': 1583, 'enemi': 1584, 'england': 1585, 'craft': 1586, 'wave': 1587, 'perspect': 1588, 'buck': 1589, 'dare': 1590, 'strength': 1591, 'utter': 1592, 'kiss': 1593, 'correct': 1594, 'ford': 1595, 'nativ': 1596, 'contrast': 1597, 'knowledg': 1598, 'magnific': 1599, 'distract': 1600, 'nazi': 1601, 'anywher': 1602, 'soap': 1603, 'chill': 1604, 'speed': 1605, 'mission': 1606, '1980': 1607, 'breath': 1608, 'ice': 1609, 'fred': 1610, 'joan': 1611, 'moon': 1612, 'jr': 1613, 'crowd': 1614, 'frighten': 1615, 'kate': 1616, 'soft': 1617, '000': 1618, 'dick': 1619, 'nick': 1620, 'hundr': 1621, 'dan': 1622, 'radio': 1623, 'dozen': 1624, 'somebodi': 1625, 'simon': 1626, 'loss': 1627, 'andrew': 1628, 'academi': 1629, 'thousand': 1630, 'shakespear': 1631, 'account': 1632, 'vehicl': 1633, 'root': 1634, 'quot': 1635, 'sum': 1636, '1970': 1637, 'convent': 1638, 'leg': 1639, 'behavior': 1640, 'gold': 1641, 'regular': 1642, 'pretenti': 1643, 'compet': 1644, 'worker': 1645, 'demand': 1646, 'stretch': 1647, 'japan': 1648, 'interpret': 1649, 'lynch': 1650, 'explos': 1651, 'privat': 1652, 'notabl': 1653, 'candi': 1654, 'debut': 1655, 'constant': 1656, 'tarzan': 1657, 'sea': 1658, 'spi': 1659, 'prais': 1660, 'translat': 1661, 'revolv': 1662, 'sat': 1663, 'technolog': 1664, 'jesu': 1665, 'quiet': 1666, 'franc': 1667, 'threaten': 1668, 'failur': 1669, 'ass': 1670, 'higher': 1671, 'toy': 1672, 'punch': 1673, 'kevin': 1674, 'met': 1675, 'aid': 1676, 'abandon': 1677, 'mike': 1678, 'vh': 1679, 'interact': 1680, 'confront': 1681, 'separ': 1682, 'bet': 1683, 'command': 1684, 'gotten': 1685, 'techniqu': 1686, 'belong': 1687, 'servic': 1688, 'site': 1689, 'stunt': 1690, 'recal': 1691, 'foot': 1692, 'freak': 1693, 'bug': 1694, 'cabl': 1695, 'bright': 1696, 'jimmi': 1697, 'capabl': 1698, 'african': 1699, 'fu': 1700, 'boat': 1701, 'fat': 1702, 'stock': 1703, 'succeed': 1704, 'presid': 1705, 'clark': 1706, 'spanish': 1707, 'structur': 1708, 'gene': 1709, 'kidnap': 1710, 'paper': 1711, 'factor': 1712, 'belief': 1713, 'whilst': 1714, 'realism': 1715, 'attend': 1716, 'complic': 1717, 'educ': 1718, 'witti': 1719, 'bob': 1720, 'tree': 1721, 'realis': 1722, 'santa': 1723, 'finest': 1724, 'broken': 1725, 'assist': 1726, 'smoke': 1727, 'observ': 1728, 'determin': 1729, 'depart': 1730, 'up': 1731, 'v': 1732, 'rubbish': 1733, 'routin': 1734, 'domin': 1735, 'fame': 1736, 'oper': 1737, 'hat': 1738, 'lewi': 1739, 'safe': 1740, 'advanc': 1741, 'kinda': 1742, 'foreign': 1743, 'hook': 1744, 'lone': 1745, 'morgan': 1746, 'numer': 1747, 'rank': 1748, 'rose': 1749, 'werewolf': 1750, 'civil': 1751, 'shape': 1752, 'washington': 1753, 'vs': 1754, 'shallow': 1755, 'morn': 1756, 'gari': 1757, 'ordinari': 1758, 'kong': 1759, 'winner': 1760, 'accomplish': 1761, 'whenev': 1762, 'virtual': 1763, 'grab': 1764, 'peac': 1765, 'offens': 1766, 'luck': 1767, 'h': 1768, 'contriv': 1769, 'unfunni': 1770, 'patient': 1771, 'activ': 1772, 'bigger': 1773, 'welcom': 1774, 'complain': 1775, 'trek': 1776, 'dimension': 1777, 'pretend': 1778, 'con': 1779, 'code': 1780, 'dri': 1781, 'flash': 1782, 'wake': 1783, 'eric': 1784, 'lesbian': 1785, 'cain': 1786, 'dancer': 1787, 'manipul': 1788, 'corrupt': 1789, 'albert': 1790, 'guard': 1791, 'statu': 1792, 'signific': 1793, 'speech': 1794, 'sourc': 1795, 'context': 1796, 'gain': 1797, 'awkward': 1798, 'clip': 1799, 'corni': 1800, 'sean': 1801, '13': 1802, 'anthoni': 1803, 'psycho': 1804, 'advic': 1805, 'w': 1806, 'religion': 1807, 'curiou': 1808, 'reli': 1809, 'priest': 1810, 'theatric': 1811, 'addict': 1812, 'flow': 1813, 'jennif': 1814, 'howard': 1815, 'specif': 1816, 'skin': 1817, 'asian': 1818, 'secur': 1819, 'golden': 1820, 'promot': 1821, 'organ': 1822, 'comfort': 1823, 'luke': 1824, 'core': 1825, 'lucki': 1826, 'cheat': 1827, 'cash': 1828, 'dislik': 1829, 'associ': 1830, 'lower': 1831, 'degre': 1832, 'frequent': 1833, 'devic': 1834, 'balanc': 1835, 'wing': 1836, 'frankli': 1837, 'regret': 1838, 'contribut': 1839, 'spell': 1840, 'forgiv': 1841, 'print': 1842, 'lake': 1843, 'sake': 1844, 'thoma': 1845, 'mass': 1846, 'betti': 1847, 'crack': 1848, 'unexpect': 1849, 'gordon': 1850, 'categori': 1851, 'unfold': 1852, 'amateur': 1853, 'invit': 1854, 'construct': 1855, 'depend': 1856, 'grown': 1857, 'grew': 1858, 'honor': 1859, 'condit': 1860, 'matur': 1861, 'intellectu': 1862, 'walter': 1863, 'anna': 1864, 'spectacular': 1865, 'veteran': 1866, 'sudden': 1867, 'sole': 1868, 'mirror': 1869, 'robin': 1870, 'card': 1871, 'gift': 1872, 'grip': 1873, 'demonstr': 1874, 'liner': 1875, 'overli': 1876, 'meanwhil': 1877, 'experienc': 1878, 'freedom': 1879, 'drew': 1880, 'crappi': 1881, 'circumst': 1882, 'theori': 1883, 'brilliantli': 1884, 'colour': 1885, 'subtitl': 1886, 'oliv': 1887, 'sheriff': 1888, 'section': 1889, 'unabl': 1890, 'sheer': 1891, 'path': 1892, 'cook': 1893, 'matt': 1894, 'pile': 1895, 'parker': 1896, 'laughter': 1897, 'altern': 1898, 'wander': 1899, 'defin': 1900, 'relief': 1901, 'accident': 1902, 'hall': 1903, 'lawyer': 1904, 'treatment': 1905, 'sinatra': 1906, 'captiv': 1907, 'hank': 1908, 'dragon': 1909, 'gratuit': 1910, 'moor': 1911, 'halloween': 1912, 'k': 1913, 'cowboy': 1914, 'wound': 1915, 'jacki': 1916, 'barbara': 1917, 'broadway': 1918, 'unintent': 1919, 'wayn': 1920, 'kung': 1921, 'surreal': 1922, 'statement': 1923, 'winter': 1924, 'spoof': 1925, 'canadian': 1926, 'treasur': 1927, 'fare': 1928, 'cheer': 1929, 'gonna': 1930, 'compos': 1931, 'fish': 1932, 'unrealist': 1933, 'sensit': 1934, 'emerg': 1935, 'victor': 1936, 'woodi': 1937, 'driven': 1938, 'neighbor': 1939, 'ran': 1940, 'sympathet': 1941, 'glass': 1942, 'overlook': 1943, 'expos': 1944, 'topic': 1945, 'authent': 1946, 'menac': 1947, 'chief': 1948, 'handsom': 1949, 'ancient': 1950, 'michel': 1951, 'gross': 1952, 'cinderella': 1953, 'contemporari': 1954, 'pleasant': 1955, 'built': 1956, 'network': 1957, 'comedian': 1958, 'russel': 1959, 'stranger': 1960, 'feet': 1961, 'nevertheless': 1962, 'endless': 1963, 'earn': 1964, 'blockbust': 1965, 'letter': 1966, 'miser': 1967, 'underr': 1968, 'consider': 1969, 'gori': 1970, 'switch': 1971, 'solv': 1972, 'brook': 1973, 'bullet': 1974, 'convict': 1975, 'virgin': 1976, 'edward': 1977, 'joseph': 1978, 'victoria': 1979, 'cynic': 1980, '0': 1981, 'scenario': 1982, 'scale': 1983, 'chosen': 1984, 'alex': 1985, 'gut': 1986, 'outrag': 1987, 'com': 1988, 'curs': 1989, 'sword': 1990, 'juli': 1991, 'driver': 1992, 'proper': 1993, 'monkey': 1994, 'substanc': 1995, 'wrap': 1996, 'screenwrit': 1997, 'uk': 1998, 'indic': 1999, 'bird': 2000, 'remov': 2001, 'court': 2002, 'par': 2003, 'rental': 2004, 'grave': 2005, 'advertis': 2006, 'nanci': 2007, 'inevit': 2008, 'roy': 2009, 'loser': 2010, 'consequ': 2011, 'naiv': 2012, 'slap': 2013, 'bridg': 2014, 'le': 2015, 'invis': 2016, 'fatal': 2017, 'germani': 2018, 'brave': 2019, 'ador': 2020, 'footbal': 2021, 'anger': 2022, 'provok': 2023, 'loui': 2024, 'alcohol': 2025, 'anderson': 2026, 'chan': 2027, 'stumbl': 2028, 'professor': 2029, 'willi': 2030, 'ryan': 2031, 'patrick': 2032, 'assassin': 2033, 'australian': 2034, 'bat': 2035, 'sharp': 2036, '1930': 2037, 'amateurish': 2038, 'deni': 2039, 'saturday': 2040, 'trilog': 2041, 'eight': 2042, 'strongli': 2043, 'cell': 2044, 'lousi': 2045, 'heck': 2046, 'refresh': 2047, 'ape': 2048, 'liber': 2049, 'sin': 2050, 'vagu': 2051, 'san': 2052, 'justifi': 2053, 'resid': 2054, 'creator': 2055, 'defeat': 2056, 'indi': 2057, 'sympathi': 2058, 'reput': 2059, 'mini': 2060, 'terrifi': 2061, 'tediou': 2062, 'task': 2063, 'prevent': 2064, 'tabl': 2065, 'expert': 2066, 'endur': 2067, 'rival': 2068, 'trial': 2069, 'che': 2070, 'employ': 2071, 'basebal': 2072, 'imit': 2073, 'offend': 2074, 'max': 2075, 'complaint': 2076, 'weekend': 2077, 'fairi': 2078, 'beach': 2079, 'dig': 2080, 'europ': 2081, 'pitch': 2082, 'format': 2083, 'risk': 2084, 'purchas': 2085, 'murphi': 2086, 'hype': 2087, 'nois': 2088, 'tini': 2089, 'titan': 2090, 'glimps': 2091, 'powel': 2092, 'harsh': 2093, 'bite': 2094, 'reminisc': 2095, 'prime': 2096, 'asleep': 2097, '14': 2098, 'fals': 2099, 'north': 2100, 'strip': 2101, 'till': 2102, 'descript': 2103, 'destruct': 2104, 'revel': 2105, 'africa': 2106, 'texa': 2107, 'excess': 2108, 'sitcom': 2109, 'spin': 2110, 'semi': 2111, 'uninterest': 2112, 'arrest': 2113, 'surfac': 2114, 'inner': 2115, 'massiv': 2116, 'makeup': 2117, 'controversi': 2118, 'dinosaur': 2119, 'maintain': 2120, 'twin': 2121, 'argu': 2122, 'hitchcock': 2123, 'expens': 2124, 'insist': 2125, 'ludicr': 2126, 'stare': 2127, 'reject': 2128, 'ideal': 2129, 'melodrama': 2130, 'kim': 2131, 'atroci': 2132, 'columbo': 2133, 'ala': 2134, 'erot': 2135, 'press': 2136, 'ga': 2137, 'supernatur': 2138, 'nail': 2139, 'forest': 2140, 'host': 2141, 'subplot': 2142, 'cant': 2143, 'notch': 2144, 'presum': 2145, 'identifi': 2146, 'dude': 2147, 'guest': 2148, 'plagu': 2149, 'character': 2150, 'method': 2151, 'crude': 2152, 'closer': 2153, 'forgett': 2154, 'ear': 2155, 'lion': 2156, 'landscap': 2157, 'foster': 2158, 'princess': 2159, 'border': 2160, 'beast': 2161, 'storytel': 2162, 'birth': 2163, 'urban': 2164, 'previous': 2165, 'accus': 2166, 'pacino': 2167, 'aunt': 2168, 'jungl': 2169, 'bound': 2170, 'damag': 2171, 'chose': 2172, 'thirti': 2173, 'emma': 2174, 'jess': 2175, 'nude': 2176, 'propaganda': 2177, 'guid': 2178, 'doll': 2179, 'mate': 2180, 'warrior': 2181, 'whoever': 2182, 'mainstream': 2183, 'pet': 2184, '25': 2185, 'latest': 2186, 'size': 2187, 'upset': 2188, 'friday': 2189, 'cooper': 2190, 'gritti': 2191, 'poster': 2192, 'exact': 2193, 'merit': 2194, 'deadli': 2195, 'blend': 2196, 'corps': 2197, 'contact': 2198, 'popul': 2199, '1990': 2200, 'warner': 2201, 'citizen': 2202, 'wilson': 2203, 'settl': 2204, 'sun': 2205, 'contest': 2206, 'ton': 2207, 'rough': 2208, 'buff': 2209, 'widow': 2210, 'select': 2211, 'mgm': 2212, 'rat': 2213, 'metal': 2214, 'bu': 2215, 'alic': 2216, 'environ': 2217, 'overcom': 2218, 'pitt': 2219, 'revolut': 2220, 'ted': 2221, 'link': 2222, 'guilti': 2223, 'particip': 2224, 'lift': 2225, '1960': 2226, 'afternoon': 2227, 'exagger': 2228, 'moron': 2229, 'accompani': 2230, 'matrix': 2231, 'corpor': 2232, 'prostitut': 2233, 'johnson': 2234, 'corner': 2235, 'doom': 2236, 'sincer': 2237, 'clair': 2238, 'leagu': 2239, 'holm': 2240, 'multipl': 2241, 'hood': 2242, 'friendli': 2243, 'instal': 2244, 'blah': 2245, 'aka': 2246, 'examin': 2247, 'junk': 2248, 'hip': 2249, 'campi': 2250, 'string': 2251, 'advis': 2252, 'defend': 2253, 'sunday': 2254, 'irish': 2255, 'grim': 2256, 'lugosi': 2257, 'pro': 2258, 'icon': 2259, 'tight': 2260, 'varieti': 2261, 'shake': 2262, 'confid': 2263, 'shut': 2264, 'rachel': 2265, 'mexican': 2266, 'jaw': 2267, 'sullivan': 2268, 'medic': 2269, 'attach': 2270, 'denni': 2271, 'directli': 2272, 'goal': 2273, 'courag': 2274, 'vietnam': 2275, 'terrorist': 2276, 'dean': 2277, 'sentenc': 2278, 'sarah': 2279, 'prior': 2280, 'legendari': 2281, 'duke': 2282, 'breast': 2283, 'truck': 2284, 'bourn': 2285, 'entri': 2286, 'behav': 2287, 'proceed': 2288, 'hong': 2289, 'yell': 2290, 'split': 2291, 'nose': 2292, 'un': 2293, 'donald': 2294, 'gather': 2295, 'stolen': 2296, 'everywher': 2297, 'crush': 2298, 'unconvinc': 2299, 'forth': 2300, 'confess': 2301, 'swim': 2302, 'jerk': 2303, 'buri': 2304, 'borrow': 2305, 'lifetim': 2306, 'concentr': 2307, 'julia': 2308, 'deliveri': 2309, 'spite': 2310, 'turkey': 2311, 'california': 2312, 'pan': 2313, 'lip': 2314, 'offici': 2315, 'reward': 2316, 'quest': 2317, 'proud': 2318, 'flight': 2319, 'downright': 2320, 'hoffman': 2321, 'china': 2322, 'freeman': 2323, 'betray': 2324, 'sink': 2325, 'encourag': 2326, 'fade': 2327, 'jon': 2328, 'inept': 2329, 'worthwhil': 2330, 'fabul': 2331, 'lazi': 2332, 'sir': 2333, 'notori': 2334, 'jail': 2335, 'teeth': 2336, 'retard': 2337, 'imageri': 2338, 'survivor': 2339, 'relev': 2340, 'shower': 2341, 'storm': 2342, 'lisa': 2343, 'cousin': 2344, 'bell': 2345, 'branagh': 2346, 'bag': 2347, 'susan': 2348, 'quirki': 2349, 'summari': 2350, 'tremend': 2351, 'facial': 2352, 'toler': 2353, 'stab': 2354, 'shark': 2355, 'trade': 2356, 'finger': 2357, 'alright': 2358, 'mexico': 2359, 'hugh': 2360, 'bride': 2361, 'hyster': 2362, 'bitter': 2363, 'blown': 2364, 'von': 2365, 'ha': 2366, 'pose': 2367, 'scheme': 2368, 'christ': 2369, 'larri': 2370, 'cruel': 2371, 'afterward': 2372, 'bone': 2373, 'ron': 2374, 'address': 2375, 'ned': 2376, 'screw': 2377, 'traci': 2378, 'tour': 2379, 'feed': 2380, 'snake': 2381, 'swear': 2382, 'beg': 2383, 'thumb': 2384, 'distinct': 2385, 'pursu': 2386, 'mechan': 2387, 'stomach': 2388, 'photo': 2389, 'raw': 2390, 'occas': 2391, 'obscur': 2392, 'chair': 2393, 'resist': 2394, 'holiday': 2395, 'necessarili': 2396, 'argument': 2397, 'cabin': 2398, 'render': 2399, 'heavili': 2400, 'chain': 2401, 'sidney': 2402, 'gruesom': 2403, 'southern': 2404, 'hardi': 2405, 'india': 2406, 'understood': 2407, 'philip': 2408, 'racist': 2409, 'indulg': 2410, 'satan': 2411, 'fourth': 2412, 'lay': 2413, 'outfit': 2414, 'midnight': 2415, 'integr': 2416, 'obnoxi': 2417, 'forgot': 2418, 'tongu': 2419, 'pregnant': 2420, 'stalk': 2421, 'belov': 2422, 'garden': 2423, 'restor': 2424, 'deeper': 2425, 'inhabit': 2426, 'ticket': 2427, 'carol': 2428, '17': 2429, 'slapstick': 2430, 'magazin': 2431, 'devot': 2432, 'brad': 2433, 'lincoln': 2434, 'shoe': 2435, 'incid': 2436, 'underground': 2437, 'elizabeth': 2438, 'anticip': 2439, 'disbelief': 2440, 'benefit': 2441, 'lili': 2442, 'maria': 2443, 'sandler': 2444, 'divorc': 2445, 'guarante': 2446, 'mildli': 2447, 'creation': 2448, 'amazingli': 2449, 'cring': 2450, 'princip': 2451, 'bbc': 2452, 'capit': 2453, 'greater': 2454, 'slave': 2455, 'explod': 2456, 'halfway': 2457, 'extraordinari': 2458, 'introduct': 2459, 'lesli': 2460, 'funnier': 2461, 'transfer': 2462, 'tap': 2463, 'enhanc': 2464, 'punish': 2465, 'extent': 2466, 'overwhelm': 2467, 'advantag': 2468, 'text': 2469, 'wreck': 2470, 'jessica': 2471, 'horrif': 2472, 'preview': 2473, 'lane': 2474, 'lo': 2475, 'dynam': 2476, 'east': 2477, 'plant': 2478, 'deliber': 2479, 'error': 2480, 'appli': 2481, '2000': 2482, 'basi': 2483, 'vacat': 2484, 'homosexu': 2485, 'miller': 2486, 'miscast': 2487, 'vincent': 2488, 'sophist': 2489, 'ensu': 2490, 'spoken': 2491, 'mansion': 2492, 'uncomfort': 2493, 'elev': 2494, 'extend': 2495, 'bollywood': 2496, 'steel': 2497, 'via': 2498, 'measur': 2499, 'reed': 2500, 'sleazi': 2501, 'daili': 2502, 'alter': 2503, 'beer': 2504, 'hippi': 2505, 'conceiv': 2506, 'stanley': 2507, 'blair': 2508, 'assign': 2509, 'breathtak': 2510, 'mous': 2511, 'fix': 2512, 'goofi': 2513, 'dentist': 2514, 'overact': 2515, 'cathol': 2516, 'melt': 2517, 'savag': 2518, 'inspector': 2519, 'properli': 2520, 'oppos': 2521, 'subsequ': 2522, 'succe': 2523, 'sacrific': 2524, 'burt': 2525, 'everyday': 2526, 'carpent': 2527, 'nowaday': 2528, 'block': 2529, 'circl': 2530, 'massacr': 2531, 'laura': 2532, 'neck': 2533, 'access': 2534, 'grey': 2535, 'fallen': 2536, 'concert': 2537, 'mob': 2538, 'portrait': 2539, 'lesser': 2540, 'fay': 2541, 'pool': 2542, 'christi': 2543, 'seagal': 2544, 'relax': 2545, 'competit': 2546, 'isol': 2547, 'sinist': 2548, 'jake': 2549, 'react': 2550, 'chees': 2551, 'usa': 2552, 'jewish': 2553, 'lyric': 2554, 'immens': 2555, 'appal': 2556, 'nonetheless': 2557, 'chop': 2558, 'spiritu': 2559, 'nine': 2560, 'creep': 2561, 'suitabl': 2562, 'stink': 2563, 'ironi': 2564, '2006': 2565, 'shirt': 2566, 'user': 2567, 'retir': 2568, 'franchis': 2569, 'luci': 2570, 'rage': 2571, 'adopt': 2572, 'nut': 2573, 'navi': 2574, 'reduc': 2575, 'needless': 2576, 'showcas': 2577, 'spring': 2578, 'sold': 2579, 'digit': 2580, 'bath': 2581, 'zone': 2582, 'uninspir': 2583, 'jay': 2584, 'asham': 2585, 'nurs': 2586, 'per': 2587, 'bulli': 2588, 'stanwyck': 2589, 'amongst': 2590, 'oddli': 2591, '2001': 2592, '1940': 2593, 'laid': 2594, 'broadcast': 2595, 'upper': 2596, 'illustr': 2597, 'sutherland': 2598, 'disguis': 2599, 'baker': 2600, 'aspir': 2601, 'fulfil': 2602, 'stylish': 2603, 'throat': 2604, 'brando': 2605, 'nobl': 2606, 'endear': 2607, '18': 2608, 'pride': 2609, 'wwii': 2610, 'thief': 2611, 'em': 2612, 'wanna': 2613, 'neighborhood': 2614, 'impli': 2615, 'pound': 2616, '16': 2617, 'dawn': 2618, 'cinematograph': 2619, 'shift': 2620, 'prop': 2621, 'shoulder': 2622, 'albeit': 2623, 'dinner': 2624, 'coher': 2625, 'bo': 2626, 'bett': 2627, 'distribut': 2628, 'tens': 2629, 'diseas': 2630, 'rochest': 2631, 'snow': 2632, 'knife': 2633, 'forti': 2634, 'poignant': 2635, 'rebel': 2636, 'wash': 2637, 'function': 2638, 'surf': 2639, 'silenc': 2640, 'contract': 2641, 'shout': 2642, 'matthau': 2643, 'mindless': 2644, 'chuck': 2645, 'cancel': 2646, 'duti': 2647, 'henc': 2648, 'eeri': 2649, 'silver': 2650, 'internet': 2651, 'derek': 2652, 'widmark': 2653, 'horrend': 2654, 'height': 2655, 'instinct': 2656, 'heat': 2657, 'cannib': 2658, 'reunion': 2659, 'proof': 2660, 'elvira': 2661, 'neat': 2662, 'torn': 2663, 'alik': 2664, 'mill': 2665, 'repetit': 2666, 'innov': 2667, 'pie': 2668, 'musician': 2669, 'absorb': 2670, 'glori': 2671, 'premier': 2672, 'greatli': 2673, 'spielberg': 2674, 'elvi': 2675, 'incoher': 2676, 'etern': 2677, 'racism': 2678, 'itali': 2679, 'britain': 2680, 'trite': 2681, 'precis': 2682, 'nelson': 2683, 'burton': 2684, 'diamond': 2685, 'announc': 2686, 'lovabl': 2687, 'wealthi': 2688, 'horrifi': 2689, 'infam': 2690, 'redempt': 2691, 'bang': 2692, 'blank': 2693, 'fbi': 2694, 'crisi': 2695, 'homag': 2696, 'parallel': 2697, 'happili': 2698, 'streisand': 2699, 'ensembl': 2700, 'hammer': 2701, 'dedic': 2702, 'pat': 2703, 'flop': 2704, 'wilder': 2705, 'resolut': 2706, 'helen': 2707, 'chaplin': 2708, 'oil': 2709, 'carter': 2710, 'plastic': 2711, 'mar': 2712, 'st': 2713, 'conclud': 2714, 'triumph': 2715, 'disagre': 2716, 'factori': 2717, 'cube': 2718, 'broke': 2719, 'own': 2720, 'rocket': 2721, 'march': 2722, 'climb': 2723, 'chuckl': 2724, 'vega': 2725, 'row': 2726, 'weight': 2727, 'bush': 2728, 'fighter': 2729, 'spare': 2730, 'thug': 2731, 'meaning': 2732, 'sensibl': 2733, 'unforgett': 2734, 'dane': 2735, 'enorm': 2736, 'luca': 2737, 'dump': 2738, 'kurt': 2739, 'mst3k': 2740, 'wherea': 2741, 'boot': 2742, 'lust': 2743, 'rap': 2744, 'difficulti': 2745, 'butt': 2746, 'caricatur': 2747, 'threat': 2748, 'brand': 2749, 'engin': 2750, 'fifti': 2751, 'dear': 2752, 'karloff': 2753, 'adequ': 2754, 'bobbi': 2755, 'arnold': 2756, 'stress': 2757, 'ego': 2758, 'elabor': 2759, 'secretari': 2760, 'arrog': 2761, 'swing': 2762, 'polish': 2763, 'fest': 2764, 'journalist': 2765, 'homeless': 2766, 'barri': 2767, 'hamlet': 2768, 'flynn': 2769, 'ralph': 2770, 'resort': 2771, 'unbear': 2772, 'induc': 2773, 'puppet': 2774, 'conspiraci': 2775, 'arrang': 2776, 'tool': 2777, 'fanci': 2778, 'grate': 2779, 'simpson': 2780, 'float': 2781, 'spike': 2782, 'boll': 2783, 'basement': 2784, 'cruis': 2785, 'guilt': 2786, 'muppet': 2787, 'choreograph': 2788, 'exercis': 2789, 'phillip': 2790, 'pig': 2791, 'tribut': 2792, 'puzzl': 2793, 'item': 2794, 'tower': 2795, 'file': 2796, 'ward': 2797, 'ham': 2798, 'medium': 2799, 'slip': 2800, 'layer': 2801, 'toilet': 2802, 'stan': 2803, 'korean': 2804, '24': 2805, 'scarecrow': 2806, 'document': 2807, 'editor': 2808, 'babe': 2809, 'fianc': 2810, 'territori': 2811, 'librari': 2812, 'inexplic': 2813, 'transit': 2814, 'portion': 2815, 'minim': 2816, 'larger': 2817, 'superfici': 2818, 'denzel': 2819, 'assur': 2820, 'persona': 2821, 'spark': 2822, 'orient': 2823, 'doc': 2824, 'slaughter': 2825, 'philosoph': 2826, 'catherin': 2827, 'glover': 2828, 'boredom': 2829, 'financi': 2830, 'pg': 2831, 'dorothi': 2832, 'owe': 2833, 'shi': 2834, 'sneak': 2835, 'walken': 2836, 'wolf': 2837, 'curti': 2838, 'jeremi': 2839, 'ban': 2840, 'jet': 2841, 'profound': 2842, 'hudson': 2843, 'multi': 2844, 'ambigu': 2845, 'metaphor': 2846, 'eleph': 2847, 'backdrop': 2848, 'cusack': 2849, 'whale': 2850, 'viru': 2851, 'stiff': 2852, 'notion': 2853, 'union': 2854, '2005': 2855, 'elsewher': 2856, 'ultra': 2857, 'rave': 2858, 'hack': 2859, 'birthday': 2860, 'implaus': 2861, 'gadget': 2862, 'pad': 2863, 'squar': 2864, 'urg': 2865, 'newspap': 2866, 'slight': 2867, 'disc': 2868, 'hawk': 2869, 'afford': 2870, 'deriv': 2871, '1st': 2872, 'canada': 2873, 'bibl': 2874, 'distanc': 2875, 'lloyd': 2876, 'eva': 2877, 'poison': 2878, 'reader': 2879, 'eastwood': 2880, 'superhero': 2881, 'huh': 2882, 'skit': 2883, 'montag': 2884, 'cure': 2885, 'spread': 2886, 'charisma': 2887, 'restaur': 2888, 'essenc': 2889, 'health': 2890, 'button': 2891, 'drown': 2892, 'sadist': 2893, 'heston': 2894, 'maniac': 2895, 'peak': 2896, 'dealt': 2897, 'companion': 2898, 'godfath': 2899, 'lab': 2900, 'estat': 2901, 'invest': 2902, 'fetch': 2903, 'gradual': 2904, 'scoobi': 2905, 'muslim': 2906, 'tea': 2907, 'kane': 2908, 'servant': 2909, 'cup': 2910, 'gothic': 2911, 'subtleti': 2912, 'ritter': 2913, 'alli': 2914, 'countless': 2915, 'miik': 2916, 'salli': 2917, 'briefli': 2918, 'charismat': 2919, 'heroic': 2920, 'iii': 2921, 'elect': 2922, 'electr': 2923, 'admittedli': 2924, 'wannab': 2925, 'nuanc': 2926, 'ingredi': 2927, 'cole': 2928, 'bud': 2929, 'toss': 2930, 'tender': 2931, 'reel': 2932, 'resourc': 2933, 'neil': 2934, 'grandmoth': 2935, 'label': 2936, 'poverti': 2937, 'carrey': 2938, 'pit': 2939, 'stronger': 2940, 'pauli': 2941, 'stood': 2942, 'reev': 2943, 'shall': 2944, 'kubrick': 2945, 'mild': 2946, 'punk': 2947, 'dawson': 2948, 'mafia': 2949, 'gate': 2950, 'assault': 2951, 'burst': 2952, 'smooth': 2953, 'terri': 2954, 'ian': 2955, 'smash': 2956, 'useless': 2957, 'fond': 2958, 'updat': 2959, 'cardboard': 2960, 'easier': 2961, 'cox': 2962, 'astair': 2963, 'tag': 2964, 'bakshi': 2965, 'outcom': 2966, 'divers': 2967, 'rex': 2968, 'vulner': 2969, 'melodramat': 2970, 'fist': 2971, 'sketch': 2972, 'increasingli': 2973, 'qualifi': 2974, 'exchang': 2975, 'resolv': 2976, 'samurai': 2977, '2002': 2978, 'coincid': 2979, 'vari': 2980, 'scratch': 2981, 'templ': 2982, 'tame': 2983, 'blast': 2984, 'luckili': 2985, 'brillianc': 2986, 'reynold': 2987, 'suspend': 2988, 'be': 2989, 'insert': 2990, 'conveni': 2991, 'ambiti': 2992, 'coach': 2993, 'fisher': 2994, 'nuclear': 2995, 'strictli': 2996, 'jami': 2997, 'hamilton': 2998, 'meat': 2999, 'farm': 3000, 'gotta': 3001, 'matthew': 3002, 'soprano': 3003, 'seventi': 3004, 'pin': 3005, 'walker': 3006, 'worthless': 3007, 'empir': 3008, 'monk': 3009, 'discoveri': 3010, 'recreat': 3011, 'clock': 3012, 'struck': 3013, 'butcher': 3014, 'instantli': 3015, 'kudo': 3016, 'ninja': 3017, 'convolut': 3018, 'closet': 3019, 'grasp': 3020, 'revers': 3021, 'timeless': 3022, 'spooki': 3023, 'cave': 3024, 'eccentr': 3025, 'joey': 3026, 'brosnan': 3027, 'clown': 3028, 'pal': 3029, 'mitchel': 3030, 'communist': 3031, 'miracl': 3032, 'importantli': 3033, 'bleak': 3034, 'cliff': 3035, 'inconsist': 3036, 'sidekick': 3037, 'gray': 3038, 'declar': 3039, 'selfish': 3040, 'evok': 3041, 'wipe': 3042, 'seller': 3043, 'eighti': 3044, 'partli': 3045, 'fifteen': 3046, 'norman': 3047, 'sloppi': 3048, 'lifestyl': 3049, 'cheek': 3050, 'piano': 3051, 'debat': 3052, 'seed': 3053, 'ho': 3054, 'psychiatrist': 3055, 'destin': 3056, '45': 3057, 'aforement': 3058, 'superbl': 3059, 'chew': 3060, 'stoog': 3061, 'flawless': 3062, 'australia': 3063, 'enthusiast': 3064, 'websit': 3065, 'farc': 3066, 'soviet': 3067, 'dash': 3068, 'wrestl': 3069, 'anni': 3070, 'directori': 3071, 'bash': 3072, 'abc': 3073, 'drivel': 3074, 'slice': 3075, 'incompet': 3076, 'splatter': 3077, 'dire': 3078, 'pressur': 3079, 'kitchen': 3080, 'akshay': 3081, 'wick': 3082, 'emili': 3083, 'regardless': 3084, 'artifici': 3085, 'recov': 3086, 'increas': 3087, 'judi': 3088, 'flower': 3089, 'cameron': 3090, 'doo': 3091, 'suppli': 3092, 'glow': 3093, 'pleasantli': 3094, 'distant': 3095, 'beaten': 3096, 'jar': 3097, 'ken': 3098, 'boil': 3099, 'curios': 3100, 'seduc': 3101, 'chapter': 3102, 'helicopt': 3103, 'blob': 3104, 'cagney': 3105, 'lou': 3106, 'dave': 3107, 'prize': 3108, 'cia': 3109, 'duo': 3110, 'mann': 3111, 'turner': 3112, 'hop': 3113, 'craig': 3114, 'web': 3115, 'eleg': 3116, 'drunken': 3117, 'panic': 3118, 'combat': 3119, 'favour': 3120, 'ranger': 3121, 'perri': 3122, 'glenn': 3123, 'laurel': 3124, 'craven': 3125, 'goldberg': 3126, 'ellen': 3127, 'psychot': 3128, 'francisco': 3129, 'splendid': 3130, 'ruth': 3131, 'falk': 3132, 'philosophi': 3133, 'hatr': 3134, 'graduat': 3135, 'alexand': 3136, 'gentl': 3137, 'slightest': 3138, 'min': 3139, 'wizard': 3140, 'modesti': 3141, 'shortli': 3142, 'gandhi': 3143, 'plausibl': 3144, 'fx': 3145, 'rid': 3146, 'greek': 3147, '20th': 3148, 'flip': 3149, 'holi': 3150, 'futurist': 3151, 'felix': 3152, 'tall': 3153, 'manhattan': 3154, 'knight': 3155, 'jealou': 3156, 'unpleas': 3157, 'legal': 3158, 'dracula': 3159, 'ocean': 3160, 'preciou': 3161, 'lend': 3162, 'harm': 3163, 'we': 3164, 'fund': 3165, 'childish': 3166, 'scientif': 3167, 'forbidden': 3168, 'bless': 3169, 'giallo': 3170, 'ami': 3171, 'mock': 3172, 'explicit': 3173, 'thread': 3174, 'nod': 3175, 'reviv': 3176, 'overdon': 3177, 'digniti': 3178, 'tank': 3179, 'elderli': 3180, '2004': 3181, 'torment': 3182, 'thick': 3183, '99': 3184, 'eve': 3185, 'awaken': 3186, 'margaret': 3187, 'awe': 3188, 'broad': 3189, 'pirat': 3190, 'yesterday': 3191, 'nerv': 3192, 'mel': 3193, 'repeatedli': 3194, 'unwatch': 3195, 'fever': 3196, 'verhoeven': 3197, 'rivet': 3198, 'absenc': 3199, 'eas': 3200, 'launch': 3201, 'ambit': 3202, 'publish': 3203, 'lean': 3204, 'uniform': 3205, 'ah': 3206, 'roman': 3207, 'custom': 3208, 'timothi': 3209, 'automat': 3210, 'griffith': 3211, 'acclaim': 3212, 'stiller': 3213, 'politician': 3214, 'bin': 3215, 'royal': 3216, 'kay': 3217, 'romero': 3218, 'antic': 3219, 'purpl': 3220, 'gabriel': 3221, 'foul': 3222, 'tomato': 3223, 'warren': 3224, 'darker': 3225, 'stinker': 3226, 'sunshin': 3227, 'transport': 3228, 'termin': 3229, 'crook': 3230, 'bathroom': 3231, 'homicid': 3232, 'phrase': 3233, 'wallac': 3234, 'pulp': 3235, 'pierc': 3236, 'rambo': 3237, '2003': 3238, 'evolv': 3239, 'horrid': 3240, 'kenneth': 3241, 'album': 3242, 'brazil': 3243, 'coloni': 3244, 'ought': 3245, 'revolutionari': 3246, 'donna': 3247, 'prom': 3248, 'marin': 3249, 'saint': 3250, 'pray': 3251, 'awak': 3252, 'juvenil': 3253, 'contrari': 3254, 'sixti': 3255, 'packag': 3256, 'li': 3257, 'eyr': 3258, 'karen': 3259, 'viciou': 3260, 'q': 3261, 'hollow': 3262, 'choreographi': 3263, 'option': 3264, 'mildr': 3265, 'defi': 3266, 'ireland': 3267, 'blade': 3268, 'stole': 3269, 'mummi': 3270, 'kapoor': 3271, 'overr': 3272, 'candid': 3273, 'beatti': 3274, 'nerd': 3275, 'ramon': 3276, 'twelv': 3277, 'dose': 3278, 'boast': 3279, 'conserv': 3280, 'collabor': 3281, 'fulci': 3282, 'flame': 3283, 'detract': 3284, 'protest': 3285, 'funer': 3286, 'natali': 3287, 'astonish': 3288, 'kirk': 3289, 'trio': 3290, 'altman': 3291, 'confirm': 3292, 'jazz': 3293, 'global': 3294, 'whip': 3295, 'yellow': 3296, 'enterpris': 3297, 'destini': 3298, 'leap': 3299, 'audio': 3300, 'delici': 3301, 'shade': 3302, 'bottl': 3303, 'nicholson': 3304, 'bull': 3305, 'blake': 3306, 'tommi': 3307, 'spit': 3308, 'mystic': 3309, 'racial': 3310, 'bedroom': 3311, 'altogeth': 3312, 'adolesc': 3313, 'harder': 3314, 'enchant': 3315, 'fonda': 3316, 'todd': 3317, 'reunit': 3318, 'threw': 3319, 'pseudo': 3320, 'neo': 3321, 'inherit': 3322, 'vivid': 3323, 'merci': 3324, 'meaningless': 3325, 'staff': 3326, 'visibl': 3327, 'popcorn': 3328, 'swedish': 3329, 'respond': 3330, 'uneven': 3331, 'edi': 3332, 'kennedi': 3333, 'atlanti': 3334, 'suspici': 3335, 'await': 3336, 'synopsi': 3337, 'jew': 3338, 'leonard': 3339, 'roommat': 3340, 'exhibit': 3341, 'voight': 3342, 'ruthless': 3343, 'befriend': 3344, 'lemmon': 3345, 'bust': 3346, 'moodi': 3347, 'wire': 3348, 'lawrenc': 3349, 'decor': 3350, 'crocodil': 3351, 'madonna': 3352, 'fanat': 3353, 'reserv': 3354, 'tip': 3355, 'rural': 3356, 'clumsi': 3357, 'bold': 3358, 'centr': 3359, 'bradi': 3360, 'voyag': 3361, 'holli': 3362, 'audit': 3363, 'dimens': 3364, 'carl': 3365, '2007': 3366, 'incident': 3367, 'chao': 3368, 'clint': 3369, 'abysm': 3370, 'garner': 3371, 'unsettl': 3372, 'ventur': 3373, 'bargain': 3374, 'palma': 3375, 'cuba': 3376, 'mall': 3377, 'poetic': 3378, 'tiger': 3379, '2nd': 3380, 'elimin': 3381, 'versu': 3382, 'humili': 3383, 'neglect': 3384, 'immigr': 3385, 'trail': 3386, 'characterist': 3387, 'ant': 3388, 'nearbi': 3389, 'imperson': 3390, 'wealth': 3391, 'acknowledg': 3392, 'troop': 3393, 'cari': 3394, 'cd': 3395, 'lit': 3396, 'timon': 3397, 'echo': 3398, 'daddi': 3399, 'hart': 3400, 'mistaken': 3401, 'homer': 3402, 'infect': 3403, 'mickey': 3404, 'celluloid': 3405, 'pun': 3406, 'saga': 3407, 'paus': 3408, 'domest': 3409, 'marshal': 3410, 'prejudic': 3411, 'repuls': 3412, 'collaps': 3413, 'jeffrey': 3414, 'solo': 3415, 'inappropri': 3416, 'tribe': 3417, 'gear': 3418, 'interrupt': 3419, 'inan': 3420, 'coffe': 3421, 'equip': 3422, 'apolog': 3423, 'milk': 3424, 'hbo': 3425, 'coat': 3426, 'pant': 3427, 'undoubtedli': 3428, 'leon': 3429, 'cake': 3430, 'promin': 3431, 'sore': 3432, 'ginger': 3433, 'chest': 3434, '1996': 3435, 'harvey': 3436, 'assembl': 3437, 'olivi': 3438, 'pot': 3439, 'florida': 3440, 'pen': 3441, 'consum': 3442, 'colleagu': 3443, 'highest': 3444, 'primari': 3445, 'aveng': 3446, 'embrac': 3447, 'retain': 3448, 'solut': 3449, 'humbl': 3450, 'devast': 3451, 'polanski': 3452, 'exot': 3453, 'furthermor': 3454, 'colonel': 3455, 'institut': 3456, 'airplan': 3457, 'brooklyn': 3458, 'vulgar': 3459, 'maggi': 3460, 'instant': 3461, 'jenni': 3462, 'trace': 3463, 'sale': 3464, 'gender': 3465, '3rd': 3466, 'principl': 3467, 'strain': 3468, 'ya': 3469, 'descend': 3470, 'outer': 3471, 'disabl': 3472, 'dutch': 3473, 'poke': 3474, '1999': 3475, 'wive': 3476, 'seduct': 3477, 'dian': 3478, 'godzilla': 3479, 'illog': 3480, 'rick': 3481, 'bowl': 3482, 'cope': 3483, 'smaller': 3484, 'linda': 3485, 'bubbl': 3486, 'yard': 3487, 'cue': 3488, 'secondli': 3489, 'gloriou': 3490, 'gundam': 3491, 'inferior': 3492, 'mixtur': 3493, 'vast': 3494, 'dud': 3495, 'beneath': 3496, 'primarili': 3497, 'dive': 3498, 'lol': 3499, 'predecessor': 3500, 'hal': 3501, 'devoid': 3502, 'blatant': 3503, 'rabbit': 3504, 'glamor': 3505, 'scope': 3506, 'casual': 3507, 'aggress': 3508, 'talki': 3509, 'pearl': 3510, 'april': 3511, 'simplist': 3512, 'alert': 3513, 'alfr': 3514, 'hideou': 3515, 'et': 3516, 'countrysid': 3517, 'disjoint': 3518, 'shelf': 3519, 'streep': 3520, 'senseless': 3521, 'domino': 3522, 'myer': 3523, 'grinch': 3524, 'invas': 3525, 'museum': 3526, 'z': 3527, 'arab': 3528, 'trademark': 3529, 'breed': 3530, 'shirley': 3531, 'garbo': 3532, 'loyal': 3533, 'stellar': 3534, 'disgrac': 3535, 'uwe': 3536, 'robberi': 3537, 'illeg': 3538, 'rendit': 3539, 'oz': 3540, 'sh': 3541, 'hardcor': 3542, 'hopeless': 3543, 'unhappi': 3544, 'experiment': 3545, 'robinson': 3546, 'vanish': 3547, 'stir': 3548, 'khan': 3549, 'defens': 3550, 'maci': 3551, 'slide': 3552, 'mail': 3553, 'boom': 3554, 'mayor': 3555, 'acid': 3556, 'applaud': 3557, 'obtain': 3558, 'stack': 3559, 'craze': 3560, 'hartley': 3561, 'grandfath': 3562, 'incomprehens': 3563, 'dismiss': 3564, 'span': 3565, 'amanda': 3566, 'tempt': 3567, 'spider': 3568, 'berlin': 3569, 'counter': 3570, 'declin': 3571, 'emphasi': 3572, 'blew': 3573, 'topless': 3574, 'psychic': 3575, 'wont': 3576, 'soccer': 3577, 'dicken': 3578, 'scroog': 3579, 'diana': 3580, 'recruit': 3581, 'tenant': 3582, 'fri': 3583, 'rifl': 3584, 'woo': 3585, 'sibl': 3586, 'parad': 3587, 'porno': 3588, 'bitch': 3589, 'justin': 3590, 'shed': 3591, 'riot': 3592, 'revolt': 3593, 'niro': 3594, 'shaw': 3595, 'intim': 3596, 'goer': 3597, 'trashi': 3598, 'resurrect': 3599, 'ration': 3600, 'sympath': 3601, 'faster': 3602, 'wet': 3603, 'ethnic': 3604, 'lumet': 3605, 'dealer': 3606, 'slick': 3607, 'jonathan': 3608, 'enlighten': 3609, 'ensur': 3610, 'unreal': 3611, 'immort': 3612, 'steam': 3613, 'farmer': 3614, 'andr': 3615, 'lena': 3616, 'choru': 3617, 'commend': 3618, 'honesti': 3619, 'partial': 3620, 'region': 3621, 'eager': 3622, 'worm': 3623, 'rider': 3624, 'hopper': 3625, 'patriot': 3626, 'biographi': 3627, 'wheel': 3628, 'feminist': 3629, 'gap': 3630, 'wendi': 3631, 'weakest': 3632, '00': 3633, 'nephew': 3634, 'mario': 3635, 'hesit': 3636, 'ballet': 3637, 'sappi': 3638, 'morri': 3639, 'wore': 3640, 'util': 3641, 'leo': 3642, 'confin': 3643, 'psychopath': 3644, 'vice': 3645, 'mutant': 3646, 'owen': 3647, 'safeti': 3648, 'prequel': 3649, 'repress': 3650, 'sandra': 3651, 'properti': 3652, 'hung': 3653, 'similarli': 3654, 'composit': 3655, 'franco': 3656, 'skull': 3657, 'charlott': 3658, 'snap': 3659, 'kingdom': 3660, 'victori': 3661, 'blunt': 3662, 'nostalg': 3663, 'macarthur': 3664, 'recycl': 3665, 'campbel': 3666, 'hyde': 3667, 'repli': 3668, 'compens': 3669, 'rope': 3670, 'rambl': 3671, 'latin': 3672, 'nervou': 3673, 'pattern': 3674, 'bonu': 3675, 'despair': 3676, 'bumbl': 3677, 'acquir': 3678, 'drum': 3679, 'strand': 3680, 'deed': 3681, 'bow': 3682, 'tail': 3683, 'tad': 3684, 'compass': 3685, 'thru': 3686, 'montana': 3687, 'heartbreak': 3688, 'dust': 3689, 'farrel': 3690, 'rocki': 3691, 'valuabl': 3692, 'drain': 3693, 'emperor': 3694, 'cg': 3695, '1972': 3696, 'exit': 3697, 'snl': 3698, 'speci': 3699, 'kyle': 3700, 'whoopi': 3701, 'dalton': 3702, 'del': 3703, 'miseri': 3704, 'bergman': 3705, 'radic': 3706, 'rotten': 3707, 'airport': 3708, 'pour': 3709, 'romp': 3710, 'oppress': 3711, 'wacki': 3712, 'contempl': 3713, 'slug': 3714, 'martian': 3715, 'gimmick': 3716, 'roth': 3717, 'percept': 3718, 'gal': 3719, 'mistress': 3720, '35': 3721, 'rapist': 3722, 'carradin': 3723, 'tonight': 3724, 'downhil': 3725, 'bleed': 3726, 'da': 3727, 'chess': 3728, 'orson': 3729, 'olli': 3730, 'pursuit': 3731, 'stilt': 3732, 'belt': 3733, 'pervers': 3734, 'mislead': 3735, 'heal': 3736, 'preach': 3737, 'unpredict': 3738, 'tackl': 3739, 'tooth': 3740, 'arc': 3741, 'shelley': 3742, 'taught': 3743, 'programm': 3744, 'edgar': 3745, 'paltrow': 3746, 'pervert': 3747, 'arguabl': 3748, 'champion': 3749, 'attorney': 3750, 'dazzl': 3751, 'slash': 3752, 'melodi': 3753, 'banal': 3754, '1983': 3755, 'conneri': 3756, 'uplift': 3757, 'maid': 3758, 'mesmer': 3759, 'employe': 3760, 'cleverli': 3761, 'poem': 3762, 'passeng': 3763, 'virginia': 3764, 'rubi': 3765, 'gambl': 3766, 'graham': 3767, 'vengeanc': 3768, 'orang': 3769, 'dixon': 3770, 'tiresom': 3771, 'chicken': 3772, 'raymond': 3773, 'closest': 3774, 'duval': 3775, 'marti': 3776, 'plight': 3777, 'sensat': 3778, 'franki': 3779, 'vocal': 3780, 'bela': 3781, 'scottish': 3782, 'volum': 3783, 'convincingli': 3784, 'climact': 3785, 'secretli': 3786, 'paranoia': 3787, 'crystal': 3788, 'monologu': 3789, 'abraham': 3790, 'quarter': 3791, 'pokemon': 3792, 'calm': 3793, 'inject': 3794, 'mute': 3795, 'numb': 3796, 'swallow': 3797, 'tube': 3798, 'habit': 3799, 'giggl': 3800, 'outing': 3801, 'suffic': 3802, 'whine': 3803, 'extens': 3804, 'clone': 3805, 'yawn': 3806, 'gerard': 3807, 'bay': 3808, '1968': 3809, 'iran': 3810, 'profan': 3811, 'engross': 3812, 'amitabh': 3813, 'sirk': 3814, 'lundgren': 3815, 'surpass': 3816, 'taxi': 3817, 'meander': 3818, 'junior': 3819, 'expand': 3820, 'plod': 3821, 'im': 3822, 'linger': 3823, 'backward': 3824, 'grotesqu': 3825, 'ethan': 3826, 'profess': 3827, 'lowest': 3828, 'chicago': 3829, 'septemb': 3830, 'richardson': 3831, 'frankenstein': 3832, 'bend': 3833, 'fed': 3834, 'poetri': 3835, 'nichola': 3836, 'austen': 3837, 'earl': 3838, 'underst': 3839, 'abort': 3840, 'dispos': 3841, 'trend': 3842, 'franci': 3843, 'spock': 3844, 'dysfunct': 3845, 'spoke': 3846, 'lure': 3847, 'tourist': 3848, 'hum': 3849, 'mundan': 3850, 'myth': 3851, 'econom': 3852, 'nostalgia': 3853, 'household': 3854, 'muddl': 3855, 'eugen': 3856, 'instrument': 3857, 'compliment': 3858, 'stallon': 3859, 'waitress': 3860, 'greedi': 3861, 'catchi': 3862, 'cannon': 3863, 'sue': 3864, 'rant': 3865, 'rubber': 3866, 'descent': 3867, 'der': 3868, 'literatur': 3869, 'simplic': 3870, 'hello': 3871, 'stale': 3872, 'flee': 3873, 'deaf': 3874, 'june': 3875, 'mankind': 3876, 'crucial': 3877, 'occupi': 3878, 'eaten': 3879, 'insur': 3880, 'alongsid': 3881, 'mortal': 3882, 'map': 3883, 'molli': 3884, 'equival': 3885, 'phoni': 3886, 'furi': 3887, 'louis': 3888, 'randi': 3889, 'dement': 3890, 'firstli': 3891, 'lang': 3892, 'recognit': 3893, 'coast': 3894, 'phantom': 3895, 'recognis': 3896, 'omen': 3897, 'bacal': 3898, 'irrelev': 3899, 'cent': 3900, 'dictat': 3901, 'duck': 3902, 'sissi': 3903, 'damon': 3904, 'carel': 3905, 'labor': 3906, 'likewis': 3907, 'bump': 3908, 'newli': 3909, 'loyalti': 3910, 'rooney': 3911, 'onlin': 3912, 'wisdom': 3913, 'blackmail': 3914, 'antwon': 3915, 'bike': 3916, 'daisi': 3917, 'reign': 3918, 'dreari': 3919, 'lengthi': 3920, 'twilight': 3921, 'distinguish': 3922, 'heel': 3923, 'ashley': 3924, 'grayson': 3925, 'rude': 3926, 'cyborg': 3927, 'freez': 3928, 'damm': 3929, 'biko': 3930, 'drake': 3931, 'buffalo': 3932, '1973': 3933, 'emphas': 3934, 'barrymor': 3935, 'attribut': 3936, 'pink': 3937, 'inher': 3938, 'startl': 3939, 'butler': 3940, 'worn': 3941, 'proce': 3942, 'chronicl': 3943, 'tunnel': 3944, 'boxer': 3945, 'ridden': 3946, 'keith': 3947, 'unorigin': 3948, 'nineti': 3949, 'incorpor': 3950, 'baddi': 3951, 'sailor': 3952, 'provoc': 3953, 'exposur': 3954, 'prey': 3955, 'basketbal': 3956, 'approv': 3957, 'interior': 3958, 'analysi': 3959, 'vein': 3960, 'underli': 3961, 'degrad': 3962, 'predat': 3963, 'simmon': 3964, 'nicol': 3965, 'bunni': 3966, 'unrel': 3967, 'fleet': 3968, 'improvis': 3969, 'meyer': 3970, 'hypnot': 3971, 'mormon': 3972, 'othello': 3973, 'julian': 3974, 'condemn': 3975, 'millionair': 3976, 'elm': 3977, 'meg': 3978, 'er': 3979, 'substitut': 3980, 'walsh': 3981, 'barrel': 3982, 'undeni': 3983, 'mighti': 3984, 'drift': 3985, 'indiffer': 3986, 'robbin': 3987, 'stalker': 3988, 'carla': 3989, 'belushi': 3990, 'reid': 3991, 'mtv': 3992, 'palac': 3993, 'unawar': 3994, 'errol': 3995, 'alarm': 3996, 'vital': 3997, 'priceless': 3998, 'marion': 3999, 'edgi': 4000, 'warmth': 4001, 'nyc': 4002, 'firm': 4003, 'lampoon': 4004, '3d': 4005, 'hay': 4006, 'agenda': 4007, 'watson': 4008, 'disord': 4009, 'alison': 4010, 'greed': 4011, 'shove': 4012, 'enthusiasm': 4013, 'exquisit': 4014, 'roof': 4015, 'rukh': 4016, 'novak': 4017, 'dolph': 4018, 'ponder': 4019, 'championship': 4020, 'coup': 4021, 'what': 4022, 'valentin': 4023, 'simultan': 4024, 'drip': 4025, 'angela': 4026, 'orlean': 4027, 'israel': 4028, 'minimum': 4029, 'pamela': 4030, 'thompson': 4031, 'randomli': 4032, 'peril': 4033, 'crown': 4034, 'nun': 4035, '13th': 4036, 'session': 4037, 'glanc': 4038, 'cassidi': 4039, 'profit': 4040, 'beatl': 4041, 'peck': 4042, 'petti': 4043, 'spain': 4044, 'eastern': 4045, 'testament': 4046, 'sergeant': 4047, 'showdown': 4048, 'unleash': 4049, 'distort': 4050, 'campaign': 4051, 'gestur': 4052, 'preserv': 4053, '1933': 4054, 'iraq': 4055, 'zizek': 4056, 'brenda': 4057, 'han': 4058, 'exposit': 4059, 'bro': 4060, 'restrain': 4061, 'rout': 4062, 'valley': 4063, 'realm': 4064, 'cream': 4065, 'empathi': 4066, 'travesti': 4067, 'unimagin': 4068, 'wig': 4069, '1984': 4070, 'stroke': 4071, 'contradict': 4072, 'mon': 4073, 'calib': 4074, 'reson': 4075, 'cooki': 4076, 'scotland': 4077, 'miyazaki': 4078, 'crow': 4079, 'perpetu': 4080, 'gentleman': 4081, 'stake': 4082, 'regist': 4083, 'crawl': 4084, 'buster': 4085, 'climat': 4086, 'din': 4087, 'represent': 4088, 'quinn': 4089, 'jan': 4090, 'fido': 4091, 'shootout': 4092, 'sabrina': 4093, 'kurosawa': 4094, 'wax': 4095, 'warrant': 4096, 'dana': 4097, 'femm': 4098, 'soderbergh': 4099, 'derang': 4100, 'passabl': 4101, 'pretens': 4102, 'compromis': 4103, 'censor': 4104, 'geek': 4105, 'mclaglen': 4106, 'unseen': 4107, 'cloud': 4108, 'businessman': 4109, 'perceiv': 4110, 'unsatisfi': 4111, 'sucker': 4112, 'demis': 4113, 'fuller': 4114, 'absent': 4115, 'delic': 4116, 'traumat': 4117, 'ross': 4118, 'crawford': 4119, 'josh': 4120, 'monoton': 4121, 'baldwin': 4122, 'shoddi': 4123, 'spacey': 4124, '1987': 4125, 'tacki': 4126, 'ustinov': 4127, 'meryl': 4128, 'distress': 4129, 'abomin': 4130, 'greg': 4131, '1997': 4132, 'pole': 4133, 'shaki': 4134, 'painter': 4135, 'sammi': 4136, 'stargat': 4137, 'darren': 4138, 'seal': 4139, 'accuraci': 4140, 'expedit': 4141, 'unravel': 4142, 'correctli': 4143, 'wholli': 4144, 'tech': 4145, 'primit': 4146, 'fenc': 4147, 'furiou': 4148, 'dee': 4149, 'click': 4150, 'reluct': 4151, 'fog': 4152, 'judgment': 4153, 'deceas': 4154, 'norm': 4155, 'kumar': 4156, 'deniro': 4157, '1993': 4158, 'uncov': 4159, 'exclus': 4160, 'polici': 4161, 'jewel': 4162, 'anchor': 4163, 'valid': 4164, 'tarantino': 4165, 'antonioni': 4166, 'verbal': 4167, 'nathan': 4168, 'sid': 4169, 'clash': 4170, 'austin': 4171, 'debt': 4172, 'fabric': 4173, 'enforc': 4174, 'hallucin': 4175, 'patienc': 4176, 'logan': 4177, 'nicola': 4178, 'unfair': 4179, 'pocket': 4180, 'behold': 4181, 'fought': 4182, 'sand': 4183, 'tax': 4184, 'roller': 4185, '1971': 4186, 'darn': 4187, 'temper': 4188, 'malon': 4189, 'mode': 4190, 'sustain': 4191, 'slam': 4192, 'wang': 4193, 'sheet': 4194, 'trait': 4195, 'alec': 4196, 'vanc': 4197, 'ritual': 4198, 'crippl': 4199, 'conduct': 4200, 'dreck': 4201, 'joel': 4202, 'shanghai': 4203, 'fart': 4204, '2008': 4205, '3000': 4206, 'sunni': 4207, 'murray': 4208, 'wretch': 4209, 'clerk': 4210, 'seldom': 4211, '1995': 4212, 'bake': 4213, 'squad': 4214, 'clau': 4215, 'preposter': 4216, 'schedul': 4217, 'divid': 4218, 'canyon': 4219, 'shell': 4220, 'stark': 4221, 'sweep': 4222, 'runner': 4223, 'outlin': 4224, 'technicolor': 4225, 'despis': 4226, 'scriptwrit': 4227, 'exhaust': 4228, 'soup': 4229, 'rita': 4230, 'robber': 4231, 'phil': 4232, 'guitar': 4233, 'bias': 4234, 'helpless': 4235, 'legaci': 4236, 'penni': 4237, 'pete': 4238, 'bridget': 4239, 'fundament': 4240, 'grief': 4241, 'critiqu': 4242, 'preston': 4243, 'isabel': 4244, 'conscious': 4245, 'stuart': 4246, 'tactic': 4247, 'kansa': 4248, 'implic': 4249, 'rear': 4250, 'invad': 4251, 'liberti': 4252, 'agenc': 4253, 'consciou': 4254, 'culmin': 4255, 'newman': 4256, 'downey': 4257, 'bloom': 4258, 'connor': 4259, 'flair': 4260, 'inabl': 4261, 'propos': 4262, 'sugar': 4263, 'lacklust': 4264, 'cigarett': 4265, 'alley': 4266, 'jacket': 4267, 'delv': 4268, 'jodi': 4269, 'unexpectedli': 4270, 'sentinel': 4271, 'gregori': 4272, 'rehash': 4273, 'russia': 4274, 'sniper': 4275, 'marc': 4276, 'restrict': 4277, 'drove': 4278, 'passag': 4279, 'vomit': 4280, 'boyl': 4281, 'palanc': 4282, 'alicia': 4283, 'vet': 4284, 'tripe': 4285, 'horn': 4286, 'behaviour': 4287, 'rehears': 4288, 'bacon': 4289, 'mccoy': 4290, 'improb': 4291, 'awhil': 4292, 'delet': 4293, 'sharon': 4294, 'asylum': 4295, 'arrow': 4296, 'karl': 4297, 'wrench': 4298, 'tendenc': 4299, 'aesthet': 4300, 'lush': 4301, 'chainsaw': 4302, '22': 4303, 'cap': 4304, 'feat': 4305, '1936': 4306, 'pale': 4307, 'rod': 4308, 'foxx': 4309, 'ladder': 4310, 'rampag': 4311, 'kolchak': 4312, 'yeti': 4313, 'amazon': 4314, 'rhythm': 4315, 'rumor': 4316, 'hungri': 4317, 'tomorrow': 4318, 'suspicion': 4319, 'tasteless': 4320, 'aristocrat': 4321, 'weav': 4322, 'sung': 4323, 'paradis': 4324, '1920': 4325, 'conscienc': 4326, 'suffici': 4327, 'underneath': 4328, 'newcom': 4329, 'hulk': 4330, 'coaster': 4331, 'minu': 4332, '1978': 4333, 'fright': 4334, 'wagner': 4335, '19th': 4336, 'elit': 4337, 'paramount': 4338, 'wildli': 4339, 'stream': 4340, 'lurk': 4341, 'prank': 4342, 'basing': 4343, 'shortcom': 4344, 'hackney': 4345, 'visitor': 4346, 'spice': 4347, '1988': 4348, 'scoop': 4349, 'financ': 4350, 'filler': 4351, 'globe': 4352, 'el': 4353, 'thunderbird': 4354, 'loneli': 4355, 'iv': 4356, 'choppi': 4357, 'quietli': 4358, 'wwe': 4359, 'couch': 4360, 'abrupt': 4361, 'entranc': 4362, 'minist': 4363, 'en': 4364, 'recogniz': 4365, 'straightforward': 4366, 'brit': 4367, 'immers': 4368, 'tierney': 4369, 'smell': 4370, 'impos': 4371, '75': 4372, 'grudg': 4373, '1939': 4374, 'dirt': 4375, 'posey': 4376, 'beverli': 4377, 'bread': 4378, 'ram': 4379, 'curli': 4380, 'naughti': 4381, 'hopkin': 4382, 'secondari': 4383, 'rub': 4384, 'leigh': 4385, 'atroc': 4386, 'worship': 4387, 'inmat': 4388, 'teas': 4389, 'springer': 4390, 'paxton': 4391, 'counterpart': 4392, 'literari': 4393, '1989': 4394, 'chamberlain': 4395, 'cancer': 4396, 'standout': 4397, 'penn': 4398, 'lectur': 4399, 'ingeni': 4400, 'chavez': 4401, 'heist': 4402, 'clan': 4403, 'sublim': 4404, 'injuri': 4405, 'nemesi': 4406, 'transcend': 4407, 'skeptic': 4408, 'nolan': 4409, 'bernard': 4410, 'geni': 4411, 'net': 4412, 'convert': 4413, 'missil': 4414, 'esther': 4415, 'ratso': 4416, 'attenborough': 4417, 'misguid': 4418, 'lindsay': 4419, 'laurenc': 4420, 'quaid': 4421, 'enthral': 4422, 'sassi': 4423, 'yearn': 4424, 'entitl': 4425, 'duel': 4426, 'moreov': 4427, 'watcher': 4428, 'heartfelt': 4429, 'policeman': 4430, 'variat': 4431, 'ace': 4432, '1986': 4433, 'cattl': 4434, 'morbid': 4435, 'kitti': 4436, 'dont': 4437, 'artsi': 4438, 'hk': 4439, 'kidman': 4440, 'youngest': 4441, 'egg': 4442, 'spiral': 4443, 'steadi': 4444, 'setup': 4445, 'hopelessli': 4446, 'reliabl': 4447, 'unexplain': 4448, '1979': 4449, 'graini': 4450, 'characteris': 4451, 'uncut': 4452, 'moder': 4453, 'buzz': 4454, 'rosemari': 4455, 'tyler': 4456, 'mytholog': 4457, 'out': 4458, 'brood': 4459, 'diari': 4460, 'puppi': 4461, 'grin': 4462, 'carlito': 4463, 'enabl': 4464, 'cruelti': 4465, 'poe': 4466, 'obstacl': 4467, 'facil': 4468, 'bean': 4469, 'vader': 4470, 'bye': 4471, 'heap': 4472, 'despic': 4473, '1969': 4474, 'baffl': 4475, 'niec': 4476, 'gillian': 4477, 'spontan': 4478, 'kline': 4479, 'weather': 4480, 'preming': 4481, 'patricia': 4482, 'decept': 4483, 'underworld': 4484, 'exterior': 4485, 'oblig': 4486, 'hammi': 4487, 'disastr': 4488, 'bounc': 4489, 'sweat': 4490, 'fuel': 4491, 'acquaint': 4492, 'brendan': 4493, 'athlet': 4494, 'christin': 4495, 'martha': 4496, 'bewar': 4497, 'hain': 4498, 'clueless': 4499, 'effici': 4500, 'bronson': 4501, 'gina': 4502, 'narrow': 4503, 'viewpoint': 4504, 'circu': 4505, 'loath': 4506, 'virtu': 4507, 'shatter': 4508, 'mayhem': 4509, 'scar': 4510, 'housewif': 4511, 'preachi': 4512, 'sleepwalk': 4513, 'astound': 4514, 'suprem': 4515, 'dilemma': 4516, 'enlist': 4517, 'tick': 4518, 'outlaw': 4519, 'headach': 4520, 'insipid': 4521, 'fontain': 4522, 'mermaid': 4523, 'goof': 4524, 'loi': 4525, 'biker': 4526, 'injur': 4527, 'analyz': 4528, 'trigger': 4529, 'lester': 4530, 'uh': 4531, 'sooner': 4532, '19': 4533, 'rome': 4534, 'harmless': 4535, 'angst': 4536, 'renaiss': 4537, 'dandi': 4538, 'candl': 4539, 'taboo': 4540, 'hepburn': 4541, '73': 4542, 'gere': 4543, 'fluff': 4544, 'scorses': 4545, 'dish': 4546, 'corbett': 4547, 'hokey': 4548, 'intric': 4549, 'dismal': 4550, 'camcord': 4551, 'redund': 4552, 'phenomenon': 4553, 'cassavet': 4554, 'contempt': 4555, 'slimi': 4556, 'spade': 4557, 'hostag': 4558, 'whore': 4559, 'sox': 4560, 'immatur': 4561, 'surgeri': 4562, 'macho': 4563, 'filth': 4564, 'foolish': 4565, 'hooker': 4566, 'oldest': 4567, 'zoom': 4568, 'guin': 4569, 'glorifi': 4570, 'amor': 4571, 'stimul': 4572, 'ariel': 4573, 'overlong': 4574, 'boston': 4575, 'ebert': 4576, 'tripl': 4577, 'salt': 4578, 'bent': 4579, 'steer': 4580, 'idol': 4581, 'claustrophob': 4582, 'stair': 4583, 'spinal': 4584, 'conquer': 4585, 'preced': 4586, 'muscl': 4587, 'proport': 4588, 'remad': 4589, 'spree': 4590, 'cow': 4591, 'frantic': 4592, 'perman': 4593, 'radiat': 4594, 'down': 4595, 'fascist': 4596, 'dwarf': 4597, 'assert': 4598, 'corman': 4599, 'flashi': 4600, 'keen': 4601, 'shred': 4602, 'obligatori': 4603, 'mutual': 4604, '1976': 4605, 'mount': 4606, 'strongest': 4607, 'schlock': 4608, 'gasp': 4609, 'astronaut': 4610, 'widescreen': 4611, 'gabl': 4612, 'joker': 4613, 'messi': 4614, 'margin': 4615, 'nolt': 4616, 'flirt': 4617, 'alvin': 4618, 'flag': 4619, '1981': 4620, 'antagonist': 4621, 'transplant': 4622, 'zane': 4623, 'shield': 4624, 'faint': 4625, 'cohen': 4626, 'beard': 4627, 'cush': 4628, 'harold': 4629, 'naschi': 4630, 'rhyme': 4631, 'trivia': 4632, 'archiv': 4633, 'repris': 4634, '95': 4635, 'wield': 4636, 'bitten': 4637, 'flock': 4638, 'www': 4639, 'persuad': 4640, 'info': 4641, 'divin': 4642, 'boob': 4643, 'triangl': 4644, 'off': 4645, 'fishburn': 4646, 'interestingli': 4647, 'resum': 4648, 'vaniti': 4649, 'bachelor': 4650, 'mobil': 4651, 'sensual': 4652, 'neurot': 4653, 'instruct': 4654, 'brush': 4655, 'ritchi': 4656, '1945': 4657, 'danish': 4658, 'someday': 4659, 'scandal': 4660, 'aborigin': 4661, 'departur': 4662, 'discern': 4663, 'claud': 4664, 'inflict': 4665, 'strive': 4666, 'hara': 4667, 'carey': 4668, 'barn': 4669, 'deer': 4670, 'mol': 4671, '28': 4672, 'raj': 4673, 'melissa': 4674, 'undermin': 4675, 'pickford': 4676, 'artwork': 4677, 'banter': 4678, 'heartwarm': 4679, 'frontier': 4680, 'anton': 4681, 'hug': 4682, 'clad': 4683, 'kathryn': 4684, 'submit': 4685, 'axe': 4686, 'hapless': 4687, 'cher': 4688, 'loretta': 4689, 'dame': 4690, 'prophet': 4691, 'dim': 4692, 'luka': 4693, 'casino': 4694, 'rot': 4695, 'biblic': 4696, 'helm': 4697, 'traffic': 4698, 'harrison': 4699, 'ish': 4700, 'timberlak': 4701, 'europa': 4702, 'cycl': 4703, 'jade': 4704, 'earnest': 4705, 'neill': 4706, 'cb': 4707, 'proclaim': 4708, 'miracul': 4709, 'pixar': 4710, 'mobster': 4711, 'bate': 4712, 'fragil': 4713, 'carlo': 4714, 'vibrant': 4715, 'colin': 4716, 'recit': 4717, 'senior': 4718, 'wendigo': 4719, 'cliffhang': 4720, 'hilar': 4721, 'parson': 4722, 'dylan': 4723, 'pacif': 4724, 'milo': 4725, 'aris': 4726, 'shepherd': 4727, 'blatantli': 4728, 'akin': 4729, 'illus': 4730, 'legitim': 4731, 'http': 4732, 'vile': 4733, 'articl': 4734, 'static': 4735, 'isra': 4736, 'sicken': 4737, 'lui': 4738, 'toronto': 4739, 'bikini': 4740, 'estrang': 4741, 'eli': 4742, 'seedi': 4743, 'flavor': 4744, 'breakfast': 4745, 'cerebr': 4746, 'vanessa': 4747, 'choke': 4748, 'razor': 4749, 'jo': 4750, 'trier': 4751, 'holocaust': 4752, 'jordan': 4753, 'northern': 4754, 'feast': 4755, 'redneck': 4756, 'nope': 4757, 'orphan': 4758, 'antholog': 4759, 'misfortun': 4760, 'alexandr': 4761, 'rooki': 4762, 'foil': 4763, 'mason': 4764, 'electron': 4765, 'pc': 4766, 'marlon': 4767, 'bondag': 4768, 'wardrob': 4769, 'mathieu': 4770, 'venom': 4771, 'uma': 4772, 'token': 4773, 'lucil': 4774, 'winchest': 4775, 'highway': 4776, 'abund': 4777, 'audrey': 4778, 'tack': 4779, 'nightclub': 4780, 'peer': 4781, 'linear': 4782, 'fifth': 4783, 'shorter': 4784, 'swept': 4785, 'psych': 4786, 'turd': 4787, 'howl': 4788, 'frog': 4789, 'clinic': 4790, 'charlton': 4791, 'ideolog': 4792, 'cartoonish': 4793, 'affleck': 4794, 'knightley': 4795, 'glare': 4796, 'feminin': 4797, 'leather': 4798, 'retriev': 4799, 'comprehend': 4800, 'smack': 4801, 'wrestler': 4802, 'huston': 4803, 'gilbert': 4804, 'disregard': 4805, 'dudley': 4806, 'deem': 4807, 'ceremoni': 4808, 'gunga': 4809, 'magician': 4810, 'oppon': 4811, 'styliz': 4812, 'boyer': 4813, 'outdat': 4814, 'cuban': 4815, 'lavish': 4816, 'corn': 4817, 'tara': 4818, 'lifeless': 4819, '4th': 4820, 'moe': 4821, 'energet': 4822, 'phenomen': 4823, 'spawn': 4824, 'collector': 4825, 'plate': 4826, 'conrad': 4827, 'potter': 4828, 'summar': 4829, 'boo': 4830, 'greet': 4831, '1994': 4832, 'bastard': 4833, 'lighter': 4834, 'newer': 4835, 'client': 4836, 'braveheart': 4837, 'toe': 4838, 'breakdown': 4839, 'uniformli': 4840, 'durat': 4841, 'evolut': 4842, 'deliver': 4843, 'cemeteri': 4844, '1991': 4845, 'sleaz': 4846, 'salman': 4847, 'btw': 4848, 'spine': 4849, 'goldsworthi': 4850, 'mitch': 4851, 'monument': 4852, 'whack': 4853, 'bogu': 4854, 'compris': 4855, 'senat': 4856, 'chip': 4857, 'snatch': 4858, 'einstein': 4859, 'eleven': 4860, 'wtf': 4861, 'belli': 4862, 'embark': 4863, 'jule': 4864, 'healthi': 4865, 'gilliam': 4866, 'randolph': 4867, 'nina': 4868, 'armstrong': 4869, 'appl': 4870, 'bulk': 4871, 'ol': 4872, 'signal': 4873, 'creek': 4874, 'alleg': 4875, '1974': 4876, 'firmli': 4877, 'jam': 4878, 'luxuri': 4879, 'outright': 4880, 'kent': 4881, 'clara': 4882, 'ie': 4883, 'cecil': 4884, 'liu': 4885, 'occup': 4886, 'neatli': 4887, 'spectacl': 4888, 'judd': 4889, 'fluid': 4890, 'constitut': 4891, 'trauma': 4892, 'bori': 4893, 'pronounc': 4894, 'jedi': 4895, 'replay': 4896, 'lex': 4897, 'capot': 4898, '1977': 4899, 'jare': 4900, 'kazan': 4901, 'undertak': 4902, 'historian': 4903, 'inaccuraci': 4904, 'undead': 4905, 'evelyn': 4906, 'sorrow': 4907, 'mcqueen': 4908, 'curtain': 4909, 'kiddi': 4910, 'ash': 4911, 'galaxi': 4912, 'vain': 4913, 'carmen': 4914, 'sidewalk': 4915, 'mum': 4916, 'inaccur': 4917, 'decapit': 4918, 'bsg': 4919, 'propheci': 4920, 'rosario': 4921, 'aussi': 4922, 'goldblum': 4923, 'pioneer': 4924, 'antonio': 4925, 'paula': 4926, 'relentless': 4927, 'unsuspect': 4928, 'bait': 4929, 'congratul': 4930, 'forgiven': 4931, 'roar': 4932, 'knee': 4933, 'sacrif': 4934, 'comprehens': 4935, 'miniseri': 4936, 'tokyo': 4937, 'fruit': 4938, 'miami': 4939, 'unattract': 4940, 'subtli': 4941, '1985': 4942, 'poker': 4943, 'cape': 4944, 'blur': 4945, 'truman': 4946, 'basket': 4947, 'vignett': 4948, 'abound': 4949, 'lanc': 4950, 'pepper': 4951, 'spray': 4952, 'genet': 4953, 'comb': 4954, 'palm': 4955, 'groan': 4956, 'id': 4957, 'conan': 4958, 'lauren': 4959, 'inclus': 4960, 'porter': 4961, 'meal': 4962, 'walt': 4963, 'ghetto': 4964, 'hostil': 4965, 'weaker': 4966, 'monti': 4967, 'reincarn': 4968, 'vastli': 4969, 'bravo': 4970, 'incorrect': 4971, 'asset': 4972, 'cypher': 4973, 'substanti': 4974, '21st': 4975, 'mice': 4976, 'orchestr': 4977, 'evan': 4978, 'drone': 4979, 'growth': 4980, 'modest': 4981, 'sparkl': 4982, 'casper': 4983, 'motorcycl': 4984, 'optimist': 4985, 'epitom': 4986, 'detach': 4987, 'playboy': 4988, 'handicap': 4989, 'jill': 4990, 'verg': 4991, 'scariest': 4992, 'scarfac': 4993, 'assort': 4994, 'sophi': 4995, 'omin': 4996, 'ingrid': 4997, 'turtl': 4998, 'masterson': 4999}\n"
     ]
    }
   ],
   "source": [
    "word_dict = build_dict(train_X)\n",
    "print(word_dict)"
   ]
  },
  {
   "cell_type": "markdown",
   "metadata": {},
   "source": [
    "**Question:** What are the five most frequently appearing (tokenized) words in the training set? Does it makes sense that these words appear frequently in the training set?"
   ]
  },
  {
   "cell_type": "markdown",
   "metadata": {},
   "source": [
    "**Answer:**\n",
    "\n",
    "five most frequently appearing words in the training set : ` movi , film , one , like ,time `\n",
    "\n",
    "Yes it makes sense according to my intution. Because we have to find the sentiment relation & to find that realtion we come up with the output which will be helpful as the more realtions and patterns we find the more accurate result we can come up with."
   ]
  },
  {
   "cell_type": "code",
   "execution_count": 13,
   "metadata": {},
   "outputs": [
    {
     "name": "stdout",
     "output_type": "stream",
     "text": [
      "five most frequently appearing words in the training set :\n",
      "movi\n",
      "film\n",
      "one\n",
      "like\n",
      "time\n"
     ]
    }
   ],
   "source": [
    "# TODO: Use this space to determine the five most frequently appearing words in the training set.\n",
    "print(\"five most frequently appearing words in the training set :\")\n",
    "for x in list(word_dict)[0:5]:\n",
    "    print (x)"
   ]
  },
  {
   "cell_type": "markdown",
   "metadata": {},
   "source": [
    "### Save `word_dict`\n",
    "\n",
    "Later on when we construct an endpoint which processes a submitted review we will need to make use of the `word_dict` which we have created. As such, we will save it to a file now for future use."
   ]
  },
  {
   "cell_type": "code",
   "execution_count": 14,
   "metadata": {},
   "outputs": [],
   "source": [
    "data_dir = '../data/pytorch' # The folder we will use for storing data\n",
    "if not os.path.exists(data_dir): # Make sure that the folder exists\n",
    "    os.makedirs(data_dir)"
   ]
  },
  {
   "cell_type": "code",
   "execution_count": 15,
   "metadata": {},
   "outputs": [],
   "source": [
    "with open(os.path.join(data_dir, 'word_dict.pkl'), \"wb\") as f:\n",
    "    pickle.dump(word_dict, f)"
   ]
  },
  {
   "cell_type": "markdown",
   "metadata": {},
   "source": [
    "### Transform the reviews\n",
    "\n",
    "Now that we have our word dictionary which allows us to transform the words appearing in the reviews into integers, it is time to make use of it and convert our reviews to their integer sequence representation, making sure to pad or truncate to a fixed length, which in our case is `500`."
   ]
  },
  {
   "cell_type": "code",
   "execution_count": 39,
   "metadata": {},
   "outputs": [],
   "source": [
    "def convert_and_pad(word_dict, sentence, pad=500):\n",
    "    NOWORD = 0 # We will use 0 to represent the 'no word' category\n",
    "    INFREQ = 1 # and we use 1 to represent the infrequent words, i.e., words not appearing in word_dict\n",
    "    \n",
    "    working_sentence = [NOWORD] * pad\n",
    "    \n",
    "    for word_index, word in enumerate(sentence[:pad]):\n",
    "        if word in word_dict:\n",
    "            working_sentence[word_index] = word_dict[word]\n",
    "        else:\n",
    "            working_sentence[word_index] = INFREQ\n",
    "            \n",
    "    return working_sentence, min(len(sentence), pad)\n",
    "\n",
    "def convert_and_pad_data(word_dict, data, pad=500):\n",
    "    result = []\n",
    "    lengths = []\n",
    "    \n",
    "    for sentence in data:\n",
    "        converted, leng = convert_and_pad(word_dict, sentence, pad)\n",
    "        result.append(converted)\n",
    "        lengths.append(leng)\n",
    "        \n",
    "    return np.array(result), np.array(lengths)"
   ]
  },
  {
   "cell_type": "code",
   "execution_count": 17,
   "metadata": {},
   "outputs": [],
   "source": [
    "train_X, train_X_len = convert_and_pad_data(word_dict, train_X)\n",
    "test_X, test_X_len = convert_and_pad_data(word_dict, test_X)"
   ]
  },
  {
   "cell_type": "markdown",
   "metadata": {},
   "source": [
    "As a quick check to make sure that things are working as intended, check to see what one of the reviews in the training set looks like after having been processeed. Does this look reasonable? What is the length of a review in the training set?"
   ]
  },
  {
   "cell_type": "code",
   "execution_count": 18,
   "metadata": {},
   "outputs": [
    {
     "name": "stdout",
     "output_type": "stream",
     "text": [
      "(500,)\n",
      "[ 546  197  111   80 4314  152   30    1  106  557  342 4674    1    1\n",
      "    1   89  504  800  537   32  748  144    1  748 3028  554   78  827\n",
      " 1425 1408  546  215    5 1096   49  443    7  164  342  178   91   40\n",
      " 1096   82  265    1    1  291    2    5   12  434   37    1  197  894\n",
      " 1913  197  967  894 1913    7  119 2720  252   31  466    2  917  546\n",
      "   17 1453    0    0    0    0    0    0    0    0    0    0    0    0\n",
      "    0    0    0    0    0    0    0    0    0    0    0    0    0    0\n",
      "    0    0    0    0    0    0    0    0    0    0    0    0    0    0\n",
      "    0    0    0    0    0    0    0    0    0    0    0    0    0    0\n",
      "    0    0    0    0    0    0    0    0    0    0    0    0    0    0\n",
      "    0    0    0    0    0    0    0    0    0    0    0    0    0    0\n",
      "    0    0    0    0    0    0    0    0    0    0    0    0    0    0\n",
      "    0    0    0    0    0    0    0    0    0    0    0    0    0    0\n",
      "    0    0    0    0    0    0    0    0    0    0    0    0    0    0\n",
      "    0    0    0    0    0    0    0    0    0    0    0    0    0    0\n",
      "    0    0    0    0    0    0    0    0    0    0    0    0    0    0\n",
      "    0    0    0    0    0    0    0    0    0    0    0    0    0    0\n",
      "    0    0    0    0    0    0    0    0    0    0    0    0    0    0\n",
      "    0    0    0    0    0    0    0    0    0    0    0    0    0    0\n",
      "    0    0    0    0    0    0    0    0    0    0    0    0    0    0\n",
      "    0    0    0    0    0    0    0    0    0    0    0    0    0    0\n",
      "    0    0    0    0    0    0    0    0    0    0    0    0    0    0\n",
      "    0    0    0    0    0    0    0    0    0    0    0    0    0    0\n",
      "    0    0    0    0    0    0    0    0    0    0    0    0    0    0\n",
      "    0    0    0    0    0    0    0    0    0    0    0    0    0    0\n",
      "    0    0    0    0    0    0    0    0    0    0    0    0    0    0\n",
      "    0    0    0    0    0    0    0    0    0    0    0    0    0    0\n",
      "    0    0    0    0    0    0    0    0    0    0    0    0    0    0\n",
      "    0    0    0    0    0    0    0    0    0    0    0    0    0    0\n",
      "    0    0    0    0    0    0    0    0    0    0    0    0    0    0\n",
      "    0    0    0    0    0    0    0    0    0    0    0    0    0    0\n",
      "    0    0    0    0    0    0    0    0    0    0    0    0    0    0\n",
      "    0    0    0    0    0    0    0    0    0    0    0    0    0    0\n",
      "    0    0    0    0    0    0    0    0    0    0    0    0    0    0\n",
      "    0    0    0    0    0    0    0    0    0    0    0    0    0    0\n",
      "    0    0    0    0    0    0    0    0    0    0]\n",
      "-----------------------------------------\n",
      "72\n",
      "-----------------------------------------\n",
      "(500,)\n",
      "[  25 1925  508 1246  459  180   61  177   55 1320 1801 3756 3339    1\n",
      "  933  781 1360    1  662  870 3756    1    1 1152  864  463    1    1\n",
      "   30    1    1   33    5    1  522    1   41   19   55    1 1422  397\n",
      "  260 4291 1601 2044    1  887    1 3097  539  177  480    1    1 4652\n",
      "    1    1    1    1    1    7    4  234    0    0    0    0    0    0\n",
      "    0    0    0    0    0    0    0    0    0    0    0    0    0    0\n",
      "    0    0    0    0    0    0    0    0    0    0    0    0    0    0\n",
      "    0    0    0    0    0    0    0    0    0    0    0    0    0    0\n",
      "    0    0    0    0    0    0    0    0    0    0    0    0    0    0\n",
      "    0    0    0    0    0    0    0    0    0    0    0    0    0    0\n",
      "    0    0    0    0    0    0    0    0    0    0    0    0    0    0\n",
      "    0    0    0    0    0    0    0    0    0    0    0    0    0    0\n",
      "    0    0    0    0    0    0    0    0    0    0    0    0    0    0\n",
      "    0    0    0    0    0    0    0    0    0    0    0    0    0    0\n",
      "    0    0    0    0    0    0    0    0    0    0    0    0    0    0\n",
      "    0    0    0    0    0    0    0    0    0    0    0    0    0    0\n",
      "    0    0    0    0    0    0    0    0    0    0    0    0    0    0\n",
      "    0    0    0    0    0    0    0    0    0    0    0    0    0    0\n",
      "    0    0    0    0    0    0    0    0    0    0    0    0    0    0\n",
      "    0    0    0    0    0    0    0    0    0    0    0    0    0    0\n",
      "    0    0    0    0    0    0    0    0    0    0    0    0    0    0\n",
      "    0    0    0    0    0    0    0    0    0    0    0    0    0    0\n",
      "    0    0    0    0    0    0    0    0    0    0    0    0    0    0\n",
      "    0    0    0    0    0    0    0    0    0    0    0    0    0    0\n",
      "    0    0    0    0    0    0    0    0    0    0    0    0    0    0\n",
      "    0    0    0    0    0    0    0    0    0    0    0    0    0    0\n",
      "    0    0    0    0    0    0    0    0    0    0    0    0    0    0\n",
      "    0    0    0    0    0    0    0    0    0    0    0    0    0    0\n",
      "    0    0    0    0    0    0    0    0    0    0    0    0    0    0\n",
      "    0    0    0    0    0    0    0    0    0    0    0    0    0    0\n",
      "    0    0    0    0    0    0    0    0    0    0    0    0    0    0\n",
      "    0    0    0    0    0    0    0    0    0    0    0    0    0    0\n",
      "    0    0    0    0    0    0    0    0    0    0    0    0    0    0\n",
      "    0    0    0    0    0    0    0    0    0    0    0    0    0    0\n",
      "    0    0    0    0    0    0    0    0    0    0    0    0    0    0\n",
      "    0    0    0    0    0    0    0    0    0    0]\n",
      "-----------------------------------------\n",
      "64\n"
     ]
    }
   ],
   "source": [
    "# Use this cell to examine one of the processed reviews to make sure everything is working as intended.\n",
    "print(train_X[0].shape)\n",
    "print(train_X[0])\n",
    "print(\"-----------------------------------------\")\n",
    "print(train_X_len[0])\n",
    "print(\"-----------------------------------------\")\n",
    "print(test_X[0].shape)\n",
    "print(test_X[0])\n",
    "print(\"-----------------------------------------\")\n",
    "print(test_X_len[0])"
   ]
  },
  {
   "cell_type": "markdown",
   "metadata": {},
   "source": [
    "**Question:** In the cells above we use the `preprocess_data` and `convert_and_pad_data` methods to process both the training and testing set. Why or why not might this be a problem?"
   ]
  },
  {
   "cell_type": "markdown",
   "metadata": {},
   "source": [
    "**Answer:**\n",
    "\n",
    "We have use both the method for different reason.\n",
    "\n",
    "1- `preprocess_data` will process the data and from that we will get the most frequently words and least frequently words.\n",
    "\n",
    "2- `covert_and_pad_data` yes we need that to feed it to our model as it is converting the word to integer and then padding it.\n",
    "\n",
    "So I don't think so there will any problem arise but if we don't use this methods then there will be problem for sure.\n",
    "\n",
    "**No problem will arise.**"
   ]
  },
  {
   "cell_type": "markdown",
   "metadata": {},
   "source": [
    "## Step 3: Upload the data to S3\n",
    "\n",
    "As in the XGBoost notebook, we will need to upload the training dataset to S3 in order for our training code to access it. For now we will save it locally and we will upload to S3 later on.\n",
    "\n",
    "### Save the processed training dataset locally\n",
    "\n",
    "It is important to note the format of the data that we are saving as we will need to know it when we write the training code. In our case, each row of the dataset has the form `label`, `length`, `review[500]` where `review[500]` is a sequence of `500` integers representing the words in the review."
   ]
  },
  {
   "cell_type": "code",
   "execution_count": 19,
   "metadata": {},
   "outputs": [],
   "source": [
    "import pandas as pd\n",
    "    \n",
    "pd.concat([pd.DataFrame(train_y), pd.DataFrame(train_X_len), pd.DataFrame(train_X)], axis=1) \\\n",
    "        .to_csv(os.path.join(data_dir, 'train.csv'), header=False, index=False)"
   ]
  },
  {
   "cell_type": "markdown",
   "metadata": {},
   "source": [
    "### Uploading the training data\n",
    "\n",
    "\n",
    "Next, we need to upload the training data to the SageMaker default S3 bucket so that we can provide access to it while training our model."
   ]
  },
  {
   "cell_type": "code",
   "execution_count": 20,
   "metadata": {},
   "outputs": [],
   "source": [
    "import sagemaker\n",
    "\n",
    "sagemaker_session = sagemaker.Session()\n",
    "\n",
    "bucket = sagemaker_session.default_bucket()\n",
    "prefix = 'sagemaker/sentiment_rnn'\n",
    "\n",
    "role = sagemaker.get_execution_role()"
   ]
  },
  {
   "cell_type": "code",
   "execution_count": 21,
   "metadata": {},
   "outputs": [],
   "source": [
    "input_data = sagemaker_session.upload_data(path=data_dir, bucket=bucket, key_prefix=prefix)"
   ]
  },
  {
   "cell_type": "markdown",
   "metadata": {},
   "source": [
    "**NOTE:** The cell above uploads the entire contents of our data directory. This includes the `word_dict.pkl` file. This is fortunate as we will need this later on when we create an endpoint that accepts an arbitrary review. For now, we will just take note of the fact that it resides in the data directory (and so also in the S3 training bucket) and that we will need to make sure it gets saved in the model directory."
   ]
  },
  {
   "cell_type": "markdown",
   "metadata": {},
   "source": [
    "## Step 4: Build and Train the PyTorch Model\n",
    "\n",
    "In the XGBoost notebook we discussed what a model is in the SageMaker framework. In particular, a model comprises three objects\n",
    "\n",
    " - Model Artifacts,\n",
    " - Training Code, and\n",
    " - Inference Code,\n",
    " \n",
    "each of which interact with one another. In the XGBoost example we used training and inference code that was provided by Amazon. Here we will still be using containers provided by Amazon with the added benefit of being able to include our own custom code.\n",
    "\n",
    "We will start by implementing our own neural network in PyTorch along with a training script. For the purposes of this project we have provided the necessary model object in the `model.py` file, inside of the `train` folder. You can see the provided implementation by running the cell below."
   ]
  },
  {
   "cell_type": "code",
   "execution_count": 22,
   "metadata": {},
   "outputs": [
    {
     "name": "stdout",
     "output_type": "stream",
     "text": [
      "\u001b[34mimport\u001b[39;49;00m \u001b[04m\u001b[36mtorch\u001b[39;49;00m\u001b[04m\u001b[36m.\u001b[39;49;00m\u001b[04m\u001b[36mnn\u001b[39;49;00m \u001b[34mas\u001b[39;49;00m \u001b[04m\u001b[36mnn\u001b[39;49;00m\r\n",
      "\r\n",
      "\u001b[34mclass\u001b[39;49;00m \u001b[04m\u001b[32mLSTMClassifier\u001b[39;49;00m(nn.Module):\r\n",
      "    \u001b[33m\"\"\"\u001b[39;49;00m\r\n",
      "\u001b[33m    This is the simple RNN model we will be using to perform Sentiment Analysis.\u001b[39;49;00m\r\n",
      "\u001b[33m    \"\"\"\u001b[39;49;00m\r\n",
      "\r\n",
      "    \u001b[34mdef\u001b[39;49;00m \u001b[32m__init__\u001b[39;49;00m(\u001b[36mself\u001b[39;49;00m, embedding_dim, hidden_dim, vocab_size):\r\n",
      "        \u001b[33m\"\"\"\u001b[39;49;00m\r\n",
      "\u001b[33m        Initialize the model by settingg up the various layers.\u001b[39;49;00m\r\n",
      "\u001b[33m        \"\"\"\u001b[39;49;00m\r\n",
      "        \u001b[36msuper\u001b[39;49;00m(LSTMClassifier, \u001b[36mself\u001b[39;49;00m).\u001b[32m__init__\u001b[39;49;00m()\r\n",
      "\r\n",
      "        \u001b[36mself\u001b[39;49;00m.embedding = nn.Embedding(vocab_size, embedding_dim, padding_idx=\u001b[34m0\u001b[39;49;00m)\r\n",
      "        \u001b[36mself\u001b[39;49;00m.lstm = nn.LSTM(embedding_dim, hidden_dim)\r\n",
      "        \u001b[36mself\u001b[39;49;00m.dense = nn.Linear(in_features=hidden_dim, out_features=\u001b[34m1\u001b[39;49;00m)\r\n",
      "        \u001b[36mself\u001b[39;49;00m.sig = nn.Sigmoid()\r\n",
      "        \r\n",
      "        \u001b[36mself\u001b[39;49;00m.word_dict = \u001b[34mNone\u001b[39;49;00m\r\n",
      "\r\n",
      "    \u001b[34mdef\u001b[39;49;00m \u001b[32mforward\u001b[39;49;00m(\u001b[36mself\u001b[39;49;00m, x):\r\n",
      "        \u001b[33m\"\"\"\u001b[39;49;00m\r\n",
      "\u001b[33m        Perform a forward pass of our model on some input.\u001b[39;49;00m\r\n",
      "\u001b[33m        \"\"\"\u001b[39;49;00m\r\n",
      "        x = x.t()\r\n",
      "        lengths = x[\u001b[34m0\u001b[39;49;00m,:]\r\n",
      "        reviews = x[\u001b[34m1\u001b[39;49;00m:,:]\r\n",
      "        embeds = \u001b[36mself\u001b[39;49;00m.embedding(reviews)\r\n",
      "        lstm_out, _ = \u001b[36mself\u001b[39;49;00m.lstm(embeds)\r\n",
      "        out = \u001b[36mself\u001b[39;49;00m.dense(lstm_out)\r\n",
      "        out = out[lengths - \u001b[34m1\u001b[39;49;00m, \u001b[36mrange\u001b[39;49;00m(\u001b[36mlen\u001b[39;49;00m(lengths))]\r\n",
      "        \u001b[34mreturn\u001b[39;49;00m \u001b[36mself\u001b[39;49;00m.sig(out.squeeze())\r\n"
     ]
    }
   ],
   "source": [
    "!pygmentize train/model.py"
   ]
  },
  {
   "cell_type": "markdown",
   "metadata": {},
   "source": [
    "The important takeaway from the implementation provided is that there are three parameters that we may wish to tweak to improve the performance of our model. These are the embedding dimension, the hidden dimension and the size of the vocabulary. We will likely want to make these parameters configurable in the training script so that if we wish to modify them we do not need to modify the script itself. We will see how to do this later on. To start we will write some of the training code in the notebook so that we can more easily diagnose any issues that arise.\n",
    "\n",
    "First we will load a small portion of the training data set to use as a sample. It would be very time consuming to try and train the model completely in the notebook as we do not have access to a gpu and the compute instance that we are using is not particularly powerful. However, we can work on a small bit of the data to get a feel for how our training script is behaving."
   ]
  },
  {
   "cell_type": "code",
   "execution_count": 23,
   "metadata": {},
   "outputs": [],
   "source": [
    "import torch\n",
    "import torch.utils.data\n",
    "\n",
    "# Read in only the first 250 rows\n",
    "train_sample = pd.read_csv(os.path.join(data_dir, 'train.csv'), header=None, names=None, nrows=250)\n",
    "\n",
    "# Turn the input pandas dataframe into tensors\n",
    "train_sample_y = torch.from_numpy(train_sample[[0]].values).float().squeeze()\n",
    "train_sample_X = torch.from_numpy(train_sample.drop([0], axis=1).values).long()\n",
    "\n",
    "# Build the dataset\n",
    "train_sample_ds = torch.utils.data.TensorDataset(train_sample_X, train_sample_y)\n",
    "# Build the dataloader\n",
    "train_sample_dl = torch.utils.data.DataLoader(train_sample_ds, batch_size=50)"
   ]
  },
  {
   "cell_type": "markdown",
   "metadata": {},
   "source": [
    "### (TODO) Writing the training method\n",
    "\n",
    "Next we need to write the training code itself. This should be very similar to training methods that you have written before to train PyTorch models. We will leave any difficult aspects such as model saving / loading and parameter loading until a little later."
   ]
  },
  {
   "cell_type": "code",
   "execution_count": 24,
   "metadata": {},
   "outputs": [],
   "source": [
    "def train(model, train_loader, epochs, optimizer, loss_fn, device):\n",
    "    for epoch in range(1, epochs + 1):\n",
    "        model.train()\n",
    "        total_loss = 0\n",
    "        for batch in train_loader:         \n",
    "            batch_X, batch_y = batch\n",
    "            \n",
    "            batch_X = batch_X.to(device)\n",
    "            batch_y = batch_y.to(device)\n",
    "            \n",
    "            # TODO: Complete this train method to train the model provided.\n",
    "            \n",
    "            # zero accumulated gradients\n",
    "            model.zero_grad()\n",
    "\n",
    "            # get the output from the model\n",
    "            output = model(batch_X)\n",
    "\n",
    "            # calculate the loss and perform backprop\n",
    "            loss = loss_fn(output, batch_y)\n",
    "            \n",
    "            loss.backward()\n",
    "            optimizer.step()\n",
    "\n",
    "            \n",
    "            total_loss += loss.data.item()\n",
    "        print(\"Epoch: {}, BCELoss: {}\".format(epoch, total_loss / len(train_loader)))"
   ]
  },
  {
   "cell_type": "markdown",
   "metadata": {},
   "source": [
    "Supposing we have the training method above, we will test that it is working by writing a bit of code in the notebook that executes our training method on the small sample training set that we loaded earlier. The reason for doing this in the notebook is so that we have an opportunity to fix any errors that arise early when they are easier to diagnose."
   ]
  },
  {
   "cell_type": "code",
   "execution_count": 25,
   "metadata": {},
   "outputs": [
    {
     "name": "stdout",
     "output_type": "stream",
     "text": [
      "No GPU available, training on CPU; consider making n_epochs very small.\n"
     ]
    }
   ],
   "source": [
    "# check if GPU is available\n",
    "train_on_gpu = torch.cuda.is_available()\n",
    "if(train_on_gpu):\n",
    "    print('Training on GPU!')\n",
    "else: \n",
    "    print('No GPU available, training on CPU; consider making n_epochs very small.')"
   ]
  },
  {
   "cell_type": "code",
   "execution_count": 26,
   "metadata": {},
   "outputs": [
    {
     "name": "stdout",
     "output_type": "stream",
     "text": [
      "Epoch: 1, BCELoss: 0.6933937311172486\n",
      "Epoch: 2, BCELoss: 0.684320604801178\n",
      "Epoch: 3, BCELoss: 0.6766432523727417\n",
      "Epoch: 4, BCELoss: 0.6680273652076721\n",
      "Epoch: 5, BCELoss: 0.6572627067565918\n"
     ]
    }
   ],
   "source": [
    "import torch.optim as optim\n",
    "from train.model import LSTMClassifier\n",
    "\n",
    "device = torch.device(\"cuda\" if torch.cuda.is_available() else \"cpu\")\n",
    "model = LSTMClassifier(32, 100, 5000).to(device)\n",
    "optimizer = optim.Adam(model.parameters())\n",
    "loss_fn = torch.nn.BCELoss()\n",
    "\n",
    "train(model, train_sample_dl, 5, optimizer, loss_fn, device)"
   ]
  },
  {
   "cell_type": "markdown",
   "metadata": {},
   "source": [
    "In order to construct a PyTorch model using SageMaker we must provide SageMaker with a training script. We may optionally include a directory which will be copied to the container and from which our training code will be run. When the training container is executed it will check the uploaded directory (if there is one) for a `requirements.txt` file and install any required Python libraries, after which the training script will be run."
   ]
  },
  {
   "cell_type": "markdown",
   "metadata": {},
   "source": [
    "### (TODO) Training the model\n",
    "\n",
    "When a PyTorch model is constructed in SageMaker, an entry point must be specified. This is the Python file which will be executed when the model is trained. Inside of the `train` directory is a file called `train.py` which has been provided and which contains most of the necessary code to train our model. The only thing that is missing is the implementation of the `train()` method which you wrote earlier in this notebook.\n",
    "\n",
    "**TODO**: Copy the `train()` method written above and paste it into the `train/train.py` file where required.\n",
    "\n",
    "The way that SageMaker passes hyperparameters to the training script is by way of arguments. These arguments can then be parsed and used in the training script. To see how this is done take a look at the provided `train/train.py` file."
   ]
  },
  {
   "cell_type": "code",
   "execution_count": 27,
   "metadata": {},
   "outputs": [],
   "source": [
    "from sagemaker.pytorch import PyTorch\n",
    "\n",
    "estimator = PyTorch(entry_point=\"train.py\",\n",
    "                    source_dir=\"train\",\n",
    "                    role=role,\n",
    "                    framework_version='0.4.0',\n",
    "                    train_instance_count=1,\n",
    "                    train_instance_type='ml.p2.xlarge',\n",
    "                    hyperparameters={\n",
    "                        'epochs': 10,\n",
    "                        'hidden_dim': 200,\n",
    "                    })"
   ]
  },
  {
   "cell_type": "code",
   "execution_count": 28,
   "metadata": {},
   "outputs": [
    {
     "name": "stderr",
     "output_type": "stream",
     "text": [
      "'create_image_uri' will be deprecated in favor of 'ImageURIProvider' class in SageMaker Python SDK v2.\n",
      "'s3_input' class will be renamed to 'TrainingInput' in SageMaker Python SDK v2.\n",
      "'create_image_uri' will be deprecated in favor of 'ImageURIProvider' class in SageMaker Python SDK v2.\n"
     ]
    },
    {
     "name": "stdout",
     "output_type": "stream",
     "text": [
      "2020-08-13 01:18:23 Starting - Starting the training job...\n",
      "2020-08-13 01:18:25 Starting - Launching requested ML instances......\n",
      "2020-08-13 01:19:47 Starting - Preparing the instances for training.........\n",
      "2020-08-13 01:20:58 Downloading - Downloading input data...\n",
      "2020-08-13 01:21:33 Training - Downloading the training image..\u001b[34mbash: cannot set terminal process group (-1): Inappropriate ioctl for device\u001b[0m\n",
      "\u001b[34mbash: no job control in this shell\u001b[0m\n",
      "\u001b[34m2020-08-13 01:22:02,677 sagemaker-containers INFO     Imported framework sagemaker_pytorch_container.training\u001b[0m\n",
      "\u001b[34m2020-08-13 01:22:02,702 sagemaker_pytorch_container.training INFO     Block until all host DNS lookups succeed.\u001b[0m\n",
      "\u001b[34m2020-08-13 01:22:05,721 sagemaker_pytorch_container.training INFO     Invoking user training script.\u001b[0m\n",
      "\u001b[34m2020-08-13 01:22:05,938 sagemaker-containers INFO     Module train does not provide a setup.py. \u001b[0m\n",
      "\u001b[34mGenerating setup.py\u001b[0m\n",
      "\u001b[34m2020-08-13 01:22:05,939 sagemaker-containers INFO     Generating setup.cfg\u001b[0m\n",
      "\u001b[34m2020-08-13 01:22:05,939 sagemaker-containers INFO     Generating MANIFEST.in\u001b[0m\n",
      "\u001b[34m2020-08-13 01:22:05,939 sagemaker-containers INFO     Installing module with the following command:\u001b[0m\n",
      "\u001b[34m/usr/bin/python -m pip install -U . -r requirements.txt\u001b[0m\n",
      "\u001b[34mProcessing /opt/ml/code\u001b[0m\n",
      "\u001b[34mCollecting pandas (from -r requirements.txt (line 1))\n",
      "  Downloading https://files.pythonhosted.org/packages/74/24/0cdbf8907e1e3bc5a8da03345c23cbed7044330bb8f73bb12e711a640a00/pandas-0.24.2-cp35-cp35m-manylinux1_x86_64.whl (10.0MB)\u001b[0m\n",
      "\u001b[34mCollecting numpy (from -r requirements.txt (line 2))\u001b[0m\n",
      "\u001b[34m  Downloading https://files.pythonhosted.org/packages/b5/36/88723426b4ff576809fec7d73594fe17a35c27f8d01f93637637a29ae25b/numpy-1.18.5-cp35-cp35m-manylinux1_x86_64.whl (19.9MB)\u001b[0m\n",
      "\u001b[34mCollecting nltk (from -r requirements.txt (line 3))\n",
      "  Downloading https://files.pythonhosted.org/packages/92/75/ce35194d8e3022203cca0d2f896dbb88689f9b3fce8e9f9cff942913519d/nltk-3.5.zip (1.4MB)\u001b[0m\n",
      "\u001b[34mCollecting beautifulsoup4 (from -r requirements.txt (line 4))\n",
      "  Downloading https://files.pythonhosted.org/packages/66/25/ff030e2437265616a1e9b25ccc864e0371a0bc3adb7c5a404fd661c6f4f6/beautifulsoup4-4.9.1-py3-none-any.whl (115kB)\u001b[0m\n",
      "\u001b[34mCollecting html5lib (from -r requirements.txt (line 5))\n",
      "  Downloading https://files.pythonhosted.org/packages/6c/dd/a834df6482147d48e225a49515aabc28974ad5a4ca3215c18a882565b028/html5lib-1.1-py2.py3-none-any.whl (112kB)\u001b[0m\n",
      "\u001b[34mCollecting pytz>=2011k (from pandas->-r requirements.txt (line 1))\n",
      "  Downloading https://files.pythonhosted.org/packages/4f/a4/879454d49688e2fad93e59d7d4efda580b783c745fd2ec2a3adf87b0808d/pytz-2020.1-py2.py3-none-any.whl (510kB)\u001b[0m\n",
      "\u001b[34mRequirement already satisfied, skipping upgrade: python-dateutil>=2.5.0 in /usr/local/lib/python3.5/dist-packages (from pandas->-r requirements.txt (line 1)) (2.7.5)\u001b[0m\n",
      "\u001b[34mRequirement already satisfied, skipping upgrade: click in /usr/local/lib/python3.5/dist-packages (from nltk->-r requirements.txt (line 3)) (7.0)\u001b[0m\n",
      "\u001b[34mCollecting joblib (from nltk->-r requirements.txt (line 3))\n",
      "  Downloading https://files.pythonhosted.org/packages/28/5c/cf6a2b65a321c4a209efcdf64c2689efae2cb62661f8f6f4bb28547cf1bf/joblib-0.14.1-py2.py3-none-any.whl (294kB)\u001b[0m\n",
      "\u001b[34mCollecting regex (from nltk->-r requirements.txt (line 3))\n",
      "  Downloading https://files.pythonhosted.org/packages/09/c3/ddaa87500f31ed86290e3d014c0302a51fde28d7139eda0b5f33733726db/regex-2020.7.14.tar.gz (690kB)\u001b[0m\n",
      "\u001b[34mCollecting tqdm (from nltk->-r requirements.txt (line 3))\u001b[0m\n",
      "\u001b[34m  Downloading https://files.pythonhosted.org/packages/28/7e/281edb5bc3274dfb894d90f4dbacfceaca381c2435ec6187a2c6f329aed7/tqdm-4.48.2-py2.py3-none-any.whl (68kB)\u001b[0m\n",
      "\u001b[34mCollecting soupsieve>1.2 (from beautifulsoup4->-r requirements.txt (line 4))\n",
      "  Downloading https://files.pythonhosted.org/packages/6f/8f/457f4a5390eeae1cc3aeab89deb7724c965be841ffca6cfca9197482e470/soupsieve-2.0.1-py3-none-any.whl\u001b[0m\n",
      "\u001b[34mCollecting webencodings (from html5lib->-r requirements.txt (line 5))\n",
      "  Downloading https://files.pythonhosted.org/packages/f4/24/2a3e3df732393fed8b3ebf2ec078f05546de641fe1b667ee316ec1dcf3b7/webencodings-0.5.1-py2.py3-none-any.whl\u001b[0m\n",
      "\u001b[34mRequirement already satisfied, skipping upgrade: six>=1.9 in /usr/local/lib/python3.5/dist-packages (from html5lib->-r requirements.txt (line 5)) (1.11.0)\u001b[0m\n",
      "\u001b[34mBuilding wheels for collected packages: nltk, train, regex\n",
      "  Running setup.py bdist_wheel for nltk: started\n",
      "  Running setup.py bdist_wheel for nltk: finished with status 'done'\n",
      "  Stored in directory: /root/.cache/pip/wheels/ae/8c/3f/b1fe0ba04555b08b57ab52ab7f86023639a526d8bc8d384306\u001b[0m\n",
      "\n",
      "2020-08-13 01:22:02 Training - Training image download completed. Training in progress.\u001b[34m  Running setup.py bdist_wheel for train: started\n",
      "  Running setup.py bdist_wheel for train: finished with status 'done'\n",
      "  Stored in directory: /tmp/pip-ephem-wheel-cache-kcyhy6gg/wheels/35/24/16/37574d11bf9bde50616c67372a334f94fa8356bc7164af8ca3\n",
      "  Running setup.py bdist_wheel for regex: started\u001b[0m\n",
      "\u001b[34m  Running setup.py bdist_wheel for regex: finished with status 'done'\n",
      "  Stored in directory: /root/.cache/pip/wheels/53/55/dc/e17fa4568958f4c53be34b65e474a1327b64641f65df379ec3\u001b[0m\n",
      "\u001b[34mSuccessfully built nltk train regex\u001b[0m\n",
      "\u001b[34mInstalling collected packages: numpy, pytz, pandas, joblib, regex, tqdm, nltk, soupsieve, beautifulsoup4, webencodings, html5lib, train\n",
      "  Found existing installation: numpy 1.15.4\n",
      "    Uninstalling numpy-1.15.4:\u001b[0m\n",
      "\u001b[34m      Successfully uninstalled numpy-1.15.4\u001b[0m\n",
      "\u001b[34mSuccessfully installed beautifulsoup4-4.9.1 html5lib-1.1 joblib-0.14.1 nltk-3.5 numpy-1.18.5 pandas-0.24.2 pytz-2020.1 regex-2020.7.14 soupsieve-2.0.1 tqdm-4.48.2 train-1.0.0 webencodings-0.5.1\u001b[0m\n",
      "\u001b[34mYou are using pip version 18.1, however version 20.2.2 is available.\u001b[0m\n",
      "\u001b[34mYou should consider upgrading via the 'pip install --upgrade pip' command.\u001b[0m\n",
      "\u001b[34m2020-08-13 01:22:27,468 sagemaker-containers INFO     Invoking user script\n",
      "\u001b[0m\n",
      "\u001b[34mTraining Env:\n",
      "\u001b[0m\n",
      "\u001b[34m{\n",
      "    \"hosts\": [\n",
      "        \"algo-1\"\n",
      "    ],\n",
      "    \"user_entry_point\": \"train.py\",\n",
      "    \"num_cpus\": 4,\n",
      "    \"current_host\": \"algo-1\",\n",
      "    \"resource_config\": {\n",
      "        \"network_interface_name\": \"eth0\",\n",
      "        \"current_host\": \"algo-1\",\n",
      "        \"hosts\": [\n",
      "            \"algo-1\"\n",
      "        ]\n",
      "    },\n",
      "    \"num_gpus\": 1,\n",
      "    \"output_dir\": \"/opt/ml/output\",\n",
      "    \"input_config_dir\": \"/opt/ml/input/config\",\n",
      "    \"model_dir\": \"/opt/ml/model\",\n",
      "    \"module_name\": \"train\",\n",
      "    \"additional_framework_parameters\": {},\n",
      "    \"channel_input_dirs\": {\n",
      "        \"training\": \"/opt/ml/input/data/training\"\n",
      "    },\n",
      "    \"framework_module\": \"sagemaker_pytorch_container.training:main\",\n",
      "    \"output_intermediate_dir\": \"/opt/ml/output/intermediate\",\n",
      "    \"output_data_dir\": \"/opt/ml/output/data\",\n",
      "    \"input_data_config\": {\n",
      "        \"training\": {\n",
      "            \"RecordWrapperType\": \"None\",\n",
      "            \"TrainingInputMode\": \"File\",\n",
      "            \"S3DistributionType\": \"FullyReplicated\"\n",
      "        }\n",
      "    },\n",
      "    \"input_dir\": \"/opt/ml/input\",\n",
      "    \"module_dir\": \"s3://sagemaker-ap-south-1-832282571119/sagemaker-pytorch-2020-08-13-01-18-23-330/source/sourcedir.tar.gz\",\n",
      "    \"network_interface_name\": \"eth0\",\n",
      "    \"job_name\": \"sagemaker-pytorch-2020-08-13-01-18-23-330\",\n",
      "    \"hyperparameters\": {\n",
      "        \"epochs\": 10,\n",
      "        \"hidden_dim\": 200\n",
      "    },\n",
      "    \"log_level\": 20\u001b[0m\n",
      "\u001b[34m}\n",
      "\u001b[0m\n",
      "\u001b[34mEnvironment variables:\n",
      "\u001b[0m\n",
      "\u001b[34mSM_MODULE_NAME=train\u001b[0m\n",
      "\u001b[34mSM_HP_EPOCHS=10\u001b[0m\n",
      "\u001b[34mSM_MODULE_DIR=s3://sagemaker-ap-south-1-832282571119/sagemaker-pytorch-2020-08-13-01-18-23-330/source/sourcedir.tar.gz\u001b[0m\n",
      "\u001b[34mSM_OUTPUT_DIR=/opt/ml/output\u001b[0m\n",
      "\u001b[34mSM_RESOURCE_CONFIG={\"current_host\":\"algo-1\",\"hosts\":[\"algo-1\"],\"network_interface_name\":\"eth0\"}\u001b[0m\n",
      "\u001b[34mSM_CHANNELS=[\"training\"]\u001b[0m\n",
      "\u001b[34mSM_NUM_GPUS=1\u001b[0m\n",
      "\u001b[34mSM_INPUT_DATA_CONFIG={\"training\":{\"RecordWrapperType\":\"None\",\"S3DistributionType\":\"FullyReplicated\",\"TrainingInputMode\":\"File\"}}\u001b[0m\n",
      "\u001b[34mSM_NUM_CPUS=4\u001b[0m\n",
      "\u001b[34mSM_INPUT_CONFIG_DIR=/opt/ml/input/config\u001b[0m\n",
      "\u001b[34mSM_MODEL_DIR=/opt/ml/model\u001b[0m\n",
      "\u001b[34mSM_FRAMEWORK_PARAMS={}\u001b[0m\n",
      "\u001b[34mSM_HPS={\"epochs\":10,\"hidden_dim\":200}\u001b[0m\n",
      "\u001b[34mSM_OUTPUT_DATA_DIR=/opt/ml/output/data\u001b[0m\n",
      "\u001b[34mSM_CURRENT_HOST=algo-1\u001b[0m\n",
      "\u001b[34mSM_TRAINING_ENV={\"additional_framework_parameters\":{},\"channel_input_dirs\":{\"training\":\"/opt/ml/input/data/training\"},\"current_host\":\"algo-1\",\"framework_module\":\"sagemaker_pytorch_container.training:main\",\"hosts\":[\"algo-1\"],\"hyperparameters\":{\"epochs\":10,\"hidden_dim\":200},\"input_config_dir\":\"/opt/ml/input/config\",\"input_data_config\":{\"training\":{\"RecordWrapperType\":\"None\",\"S3DistributionType\":\"FullyReplicated\",\"TrainingInputMode\":\"File\"}},\"input_dir\":\"/opt/ml/input\",\"job_name\":\"sagemaker-pytorch-2020-08-13-01-18-23-330\",\"log_level\":20,\"model_dir\":\"/opt/ml/model\",\"module_dir\":\"s3://sagemaker-ap-south-1-832282571119/sagemaker-pytorch-2020-08-13-01-18-23-330/source/sourcedir.tar.gz\",\"module_name\":\"train\",\"network_interface_name\":\"eth0\",\"num_cpus\":4,\"num_gpus\":1,\"output_data_dir\":\"/opt/ml/output/data\",\"output_dir\":\"/opt/ml/output\",\"output_intermediate_dir\":\"/opt/ml/output/intermediate\",\"resource_config\":{\"current_host\":\"algo-1\",\"hosts\":[\"algo-1\"],\"network_interface_name\":\"eth0\"},\"user_entry_point\":\"train.py\"}\u001b[0m\n",
      "\u001b[34mSM_HP_HIDDEN_DIM=200\u001b[0m\n",
      "\u001b[34mSM_CHANNEL_TRAINING=/opt/ml/input/data/training\u001b[0m\n",
      "\u001b[34mSM_FRAMEWORK_MODULE=sagemaker_pytorch_container.training:main\u001b[0m\n",
      "\u001b[34mSM_USER_ARGS=[\"--epochs\",\"10\",\"--hidden_dim\",\"200\"]\u001b[0m\n",
      "\u001b[34mSM_INPUT_DIR=/opt/ml/input\u001b[0m\n",
      "\u001b[34mSM_NETWORK_INTERFACE_NAME=eth0\u001b[0m\n",
      "\u001b[34mSM_USER_ENTRY_POINT=train.py\u001b[0m\n",
      "\u001b[34mSM_LOG_LEVEL=20\u001b[0m\n",
      "\u001b[34mSM_HOSTS=[\"algo-1\"]\u001b[0m\n",
      "\u001b[34mSM_OUTPUT_INTERMEDIATE_DIR=/opt/ml/output/intermediate\u001b[0m\n",
      "\u001b[34mPYTHONPATH=/usr/local/bin:/usr/lib/python35.zip:/usr/lib/python3.5:/usr/lib/python3.5/plat-x86_64-linux-gnu:/usr/lib/python3.5/lib-dynload:/usr/local/lib/python3.5/dist-packages:/usr/lib/python3/dist-packages\n",
      "\u001b[0m\n",
      "\u001b[34mInvoking script with the following command:\n",
      "\u001b[0m\n",
      "\u001b[34m/usr/bin/python -m train --epochs 10 --hidden_dim 200\n",
      "\n",
      "\u001b[0m\n",
      "\u001b[34mUsing device cuda.\u001b[0m\n",
      "\u001b[34mGet train data loader.\u001b[0m\n",
      "\u001b[34mModel loaded with embedding_dim 32, hidden_dim 200, vocab_size 5000.\u001b[0m\n",
      "\u001b[34mEpoch: 1, BCELoss: 0.6752870532931113\u001b[0m\n",
      "\u001b[34mEpoch: 2, BCELoss: 0.6505612402546163\u001b[0m\n",
      "\u001b[34mEpoch: 3, BCELoss: 0.5688405474837945\u001b[0m\n",
      "\u001b[34mEpoch: 4, BCELoss: 0.4719084057272697\u001b[0m\n",
      "\u001b[34mEpoch: 5, BCELoss: 0.40244406522536763\u001b[0m\n",
      "\u001b[34mEpoch: 6, BCELoss: 0.36031080569539753\u001b[0m\n",
      "\u001b[34mEpoch: 7, BCELoss: 0.33174416726949263\u001b[0m\n",
      "\u001b[34mEpoch: 8, BCELoss: 0.31039750758482487\u001b[0m\n",
      "\u001b[34mEpoch: 9, BCELoss: 0.3033759326350932\u001b[0m\n",
      "\u001b[34mEpoch: 10, BCELoss: 0.27540045794175594\u001b[0m\n",
      "\u001b[34m2020-08-13 01:25:27,684 sagemaker-containers INFO     Reporting training SUCCESS\u001b[0m\n",
      "\n",
      "2020-08-13 01:25:36 Uploading - Uploading generated training model\n",
      "2020-08-13 01:25:36 Completed - Training job completed\n",
      "Training seconds: 278\n",
      "Billable seconds: 278\n"
     ]
    }
   ],
   "source": [
    "estimator.fit({'training': input_data})"
   ]
  },
  {
   "cell_type": "markdown",
   "metadata": {},
   "source": [
    "## Step 5: Testing the model\n",
    "\n",
    "As mentioned at the top of this notebook, we will be testing this model by first deploying it and then sending the testing data to the deployed endpoint. We will do this so that we can make sure that the deployed model is working correctly.\n",
    "\n",
    "## Step 6: Deploy the model for testing\n",
    "\n",
    "Now that we have trained our model, we would like to test it to see how it performs. Currently our model takes input of the form `review_length, review[500]` where `review[500]` is a sequence of `500` integers which describe the words present in the review, encoded using `word_dict`. Fortunately for us, SageMaker provides built-in inference code for models with simple inputs such as this.\n",
    "\n",
    "There is one thing that we need to provide, however, and that is a function which loads the saved model. This function must be called `model_fn()` and takes as its only parameter a path to the directory where the model artifacts are stored. This function must also be present in the python file which we specified as the entry point. In our case the model loading function has been provided and so no changes need to be made.\n",
    "\n",
    "**NOTE**: When the built-in inference code is run it must import the `model_fn()` method from the `train.py` file. This is why the training code is wrapped in a main guard ( ie, `if __name__ == '__main__':` )\n",
    "\n",
    "Since we don't need to change anything in the code that was uploaded during training, we can simply deploy the current model as-is.\n",
    "\n",
    "**NOTE:** When deploying a model you are asking SageMaker to launch an compute instance that will wait for data to be sent to it. As a result, this compute instance will continue to run until *you* shut it down. This is important to know since the cost of a deployed endpoint depends on how long it has been running for.\n",
    "\n",
    "In other words **If you are no longer using a deployed endpoint, shut it down!**\n",
    "\n",
    "**TODO:** Deploy the trained model."
   ]
  },
  {
   "cell_type": "code",
   "execution_count": 29,
   "metadata": {},
   "outputs": [
    {
     "name": "stderr",
     "output_type": "stream",
     "text": [
      "Parameter image will be renamed to image_uri in SageMaker Python SDK v2.\n",
      "'create_image_uri' will be deprecated in favor of 'ImageURIProvider' class in SageMaker Python SDK v2.\n"
     ]
    },
    {
     "name": "stdout",
     "output_type": "stream",
     "text": [
      "-------------!"
     ]
    }
   ],
   "source": [
    "# TODO: Deploy the trained model\n",
    "predictor = estimator.deploy(initial_instance_count=1, instance_type='ml.m4.xlarge')"
   ]
  },
  {
   "cell_type": "markdown",
   "metadata": {},
   "source": [
    "## Step 7 - Use the model for testing\n",
    "\n",
    "Once deployed, we can read in the test data and send it off to our deployed model to get some results. Once we collect all of the results we can determine how accurate our model is."
   ]
  },
  {
   "cell_type": "code",
   "execution_count": 30,
   "metadata": {},
   "outputs": [],
   "source": [
    "test_X = pd.concat([pd.DataFrame(test_X_len), pd.DataFrame(test_X)], axis=1)"
   ]
  },
  {
   "cell_type": "code",
   "execution_count": 31,
   "metadata": {},
   "outputs": [],
   "source": [
    "# We split the data into chunks and send each chunk seperately, accumulating the results.\n",
    "\n",
    "def predict(data, rows=512):\n",
    "    split_array = np.array_split(data, int(data.shape[0] / float(rows) + 1))\n",
    "    predictions = np.array([])\n",
    "    for array in split_array:\n",
    "        predictions = np.append(predictions, predictor.predict(array))\n",
    "    \n",
    "    return predictions"
   ]
  },
  {
   "cell_type": "code",
   "execution_count": 32,
   "metadata": {},
   "outputs": [],
   "source": [
    "predictions = predict(test_X.values)\n",
    "predictions = [round(num) for num in predictions]"
   ]
  },
  {
   "cell_type": "code",
   "execution_count": 33,
   "metadata": {},
   "outputs": [
    {
     "data": {
      "text/plain": [
       "0.85508"
      ]
     },
     "execution_count": 33,
     "metadata": {},
     "output_type": "execute_result"
    }
   ],
   "source": [
    "from sklearn.metrics import accuracy_score\n",
    "accuracy_score(test_y, predictions)"
   ]
  },
  {
   "cell_type": "markdown",
   "metadata": {},
   "source": [
    "**Question:** How does this model compare to the XGBoost model you created earlier? Why might these two models perform differently on this dataset? Which do *you* think is better for sentiment analysis?"
   ]
  },
  {
   "cell_type": "markdown",
   "metadata": {},
   "source": [
    "**Answer:**\n",
    "\n",
    "The model gives accuracy `almost pretty similar` as XGBoost has given.\n",
    "\n",
    "In XGBoost we have used `Bag-Of-Words` and one thing that i came to know is that we can't run that model in gpu as it the algorithm can run only in cpu for now.(i.e talking in aws sagemaker)\n",
    "\n",
    "But our model can run in gpu and can save time.And can learn much more then XGBoost it.\n",
    "\n",
    "If dataset is **less** than i think XGBoost is **great** but as the data grows then it performs and computation will decrease.\n",
    "\n",
    "But if the dataset is **large** then our model is **best** for the sentiment analysis. So it depends purely on the dataset and I think our rnn model can outperform if we find best hyper-parameters as it could learn more as it gets more data."
   ]
  },
  {
   "cell_type": "markdown",
   "metadata": {},
   "source": [
    "### (TODO) More testing\n",
    "\n",
    "We now have a trained model which has been deployed and which we can send processed reviews to and which returns the predicted sentiment. However, ultimately we would like to be able to send our model an unprocessed review. That is, we would like to send the review itself as a string. For example, suppose we wish to send the following review to our model."
   ]
  },
  {
   "cell_type": "code",
   "execution_count": 34,
   "metadata": {},
   "outputs": [],
   "source": [
    "test_review = 'The simplest pleasures in life are the best, and this film is one of them. Combining a rather basic storyline of love and adventure this movie transcends the usual weekend fair with wit and unmitigated charm.'"
   ]
  },
  {
   "cell_type": "markdown",
   "metadata": {},
   "source": [
    "The question we now need to answer is, how do we send this review to our model?\n",
    "\n",
    "Recall in the first section of this notebook we did a bunch of data processing to the IMDb dataset. In particular, we did two specific things to the provided reviews.\n",
    " - Removed any html tags and stemmed the input\n",
    " - Encoded the review as a sequence of integers using `word_dict`\n",
    " \n",
    "In order process the review we will need to repeat these two steps.\n",
    "\n",
    "**TODO**: Using the `review_to_words` and `convert_and_pad` methods from section one, convert `test_review` into a numpy array `test_data` suitable to send to our model. Remember that our model expects input of the form `review_length, review[500]`."
   ]
  },
  {
   "cell_type": "code",
   "execution_count": 54,
   "metadata": {},
   "outputs": [
    {
     "name": "stdout",
     "output_type": "stream",
     "text": [
      "['simplest', 'pleasur', 'life', 'best', 'film', 'one', 'combin', 'rather', 'basic', 'storylin', 'love', 'adventur', 'movi', 'transcend', 'usual', 'weekend', 'fair', 'wit', 'unmitig', 'charm']\n",
      "[array([   1, 1374,   50,   53,    3,    4,  878,  173,  392,  682,   29,\n",
      "        724,    2, 4407,  275, 2077, 1059,  760,    1,  582,    0,    0,\n",
      "          0,    0,    0,    0,    0,    0,    0,    0,    0,    0,    0,\n",
      "          0,    0,    0,    0,    0,    0,    0,    0,    0,    0,    0,\n",
      "          0,    0,    0,    0,    0,    0,    0,    0,    0,    0,    0,\n",
      "          0,    0,    0,    0,    0,    0,    0,    0,    0,    0,    0,\n",
      "          0,    0,    0,    0,    0,    0,    0,    0,    0,    0,    0,\n",
      "          0,    0,    0,    0,    0,    0,    0,    0,    0,    0,    0,\n",
      "          0,    0,    0,    0,    0,    0,    0,    0,    0,    0,    0,\n",
      "          0,    0,    0,    0,    0,    0,    0,    0,    0,    0,    0,\n",
      "          0,    0,    0,    0,    0,    0,    0,    0,    0,    0,    0,\n",
      "          0,    0,    0,    0,    0,    0,    0,    0,    0,    0,    0,\n",
      "          0,    0,    0,    0,    0,    0,    0,    0,    0,    0,    0,\n",
      "          0,    0,    0,    0,    0,    0,    0,    0,    0,    0,    0,\n",
      "          0,    0,    0,    0,    0,    0,    0,    0,    0,    0,    0,\n",
      "          0,    0,    0,    0,    0,    0,    0,    0,    0,    0,    0,\n",
      "          0,    0,    0,    0,    0,    0,    0,    0,    0,    0,    0,\n",
      "          0,    0,    0,    0,    0,    0,    0,    0,    0,    0,    0,\n",
      "          0,    0,    0,    0,    0,    0,    0,    0,    0,    0,    0,\n",
      "          0,    0,    0,    0,    0,    0,    0,    0,    0,    0,    0,\n",
      "          0,    0,    0,    0,    0,    0,    0,    0,    0,    0,    0,\n",
      "          0,    0,    0,    0,    0,    0,    0,    0,    0,    0,    0,\n",
      "          0,    0,    0,    0,    0,    0,    0,    0,    0,    0,    0,\n",
      "          0,    0,    0,    0,    0,    0,    0,    0,    0,    0,    0,\n",
      "          0,    0,    0,    0,    0,    0,    0,    0,    0,    0,    0,\n",
      "          0,    0,    0,    0,    0,    0,    0,    0,    0,    0,    0,\n",
      "          0,    0,    0,    0,    0,    0,    0,    0,    0,    0,    0,\n",
      "          0,    0,    0,    0,    0,    0,    0,    0,    0,    0,    0,\n",
      "          0,    0,    0,    0,    0,    0,    0,    0,    0,    0,    0,\n",
      "          0,    0,    0,    0,    0,    0,    0,    0,    0,    0,    0,\n",
      "          0,    0,    0,    0,    0,    0,    0,    0,    0,    0,    0,\n",
      "          0,    0,    0,    0,    0,    0,    0,    0,    0,    0,    0,\n",
      "          0,    0,    0,    0,    0,    0,    0,    0,    0,    0,    0,\n",
      "          0,    0,    0,    0,    0,    0,    0,    0,    0,    0,    0,\n",
      "          0,    0,    0,    0,    0,    0,    0,    0,    0,    0,    0,\n",
      "          0,    0,    0,    0,    0,    0,    0,    0,    0,    0,    0,\n",
      "          0,    0,    0,    0,    0,    0,    0,    0,    0,    0,    0,\n",
      "          0,    0,    0,    0,    0,    0,    0,    0,    0,    0,    0,\n",
      "          0,    0,    0,    0,    0,    0,    0,    0,    0,    0,    0,\n",
      "          0,    0,    0,    0,    0,    0,    0,    0,    0,    0,    0,\n",
      "          0,    0,    0,    0,    0,    0,    0,    0,    0,    0,    0,\n",
      "          0,    0,    0,    0,    0,    0,    0,    0,    0,    0,    0,\n",
      "          0,    0,    0,    0,    0,    0,    0,    0,    0,    0,    0,\n",
      "          0,    0,    0,    0,    0,    0,    0,    0,    0,    0,    0,\n",
      "          0,    0,    0,    0,    0,    0,    0,    0,    0,    0,    0,\n",
      "          0,    0,    0,    0,    0])]\n",
      "<class 'list'>\n"
     ]
    }
   ],
   "source": [
    "# TODO: Convert test_review into a form usable by the model and save the results in test_data\n",
    "test_data = review_to_words(test_review)\n",
    "print(test_data)\n",
    "test_data = [np.array(convert_and_pad(word_dict,test_data)[0])]\n",
    "print(test_data)\n",
    "print(type(test_data))"
   ]
  },
  {
   "cell_type": "markdown",
   "metadata": {},
   "source": [
    "Now that we have processed the review, we can send the resulting array to our model to predict the sentiment of the review."
   ]
  },
  {
   "cell_type": "code",
   "execution_count": 55,
   "metadata": {},
   "outputs": [
    {
     "data": {
      "text/plain": [
       "array(0.6592865, dtype=float32)"
      ]
     },
     "execution_count": 55,
     "metadata": {},
     "output_type": "execute_result"
    }
   ],
   "source": [
    "predictor.predict(test_data)"
   ]
  },
  {
   "cell_type": "markdown",
   "metadata": {},
   "source": [
    "Since the return value of our model is close to `1`, we can be certain that the review we submitted is positive."
   ]
  },
  {
   "cell_type": "markdown",
   "metadata": {},
   "source": [
    "### Delete the endpoint\n",
    "\n",
    "Of course, just like in the XGBoost notebook, once we've deployed an endpoint it continues to run until we tell it to shut down. Since we are done using our endpoint for now, we can delete it."
   ]
  },
  {
   "cell_type": "code",
   "execution_count": 56,
   "metadata": {},
   "outputs": [
    {
     "name": "stderr",
     "output_type": "stream",
     "text": [
      "estimator.delete_endpoint() will be deprecated in SageMaker Python SDK v2. Please use the delete_endpoint() function on your predictor instead.\n"
     ]
    }
   ],
   "source": [
    "estimator.delete_endpoint()"
   ]
  },
  {
   "cell_type": "markdown",
   "metadata": {},
   "source": [
    "## Step 6 (again) - Deploy the model for the web app\n",
    "\n",
    "Now that we know that our model is working, it's time to create some custom inference code so that we can send the model a review which has not been processed and have it determine the sentiment of the review.\n",
    "\n",
    "As we saw above, by default the estimator which we created, when deployed, will use the entry script and directory which we provided when creating the model. However, since we now wish to accept a string as input and our model expects a processed review, we need to write some custom inference code.\n",
    "\n",
    "We will store the code that we write in the `serve` directory. Provided in this directory is the `model.py` file that we used to construct our model, a `utils.py` file which contains the `review_to_words` and `convert_and_pad` pre-processing functions which we used during the initial data processing, and `predict.py`, the file which will contain our custom inference code. Note also that `requirements.txt` is present which will tell SageMaker what Python libraries are required by our custom inference code.\n",
    "\n",
    "When deploying a PyTorch model in SageMaker, you are expected to provide four functions which the SageMaker inference container will use.\n",
    " - `model_fn`: This function is the same function that we used in the training script and it tells SageMaker how to load our model.\n",
    " - `input_fn`: This function receives the raw serialized input that has been sent to the model's endpoint and its job is to de-serialize and make the input available for the inference code.\n",
    " - `output_fn`: This function takes the output of the inference code and its job is to serialize this output and return it to the caller of the model's endpoint.\n",
    " - `predict_fn`: The heart of the inference script, this is where the actual prediction is done and is the function which you will need to complete.\n",
    "\n",
    "For the simple website that we are constructing during this project, the `input_fn` and `output_fn` methods are relatively straightforward. We only require being able to accept a string as input and we expect to return a single value as output. You might imagine though that in a more complex application the input or output may be image data or some other binary data which would require some effort to serialize.\n",
    "\n",
    "### (TODO) Writing inference code\n",
    "\n",
    "Before writing our custom inference code, we will begin by taking a look at the code which has been provided."
   ]
  },
  {
   "cell_type": "code",
   "execution_count": 57,
   "metadata": {},
   "outputs": [
    {
     "name": "stdout",
     "output_type": "stream",
     "text": [
      "\u001b[34mimport\u001b[39;49;00m \u001b[04m\u001b[36margparse\u001b[39;49;00m\r\n",
      "\u001b[34mimport\u001b[39;49;00m \u001b[04m\u001b[36mjson\u001b[39;49;00m\r\n",
      "\u001b[34mimport\u001b[39;49;00m \u001b[04m\u001b[36mos\u001b[39;49;00m\r\n",
      "\u001b[34mimport\u001b[39;49;00m \u001b[04m\u001b[36mpickle\u001b[39;49;00m\r\n",
      "\u001b[34mimport\u001b[39;49;00m \u001b[04m\u001b[36msys\u001b[39;49;00m\r\n",
      "\u001b[34mimport\u001b[39;49;00m \u001b[04m\u001b[36msagemaker_containers\u001b[39;49;00m\r\n",
      "\u001b[34mimport\u001b[39;49;00m \u001b[04m\u001b[36mpandas\u001b[39;49;00m \u001b[34mas\u001b[39;49;00m \u001b[04m\u001b[36mpd\u001b[39;49;00m\r\n",
      "\u001b[34mimport\u001b[39;49;00m \u001b[04m\u001b[36mnumpy\u001b[39;49;00m \u001b[34mas\u001b[39;49;00m \u001b[04m\u001b[36mnp\u001b[39;49;00m\r\n",
      "\u001b[34mimport\u001b[39;49;00m \u001b[04m\u001b[36mtorch\u001b[39;49;00m\r\n",
      "\u001b[34mimport\u001b[39;49;00m \u001b[04m\u001b[36mtorch\u001b[39;49;00m\u001b[04m\u001b[36m.\u001b[39;49;00m\u001b[04m\u001b[36mnn\u001b[39;49;00m \u001b[34mas\u001b[39;49;00m \u001b[04m\u001b[36mnn\u001b[39;49;00m\r\n",
      "\u001b[34mimport\u001b[39;49;00m \u001b[04m\u001b[36mtorch\u001b[39;49;00m\u001b[04m\u001b[36m.\u001b[39;49;00m\u001b[04m\u001b[36moptim\u001b[39;49;00m \u001b[34mas\u001b[39;49;00m \u001b[04m\u001b[36moptim\u001b[39;49;00m\r\n",
      "\u001b[34mimport\u001b[39;49;00m \u001b[04m\u001b[36mtorch\u001b[39;49;00m\u001b[04m\u001b[36m.\u001b[39;49;00m\u001b[04m\u001b[36mutils\u001b[39;49;00m\u001b[04m\u001b[36m.\u001b[39;49;00m\u001b[04m\u001b[36mdata\u001b[39;49;00m\r\n",
      "\r\n",
      "\u001b[34mfrom\u001b[39;49;00m \u001b[04m\u001b[36mmodel\u001b[39;49;00m \u001b[34mimport\u001b[39;49;00m LSTMClassifier\r\n",
      "\r\n",
      "\u001b[34mfrom\u001b[39;49;00m \u001b[04m\u001b[36mutils\u001b[39;49;00m \u001b[34mimport\u001b[39;49;00m review_to_words, convert_and_pad\r\n",
      "\r\n",
      "\u001b[34mdef\u001b[39;49;00m \u001b[32mmodel_fn\u001b[39;49;00m(model_dir):\r\n",
      "    \u001b[33m\"\"\"Load the PyTorch model from the `model_dir` directory.\"\"\"\u001b[39;49;00m\r\n",
      "    \u001b[36mprint\u001b[39;49;00m(\u001b[33m\"\u001b[39;49;00m\u001b[33mLoading model.\u001b[39;49;00m\u001b[33m\"\u001b[39;49;00m)\r\n",
      "\r\n",
      "    \u001b[37m# First, load the parameters used to create the model.\u001b[39;49;00m\r\n",
      "    model_info = {}\r\n",
      "    model_info_path = os.path.join(model_dir, \u001b[33m'\u001b[39;49;00m\u001b[33mmodel_info.pth\u001b[39;49;00m\u001b[33m'\u001b[39;49;00m)\r\n",
      "    \u001b[34mwith\u001b[39;49;00m \u001b[36mopen\u001b[39;49;00m(model_info_path, \u001b[33m'\u001b[39;49;00m\u001b[33mrb\u001b[39;49;00m\u001b[33m'\u001b[39;49;00m) \u001b[34mas\u001b[39;49;00m f:\r\n",
      "        model_info = torch.load(f)\r\n",
      "\r\n",
      "    \u001b[36mprint\u001b[39;49;00m(\u001b[33m\"\u001b[39;49;00m\u001b[33mmodel_info: \u001b[39;49;00m\u001b[33m{}\u001b[39;49;00m\u001b[33m\"\u001b[39;49;00m.format(model_info))\r\n",
      "\r\n",
      "    \u001b[37m# Determine the device and construct the model.\u001b[39;49;00m\r\n",
      "    device = torch.device(\u001b[33m\"\u001b[39;49;00m\u001b[33mcuda\u001b[39;49;00m\u001b[33m\"\u001b[39;49;00m \u001b[34mif\u001b[39;49;00m torch.cuda.is_available() \u001b[34melse\u001b[39;49;00m \u001b[33m\"\u001b[39;49;00m\u001b[33mcpu\u001b[39;49;00m\u001b[33m\"\u001b[39;49;00m)\r\n",
      "    model = LSTMClassifier(model_info[\u001b[33m'\u001b[39;49;00m\u001b[33membedding_dim\u001b[39;49;00m\u001b[33m'\u001b[39;49;00m], model_info[\u001b[33m'\u001b[39;49;00m\u001b[33mhidden_dim\u001b[39;49;00m\u001b[33m'\u001b[39;49;00m], model_info[\u001b[33m'\u001b[39;49;00m\u001b[33mvocab_size\u001b[39;49;00m\u001b[33m'\u001b[39;49;00m])\r\n",
      "\r\n",
      "    \u001b[37m# Load the store model parameters.\u001b[39;49;00m\r\n",
      "    model_path = os.path.join(model_dir, \u001b[33m'\u001b[39;49;00m\u001b[33mmodel.pth\u001b[39;49;00m\u001b[33m'\u001b[39;49;00m)\r\n",
      "    \u001b[34mwith\u001b[39;49;00m \u001b[36mopen\u001b[39;49;00m(model_path, \u001b[33m'\u001b[39;49;00m\u001b[33mrb\u001b[39;49;00m\u001b[33m'\u001b[39;49;00m) \u001b[34mas\u001b[39;49;00m f:\r\n",
      "        model.load_state_dict(torch.load(f))\r\n",
      "\r\n",
      "    \u001b[37m# Load the saved word_dict.\u001b[39;49;00m\r\n",
      "    word_dict_path = os.path.join(model_dir, \u001b[33m'\u001b[39;49;00m\u001b[33mword_dict.pkl\u001b[39;49;00m\u001b[33m'\u001b[39;49;00m)\r\n",
      "    \u001b[34mwith\u001b[39;49;00m \u001b[36mopen\u001b[39;49;00m(word_dict_path, \u001b[33m'\u001b[39;49;00m\u001b[33mrb\u001b[39;49;00m\u001b[33m'\u001b[39;49;00m) \u001b[34mas\u001b[39;49;00m f:\r\n",
      "        model.word_dict = pickle.load(f)\r\n",
      "\r\n",
      "    model.to(device).eval()\r\n",
      "\r\n",
      "    \u001b[36mprint\u001b[39;49;00m(\u001b[33m\"\u001b[39;49;00m\u001b[33mDone loading model.\u001b[39;49;00m\u001b[33m\"\u001b[39;49;00m)\r\n",
      "    \u001b[34mreturn\u001b[39;49;00m model\r\n",
      "\r\n",
      "\u001b[34mdef\u001b[39;49;00m \u001b[32minput_fn\u001b[39;49;00m(serialized_input_data, content_type):\r\n",
      "    \u001b[36mprint\u001b[39;49;00m(\u001b[33m'\u001b[39;49;00m\u001b[33mDeserializing the input data.\u001b[39;49;00m\u001b[33m'\u001b[39;49;00m)\r\n",
      "    \u001b[34mif\u001b[39;49;00m content_type == \u001b[33m'\u001b[39;49;00m\u001b[33mtext/plain\u001b[39;49;00m\u001b[33m'\u001b[39;49;00m:\r\n",
      "        data = serialized_input_data.decode(\u001b[33m'\u001b[39;49;00m\u001b[33mutf-8\u001b[39;49;00m\u001b[33m'\u001b[39;49;00m)\r\n",
      "        \u001b[34mreturn\u001b[39;49;00m data\r\n",
      "    \u001b[34mraise\u001b[39;49;00m \u001b[36mException\u001b[39;49;00m(\u001b[33m'\u001b[39;49;00m\u001b[33mRequested unsupported ContentType in content_type: \u001b[39;49;00m\u001b[33m'\u001b[39;49;00m + content_type)\r\n",
      "\r\n",
      "\u001b[34mdef\u001b[39;49;00m \u001b[32moutput_fn\u001b[39;49;00m(prediction_output, accept):\r\n",
      "    \u001b[36mprint\u001b[39;49;00m(\u001b[33m'\u001b[39;49;00m\u001b[33mSerializing the generated output.\u001b[39;49;00m\u001b[33m'\u001b[39;49;00m)\r\n",
      "    \u001b[34mreturn\u001b[39;49;00m \u001b[36mstr\u001b[39;49;00m(prediction_output)\r\n",
      "\r\n",
      "\u001b[34mdef\u001b[39;49;00m \u001b[32mpredict_fn\u001b[39;49;00m(input_data, model):\r\n",
      "    \u001b[36mprint\u001b[39;49;00m(\u001b[33m'\u001b[39;49;00m\u001b[33mInferring sentiment of input data.\u001b[39;49;00m\u001b[33m'\u001b[39;49;00m)\r\n",
      "\r\n",
      "    device = torch.device(\u001b[33m\"\u001b[39;49;00m\u001b[33mcuda\u001b[39;49;00m\u001b[33m\"\u001b[39;49;00m \u001b[34mif\u001b[39;49;00m torch.cuda.is_available() \u001b[34melse\u001b[39;49;00m \u001b[33m\"\u001b[39;49;00m\u001b[33mcpu\u001b[39;49;00m\u001b[33m\"\u001b[39;49;00m)\r\n",
      "    \r\n",
      "    \u001b[34mif\u001b[39;49;00m model.word_dict \u001b[35mis\u001b[39;49;00m \u001b[34mNone\u001b[39;49;00m:\r\n",
      "        \u001b[34mraise\u001b[39;49;00m \u001b[36mException\u001b[39;49;00m(\u001b[33m'\u001b[39;49;00m\u001b[33mModel has not been loaded properly, no word_dict.\u001b[39;49;00m\u001b[33m'\u001b[39;49;00m)\r\n",
      "    \r\n",
      "    \u001b[37m# TODO: Process input_data so that it is ready to be sent to our model.\u001b[39;49;00m\r\n",
      "    \u001b[37m#       You should produce two variables:\u001b[39;49;00m\r\n",
      "    \u001b[37m#         data_X   - A sequence of length 500 which represents the converted review\u001b[39;49;00m\r\n",
      "    \u001b[37m#         data_len - The length of the review\u001b[39;49;00m\r\n",
      "\r\n",
      "    data_X = \u001b[34mNone\u001b[39;49;00m\r\n",
      "    data_len = \u001b[34mNone\u001b[39;49;00m\r\n",
      "\r\n",
      "    \u001b[37m# Using data_X and data_len we construct an appropriate input tensor. Remember\u001b[39;49;00m\r\n",
      "    \u001b[37m# that our model expects input data of the form 'len, review[500]'.\u001b[39;49;00m\r\n",
      "    data_pack = np.hstack((data_len, data_X))\r\n",
      "    data_pack = data_pack.reshape(\u001b[34m1\u001b[39;49;00m, -\u001b[34m1\u001b[39;49;00m)\r\n",
      "    \r\n",
      "    data = torch.from_numpy(data_pack)\r\n",
      "    data = data.to(device)\r\n",
      "\r\n",
      "    \u001b[37m# Make sure to put the model into evaluation mode\u001b[39;49;00m\r\n",
      "    model.eval()\r\n",
      "\r\n",
      "    \u001b[37m# TODO: Compute the result of applying the model to the input data. The variable `result` should\u001b[39;49;00m\r\n",
      "    \u001b[37m#       be a numpy array which contains a single integer which is either 1 or 0\u001b[39;49;00m\r\n",
      "\r\n",
      "    result = \u001b[34mNone\u001b[39;49;00m\r\n",
      "\r\n",
      "    \u001b[34mreturn\u001b[39;49;00m result\r\n"
     ]
    }
   ],
   "source": [
    "!pygmentize serve/predict.py"
   ]
  },
  {
   "cell_type": "markdown",
   "metadata": {},
   "source": [
    "As mentioned earlier, the `model_fn` method is the same as the one provided in the training code and the `input_fn` and `output_fn` methods are very simple and your task will be to complete the `predict_fn` method. Make sure that you save the completed file as `predict.py` in the `serve` directory.\n",
    "\n",
    "**TODO**: Complete the `predict_fn()` method in the `serve/predict.py` file."
   ]
  },
  {
   "cell_type": "markdown",
   "metadata": {},
   "source": [
    "### Deploying the model\n",
    "\n",
    "Now that the custom inference code has been written, we will create and deploy our model. To begin with, we need to construct a new PyTorchModel object which points to the model artifacts created during training and also points to the inference code that we wish to use. Then we can call the deploy method to launch the deployment container.\n",
    "\n",
    "**NOTE**: The default behaviour for a deployed PyTorch model is to assume that any input passed to the predictor is a `numpy` array. In our case we want to send a string so we need to construct a simple wrapper around the `RealTimePredictor` class to accomodate simple strings. In a more complicated situation you may want to provide a serialization object, for example if you wanted to sent image data."
   ]
  },
  {
   "cell_type": "code",
   "execution_count": 64,
   "metadata": {},
   "outputs": [
    {
     "name": "stderr",
     "output_type": "stream",
     "text": [
      "Parameter image will be renamed to image_uri in SageMaker Python SDK v2.\n",
      "'create_image_uri' will be deprecated in favor of 'ImageURIProvider' class in SageMaker Python SDK v2.\n"
     ]
    },
    {
     "name": "stdout",
     "output_type": "stream",
     "text": [
      "---------------!"
     ]
    }
   ],
   "source": [
    "from sagemaker.predictor import RealTimePredictor\n",
    "from sagemaker.pytorch import PyTorchModel\n",
    "\n",
    "class StringPredictor(RealTimePredictor):\n",
    "    def __init__(self, endpoint_name, sagemaker_session):\n",
    "        super(StringPredictor, self).__init__(endpoint_name, sagemaker_session, content_type='text/plain')\n",
    "\n",
    "model = PyTorchModel(model_data=estimator.model_data,\n",
    "                     role = role,\n",
    "                     framework_version='0.4.0',\n",
    "                     entry_point='predict.py',\n",
    "                     source_dir='serve',\n",
    "                     predictor_cls=StringPredictor)\n",
    "predictor = model.deploy(initial_instance_count=1, instance_type='ml.m4.xlarge')"
   ]
  },
  {
   "cell_type": "markdown",
   "metadata": {},
   "source": [
    "### Testing the model\n",
    "\n",
    "Now that we have deployed our model with the custom inference code, we should test to see if everything is working. Here we test our model by loading the first `250` positive and negative reviews and send them to the endpoint, then collect the results. The reason for only sending some of the data is that the amount of time it takes for our model to process the input and then perform inference is quite long and so testing the entire data set would be prohibitive."
   ]
  },
  {
   "cell_type": "code",
   "execution_count": 114,
   "metadata": {},
   "outputs": [],
   "source": [
    "import glob\n",
    "\n",
    "def test_reviews(data_dir='../data/aclImdb', stop=250):\n",
    "    \n",
    "    results = []\n",
    "    ground = []\n",
    "    \n",
    "    # We make sure to test both positive and negative reviews    \n",
    "    for sentiment in ['pos', 'neg']:\n",
    "        \n",
    "        path = os.path.join(data_dir, 'test', sentiment, '*.txt')\n",
    "        files = glob.glob(path)\n",
    "        \n",
    "        files_read = 0\n",
    "        \n",
    "        print('Starting ', sentiment, ' files')\n",
    "        \n",
    "        # Iterate through the files and send them to the predictor\n",
    "        for f in files:\n",
    "            with open(f) as review:\n",
    "                # First, we store the ground truth (was the review positive or negative)\n",
    "                if sentiment == 'pos':\n",
    "                    ground.append(1)\n",
    "                else:\n",
    "                    ground.append(0)\n",
    "               # Read in the review and convert to 'utf-8' for transmission via HTTP\n",
    "                review_input = review.read().encode('utf-8')\n",
    "                # Send the review to the predictor and store the results\n",
    "                result_s = predictor.predict(review_input).decode('UTF-8')\n",
    "                result_s = int(float(result_s))\n",
    "                # review_input = int.from_bytes(review_input, byteorder='big', signed=True)\n",
    "                # print(result_s)\n",
    "                results.append(result_s)\n",
    "                \n",
    "            # Sending reviews to our endpoint one at a time takes a while so we\n",
    "            # only send a small number of reviews\n",
    "            files_read += 1\n",
    "            if files_read == stop:\n",
    "                break\n",
    "            \n",
    "    return ground, results"
   ]
  },
  {
   "cell_type": "code",
   "execution_count": 115,
   "metadata": {},
   "outputs": [
    {
     "name": "stdout",
     "output_type": "stream",
     "text": [
      "Starting  pos  files\n",
      "Starting  neg  files\n"
     ]
    }
   ],
   "source": [
    "ground, results = test_reviews()"
   ]
  },
  {
   "cell_type": "code",
   "execution_count": 86,
   "metadata": {},
   "outputs": [
    {
     "data": {
      "text/plain": [
       "0.874"
      ]
     },
     "execution_count": 86,
     "metadata": {},
     "output_type": "execute_result"
    }
   ],
   "source": [
    "from sklearn.metrics import accuracy_score\n",
    "accuracy_score(ground, results)"
   ]
  },
  {
   "cell_type": "markdown",
   "metadata": {},
   "source": [
    "As an additional test, we can try sending the `test_review` that we looked at earlier."
   ]
  },
  {
   "cell_type": "code",
   "execution_count": 109,
   "metadata": {},
   "outputs": [
    {
     "data": {
      "text/plain": [
       "b'1.0'"
      ]
     },
     "execution_count": 109,
     "metadata": {},
     "output_type": "execute_result"
    }
   ],
   "source": [
    "predictor.predict(test_review)"
   ]
  },
  {
   "cell_type": "markdown",
   "metadata": {},
   "source": [
    "Now that we know our endpoint is working as expected, we can set up the web page that will interact with it. If you don't have time to finish the project now, make sure to skip down to the end of this notebook and shut down your endpoint. You can deploy it again when you come back."
   ]
  },
  {
   "cell_type": "markdown",
   "metadata": {},
   "source": [
    "## Step 7 (again): Use the model for the web app\n",
    "\n",
    "> **TODO:** This entire section and the next contain tasks for you to complete, mostly using the AWS console.\n",
    "\n",
    "So far we have been accessing our model endpoint by constructing a predictor object which uses the endpoint and then just using the predictor object to perform inference. What if we wanted to create a web app which accessed our model? The way things are set up currently makes that not possible since in order to access a SageMaker endpoint the app would first have to authenticate with AWS using an IAM role which included access to SageMaker endpoints. However, there is an easier way! We just need to use some additional AWS services.\n",
    "\n",
    "<img src=\"Web App Diagram.svg\">\n",
    "\n",
    "The diagram above gives an overview of how the various services will work together. On the far right is the model which we trained above and which is deployed using SageMaker. On the far left is our web app that collects a user's movie review, sends it off and expects a positive or negative sentiment in return.\n",
    "\n",
    "In the middle is where some of the magic happens. We will construct a Lambda function, which you can think of as a straightforward Python function that can be executed whenever a specified event occurs. We will give this function permission to send and recieve data from a SageMaker endpoint.\n",
    "\n",
    "Lastly, the method we will use to execute the Lambda function is a new endpoint that we will create using API Gateway. This endpoint will be a url that listens for data to be sent to it. Once it gets some data it will pass that data on to the Lambda function and then return whatever the Lambda function returns. Essentially it will act as an interface that lets our web app communicate with the Lambda function.\n",
    "\n",
    "### Setting up a Lambda function\n",
    "\n",
    "The first thing we are going to do is set up a Lambda function. This Lambda function will be executed whenever our public API has data sent to it. When it is executed it will receive the data, perform any sort of processing that is required, send the data (the review) to the SageMaker endpoint we've created and then return the result.\n",
    "\n",
    "#### Part A: Create an IAM Role for the Lambda function\n",
    "\n",
    "Since we want the Lambda function to call a SageMaker endpoint, we need to make sure that it has permission to do so. To do this, we will construct a role that we can later give the Lambda function.\n",
    "\n",
    "Using the AWS Console, navigate to the **IAM** page and click on **Roles**. Then, click on **Create role**. Make sure that the **AWS service** is the type of trusted entity selected and choose **Lambda** as the service that will use this role, then click **Next: Permissions**.\n",
    "\n",
    "In the search box type `sagemaker` and select the check box next to the **AmazonSageMakerFullAccess** policy. Then, click on **Next: Review**.\n",
    "\n",
    "Lastly, give this role a name. Make sure you use a name that you will remember later on, for example `LambdaSageMakerRole`. Then, click on **Create role**.\n",
    "\n",
    "#### Part B: Create a Lambda function\n",
    "\n",
    "Now it is time to actually create the Lambda function.\n",
    "\n",
    "Using the AWS Console, navigate to the AWS Lambda page and click on **Create a function**. When you get to the next page, make sure that **Author from scratch** is selected. Now, name your Lambda function, using a name that you will remember later on, for example `sentiment_analysis_func`. Make sure that the **Python 3.6** runtime is selected and then choose the role that you created in the previous part. Then, click on **Create Function**.\n",
    "\n",
    "On the next page you will see some information about the Lambda function you've just created. If you scroll down you should see an editor in which you can write the code that will be executed when your Lambda function is triggered. In our example, we will use the code below. \n",
    "\n",
    "```python\n",
    "# We need to use the low-level library to interact with SageMaker since the SageMaker API\n",
    "# is not available natively through Lambda.\n",
    "import boto3\n",
    "\n",
    "def lambda_handler(event, context):\n",
    "\n",
    "    # The SageMaker runtime is what allows us to invoke the endpoint that we've created.\n",
    "    runtime = boto3.Session().client('sagemaker-runtime')\n",
    "\n",
    "    # Now we use the SageMaker runtime to invoke our endpoint, sending the review we were given\n",
    "    response = runtime.invoke_endpoint(EndpointName = '**ENDPOINT NAME HERE**',    # The name of the endpoint we created\n",
    "                                       ContentType = 'text/plain',                 # The data format that is expected\n",
    "                                       Body = event['body'])                       # The actual review\n",
    "\n",
    "    # The response is an HTTP response whose body contains the result of our inference\n",
    "    result = response['Body'].read().decode('utf-8')\n",
    "\n",
    "    return {\n",
    "        'statusCode' : 200,\n",
    "        'headers' : { 'Content-Type' : 'text/plain', 'Access-Control-Allow-Origin' : '*' },\n",
    "        'body' : result\n",
    "    }\n",
    "```\n",
    "\n",
    "Once you have copy and pasted the code above into the Lambda code editor, replace the `**ENDPOINT NAME HERE**` portion with the name of the endpoint that we deployed earlier. You can determine the name of the endpoint using the code cell below."
   ]
  },
  {
   "cell_type": "code",
   "execution_count": 113,
   "metadata": {},
   "outputs": [
    {
     "data": {
      "text/plain": [
       "'sagemaker-pytorch-2020-08-13-03-18-49-559'"
      ]
     },
     "execution_count": 113,
     "metadata": {},
     "output_type": "execute_result"
    }
   ],
   "source": [
    "predictor.endpoint"
   ]
  },
  {
   "cell_type": "markdown",
   "metadata": {},
   "source": [
    "Once you have added the endpoint name to the Lambda function, click on **Save**. Your Lambda function is now up and running. Next we need to create a way for our web app to execute the Lambda function.\n",
    "\n",
    "### Setting up API Gateway\n",
    "\n",
    "Now that our Lambda function is set up, it is time to create a new API using API Gateway that will trigger the Lambda function we have just created.\n",
    "\n",
    "Using AWS Console, navigate to **Amazon API Gateway** and then click on **Get started**.\n",
    "\n",
    "On the next page, make sure that **New API** is selected and give the new api a name, for example, `sentiment_analysis_api`. Then, click on **Create API**.\n",
    "\n",
    "Now we have created an API, however it doesn't currently do anything. What we want it to do is to trigger the Lambda function that we created earlier.\n",
    "\n",
    "Select the **Actions** dropdown menu and click **Create Method**. A new blank method will be created, select its dropdown menu and select **POST**, then click on the check mark beside it.\n",
    "\n",
    "For the integration point, make sure that **Lambda Function** is selected and click on the **Use Lambda Proxy integration**. This option makes sure that the data that is sent to the API is then sent directly to the Lambda function with no processing. It also means that the return value must be a proper response object as it will also not be processed by API Gateway.\n",
    "\n",
    "Type the name of the Lambda function you created earlier into the **Lambda Function** text entry box and then click on **Save**. Click on **OK** in the pop-up box that then appears, giving permission to API Gateway to invoke the Lambda function you created.\n",
    "\n",
    "The last step in creating the API Gateway is to select the **Actions** dropdown and click on **Deploy API**. You will need to create a new Deployment stage and name it anything you like, for example `prod`.\n",
    "\n",
    "You have now successfully set up a public API to access your SageMaker model. Make sure to copy or write down the URL provided to invoke your newly created public API as this will be needed in the next step. This URL can be found at the top of the page, highlighted in blue next to the text **Invoke URL**."
   ]
  },
  {
   "cell_type": "markdown",
   "metadata": {},
   "source": [
    "## Step 4: Deploying our web app\n",
    "\n",
    "Now that we have a publicly available API, we can start using it in a web app. For our purposes, we have provided a simple static html file which can make use of the public api you created earlier.\n",
    "\n",
    "In the `website` folder there should be a file called `index.html`. Download the file to your computer and open that file up in a text editor of your choice. There should be a line which contains **\\*\\*REPLACE WITH PUBLIC API URL\\*\\***. Replace this string with the url that you wrote down in the last step and then save the file.\n",
    "\n",
    "Now, if you open `index.html` on your local computer, your browser will behave as a local web server and you can use the provided site to interact with your SageMaker model.\n",
    "\n",
    "If you'd like to go further, you can host this html file anywhere you'd like, for example using github or hosting a static site on Amazon's S3. Once you have done this you can share the link with anyone you'd like and have them play with it too!\n",
    "\n",
    "> **Important Note** In order for the web app to communicate with the SageMaker endpoint, the endpoint has to actually be deployed and running. This means that you are paying for it. Make sure that the endpoint is running when you want to use the web app but that you shut it down when you don't need it, otherwise you will end up with a surprisingly large AWS bill.\n",
    "\n",
    "**TODO:** Make sure that you include the edited `index.html` file in your project submission."
   ]
  },
  {
   "cell_type": "markdown",
   "metadata": {},
   "source": [
    "Now that your web app is working, trying playing around with it and see how well it works.\n",
    "\n",
    "**Question**: Give an example of a review that you entered into your web app. What was the predicted sentiment of your example review?"
   ]
  },
  {
   "cell_type": "markdown",
   "metadata": {},
   "source": [
    "**Answer:**\n",
    "\n",
    "I have test my review and 4 out of 5 are correct. SO i decided to test on real-time review taken from IMBD from randome movie and the model done great."
   ]
  },
  {
   "cell_type": "markdown",
   "metadata": {},
   "source": [
    "---\n",
    "A negative rating for Negative.\n",
    "\n",
    "I'm not sure what accomplished director/producer/cinematographer Joshua Caldwell was thinking taking on this project.\n",
    "\n",
    "This film has got to be the epitome of terrible writing and should be a classroom example of 'what not to do' when writing a screenplay. Why would Joshua take on (clearly) amateur writer Adam Gaines script is beyond me. Even his good directing and excellent cinematography could not save this disaster.\n",
    "\n",
    "Aside from the super obvious plot holes and very poor story overall, the dragged-out unnecessary dialogue made this film unbearable and extremely boring. The way too long 1h 39min film length felt like 4 hours and I found myself saying \"get on with it already, who cares!\" when the two leads would just ramble on about nothing relevant. This movie may have been interesting if it was a 30 min short film (which oddly enough is the only minimal writing experience Adam Gaines has).\n",
    "\n",
    "`-- Negative`\n",
    "\n"
   ]
  },
  {
   "cell_type": "markdown",
   "metadata": {},
   "source": [
    "---\n",
    "A negative rating for Negative.\n",
    "\n",
    "I'm not sure what accomplished director/producer/cinematographer Joshua Caldwell was thinking taking on this project.\n",
    "\n",
    "This film has got to be the epitome of terrible writing and should be a classroom example of 'what not to do' when writing a screenplay. Why would Joshua take on (clearly) amateur writer Adam Gaines script is beyond me. Even his good directing and excellent cinematography could not save this disaster.\n",
    "\n",
    "Aside from the super obvious plot holes and very poor story overall, the dragged-out unnecessary dialogue made this film unbearable and extremely boring. The way too long 1h 39min film length felt like 4 hours and I found myself saying \"get on with it already, who cares!\" when the two leads would just ramble on about nothing relevant. This movie may have been interesting if it was a 30 min short film (which oddly enough is the only minimal writing experience Adam Gaines has).\n",
    "\n",
    "`-- Negative`"
   ]
  },
  {
   "cell_type": "markdown",
   "metadata": {},
   "source": [
    "---\n",
    "Have to write to defend this... it's a perfectly decent film.\n",
    "\n",
    "Katia Winter (Natalie) is good, captivating even, and everyone else is fine where, except for the photographer, they perform calm, minimalist characters. It fits with the mood of the film, some nice contemplative scenes, and dialog that, while others have said is weak, is also fine. Bits of mundane, predictable conversation isn't so far from real life I suspect, and I think it adds to the film, to keep it 'small'.\n",
    "\n",
    "`-- Positive`"
   ]
  },
  {
   "cell_type": "markdown",
   "metadata": {},
   "source": [
    "---\n",
    "Negative is a rare treat. It is a limited budget Indie action film that has the look, feel, and heartfelt acting of a high-quality big budget movie. Katia Winter gives Academy Award worthy performance. Would be terrific to see on the big screen. No spoilers. Just sit back and enjoy as the story unfolds. Would Rate as 12 if possible.\n",
    "\n",
    "`--Positive`"
   ]
  },
  {
   "cell_type": "markdown",
   "metadata": {},
   "source": [
    "### Delete the endpoint\n",
    "\n",
    "Remember to always shut down your endpoint if you are no longer using it. You are charged for the length of time that the endpoint is running so if you forget and leave it on you could end up with an unexpectedly large bill."
   ]
  },
  {
   "cell_type": "code",
   "execution_count": 116,
   "metadata": {},
   "outputs": [],
   "source": [
    "predictor.delete_endpoint()"
   ]
  },
  {
   "cell_type": "code",
   "execution_count": null,
   "metadata": {},
   "outputs": [],
   "source": []
  }
 ],
 "metadata": {
  "kernelspec": {
   "display_name": "conda_pytorch_p36",
   "language": "python",
   "name": "conda_pytorch_p36"
  },
  "language_info": {
   "codemirror_mode": {
    "name": "ipython",
    "version": 3
   },
   "file_extension": ".py",
   "mimetype": "text/x-python",
   "name": "python",
   "nbconvert_exporter": "python",
   "pygments_lexer": "ipython3",
   "version": "3.6.10"
  }
 },
 "nbformat": 4,
 "nbformat_minor": 2
}
